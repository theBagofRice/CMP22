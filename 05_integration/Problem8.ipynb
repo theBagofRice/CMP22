{
 "cells": [
  {
   "cell_type": "markdown",
   "metadata": {},
   "source": [
    "Computational modeling in python, SoSe2022\n",
    "\n",
    "# Numerical integration of functions (1)\n",
    "\n",
    "Given are the following functions:\n",
    "\n",
    "\\begin{align}\n",
    "    f_1(x) &= x\\left(x-3\\right)\\left(x+3\\right) \\\\\n",
    "    f_2(x) &= \\left| x \\right| \\\\\n",
    "    f_3(x) &= \\sin \\left(2.1x\\right)\\left(-\\frac{x}{2}\\right) \\\\\n",
    "    f_4(x) &= 1.6^x -1.5x \\\\\n",
    "    f_5(x,y) &= \\sin\\left(x+y\\right)\\tan\\left(0.1x\\right) \\\\\n",
    "    f_6(x,y) &= \\sin\\left(\\sqrt{5}+x\\right)y \n",
    "\\end{align}\n",
    "\n",
    "\\- courtesy of Anna Bardroff \\- "
   ]
  },
  {
   "cell_type": "code",
   "execution_count": 1,
   "metadata": {},
   "outputs": [],
   "source": [
    "from numpy import *\n",
    "import matplotlib.pyplot as plt\n",
    "\n",
    "def function1(x):\n",
    "    y = x*(x - 3)*(x + 3)\n",
    "    return y\n",
    "\n",
    "def function2(x):\n",
    "    y = abs(x)\n",
    "    return y\n",
    "\n",
    "def function3(x):\n",
    "    y = sin(x * 2.1) * (-x / 2.0)\n",
    "    return y\n",
    "\n",
    "def function4(x):\n",
    "    y = 1.6 ** x - 1.5 * x\n",
    "    return y\n",
    "\n",
    "def function5(x,y):\n",
    "    z = sin(x + y) * tan(0.1 * x)\n",
    "    return z\n",
    "\n",
    "def function6(x,y):\n",
    "    z = sin(sqrt(5) + x) * y\n",
    "    return z\n",
    "\n",
    "#################################################################\n",
    "\n",
    "\n",
    "def integral1(a,b):\n",
    "    # integral of function1 over [a,b]\n",
    "    return (b**4/4 - 9*b**2/2) - (a**4/4 - 9*a**2/2)\n",
    "\n",
    "def integral2(a,b):\n",
    "    # integral of function2 over [a,b]\n",
    "    a2 = a**2/2*sign(a)\n",
    "    b2 = b**2/2*sign(b)\n",
    "    return b2 - a2\n",
    "\n",
    "def integral3(a,b):\n",
    "    # integral of function3 over [a,b]\n",
    "    uv = -cos(b*2.1)/2.1 * (-b / 2.0) + cos(a*2.1)/2.1 * (-a / 2.0)\n",
    "    uvp = -sin(b*2.1)/2.1**2 /2 + sin(a*2.1)/2.1**2 /2 \n",
    "    return uv + uvp\n",
    "\n",
    "def integral4(a,b):\n",
    "    # integral of function4 over [a,b]\n",
    "    lg = 1.6**b/log(1.6) - 1.6**a/log(1.6)\n",
    "    sq = 1.5 * b**2/2 - 1.5 * a**2/2\n",
    "    return lg - sq\n"
   ]
  },
  {
   "cell_type": "markdown",
   "metadata": {},
   "source": [
    "Numerical integration is the integration of a function $f$:\n",
    "\n",
    "\\begin{align}\n",
    "I = \\int_a^b f(x) dx\n",
    "\\end{align}\n",
    "\n",
    "The goal is to obtain $I$ as accurately as possible with as few evaluations of the function as possible. We will discuss several strategies to achieve this goal during the lecture. But first lat us look at some direct approaches.\n",
    "\n",
    "We start with the geometrical interpretation of the integral as the oriented area between the graph of the function and the $x$-axis. Oriented here means that the area is counted positive in $x$-domains where the function is positive and negative in domains where the function is negative. \n",
    "\n",
    "\n",
    "## The direct approach: The Riemann sum\n",
    "\n",
    "Within the Riemann approach the interval $[a,b]$ is partitioned into $n$ non-overlapping sub-intervals of length $\\Delta x_j$ and $x_j$ is an arbitrary point inside the interval. Note that the length of the sub-interval is in general not fixed but could be chosen arbitrarily, for instance longer when the function is almost constant or very short when the function varies strongly. \n",
    "\n",
    "\n",
    "Integration by summation through the Riemann sum is then based on the Rieman-Integral:\n",
    "\\begin{align}\n",
    "I = \\int_a^b f(x) dx = \\lim_{n \\rightarrow\\infty} \\sum_j^n f(x_j) \\cdot \\Delta x_j\n",
    "\\end{align}\n",
    "\n",
    "For numerical integration we cannot go to infinitely many intervals but have to chose a finite set. \n",
    "\\begin{align}\n",
    "I = \\int_a^b f(x) dx \\approx \\sum_j^n f(x_j) \\cdot \\Delta x_j\n",
    "\\end{align}\n",
    "\n",
    "We choose the lower and upper bounds as $a=-4$ and $b=4$. For simplicity we chose fixed $\\Delta x$ (equidistant points) and $x_j$ will be the leftmost point of the sub-interval:"
   ]
  },
  {
   "cell_type": "code",
   "execution_count": 7,
   "metadata": {},
   "outputs": [
    {
     "data": {
      "image/png": "[encoded data removed]",
      "text/plain": [
       "<Figure size 576x360 with 1 Axes>"
      ]
     },
     "metadata": {
      "needs_background": "light"
     },
     "output_type": "display_data"
    }
   ],
   "source": [
    "a=-4\n",
    "b=4\n",
    "npoints = 100\n",
    "\n",
    "x,dx = linspace(a,b,npoints,endpoint=False,retstep=True)\n",
    "f1 = function1(x)\n",
    "\n",
    "#just for plotting\n",
    "xfine = linspace(a,b,npoints*2,endpoint=True,retstep=False)\n",
    "f1fine = function1(xfine)\n",
    "\n",
    "mf=16\n",
    "fig, ax = plt.subplots(figsize=(8,5))\n",
    "ax.plot(xfine,f1fine,label='function1')\n",
    "\n",
    "ax.bar(x,f1,width=dx,align='edge',edgecolor='black',alpha=0.5)\n",
    "\n",
    "plt.xticks(fontsize=mf)\n",
    "plt.yticks(fontsize=mf)\n",
    "ax.set_xlabel('x value',fontsize=mf)\n",
    "ax.set_ylabel('y value',fontsize=mf)\n",
    "legend = ax.legend(loc='lower right', shadow=False,fontsize=mf,borderpad = 0.1,\n",
    "                   labelspacing = 0, handlelength = 0.8)\n",
    "plt.show()"
   ]
  },
  {
   "cell_type": "code",
   "execution_count": 8,
   "metadata": {},
   "outputs": [
    {
     "name": "stdout",
     "output_type": "stream",
     "text": [
      "The Riemann integral of the test function is 0.9921254566056329.\n",
      "Analytical solution is 1,\n",
      "Integration Error is 0.007874543394367106.\n"
     ]
    }
   ],
   "source": [
    "def integrate_Riemann(func,a,b,npoints):\n",
    "    x, dx = linspace(a,b,npoints,retstep = True, endpoint=False) # exclude last point\n",
    "    ff = func(x)\n",
    "    I = ff.sum()*dx\n",
    "    return I\n",
    "\n",
    "#check this for a known function\n",
    "#note that we include the last rectangle in a simple approximation \n",
    "a=0\n",
    "b=pi/2\n",
    "npoints = 100\n",
    "int1=integrate_Riemann(sin,a,b,npoints)\n",
    "print('The Riemann integral of the test function is {}.'.format(int1))\n",
    "print('Analytical solution is 1,')\n",
    "print(\"Integration Error is {}.\".format(1-int1) )"
   ]
  },
  {
   "cell_type": "code",
   "execution_count": 13,
   "metadata": {},
   "outputs": [
    {
     "name": "stdout",
     "output_type": "stream",
     "text": [
      "The Riemann integral of function1 is -2.239999999999997.\n",
      "The error of the Riemann integral is -2.239999999999997.\n",
      "\n",
      "The Riemann integral of function2 is 16.0.\n",
      "The error of the Riemann integral is 0.0.\n",
      "\n",
      "The Riemann integral of function3 is -1.1810367681696985.\n",
      "The error of the Riemann integral is 0.0018710782403783544.\n",
      "\n",
      "The Riemann integral of function4 is 13.844633547651538.\n",
      "The error of the Riemann integral is 0.2255640105771537.\n",
      "\n",
      "CPU times: user 243 µs, sys: 3.79 ms, total: 4.03 ms\n",
      "Wall time: 2.67 ms\n"
     ]
    }
   ],
   "source": [
    "%%time\n",
    "a=-4\n",
    "b=4\n",
    "npoints = 100\n",
    "\n",
    "int1=integrate_Riemann(function1,a,b,npoints)\n",
    "ex1 = integral1(a,b)\n",
    "print('The Riemann integral of function1 is {}.'.format(int1))\n",
    "print('The error of the Riemann integral is {}.\\n'.format(int1-ex1))\n",
    "\n",
    "int2=integrate_Riemann(function2,a,b,npoints)\n",
    "ex2 = integral2(a,b)\n",
    "\n",
    "print('The Riemann integral of function2 is {}.'.format(int2))\n",
    "print('The error of the Riemann integral is {}.\\n'.format(int2-ex2))\n",
    "\n",
    "int3=integrate_Riemann(function3,a,b,npoints)\n",
    "ex3 = integral3(a,b)\n",
    "print('The Riemann integral of function3 is {}.'.format(int3))\n",
    "print('The error of the Riemann integral is {}.\\n'.format(int3-ex3))\n",
    "\n",
    "\n",
    "int4=integrate_Riemann(function4,a,b,npoints)\n",
    "ex4 = integral4(a,b)\n",
    "print('The Riemann integral of function4 is {}.'.format(int4))\n",
    "print('The error of the Riemann integral is {}.\\n'.format(int4-ex4))\n"
   ]
  },
  {
   "cell_type": "code",
   "execution_count": 14,
   "metadata": {},
   "outputs": [
    {
     "data": {
      "image/png": "[encoded data removed]",
      "text/plain": [
       "<Figure size 1152x648 with 4 Axes>"
      ]
     },
     "metadata": {
      "needs_background": "light"
     },
     "output_type": "display_data"
    }
   ],
   "source": [
    "x = linspace(a,b,npoints)\n",
    "f1 = function1(x)\n",
    "f2 = function2(x)\n",
    "f3 = function3(x)\n",
    "f4 = function4(x)\n",
    "\n",
    "mf=16\n",
    "fig, ax = plt.subplots(2,2,figsize=(16,9))\n",
    "ax[0,0].plot(x,f1,marker='.',label='function1')\n",
    "ax[0,1].plot(x,f2,marker='.',label='function2')\n",
    "ax[1,0].plot(x,f3,marker='.',label='function3')\n",
    "ax[1,1].plot(x,f4,marker='.',label='function4')\n",
    "\n",
    "for i in range(2):\n",
    "    for j in range(2):\n",
    "        ax[i,j].xaxis.set_tick_params(labelsize=mf)\n",
    "        ax[i,j].yaxis.set_tick_params(labelsize=mf)\n",
    "        ax[i,j].set_xlabel('x value',fontsize=mf)\n",
    "        ax[i,j].set_ylabel('y value',fontsize=mf)\n",
    "    \n",
    "        legend = ax[i,j].legend(loc='upper center', shadow=False,fontsize=mf,borderpad = 0.1, \n",
    "                          labelspacing = 0, handlelength = 0.8)\n",
    "plt.show()"
   ]
  },
  {
   "cell_type": "markdown",
   "metadata": {},
   "source": [
    "## Trapezoidal rule\n",
    "\n",
    "In this approach, the function $f(x)$ is first interpolated between two known points, and the interpolating functions are then integrated. As interpolating functions, polynomials (usually of first second order) are used.\n",
    "\n",
    "In the simplest approach, the interpolating function is simply a constant (a polynomial of degree zero) - this is the midpoint rule, and the integral is represented through rectangles or boxes with height equal to the midpoint between $x_j$ and $x_{j+1}$.\n",
    "\n",
    "In the trapeziodal rule, a linear function (polynomial of degree one) is used to connect the two neighboring points, and the integral is represented through trapezoids. Using one trapezoid to represent the integral between $a$ and $b$, this reads (trapeziodal rule)\n",
    "\\begin{align}\n",
    "\\int_a^b f(x) dx \\approx (b-a) \\frac{f(a)+f(b)}{2} = \\frac{\\Delta x}{2} \\left(f(a)+f(b)\\right)\n",
    "\\end{align}\n",
    "This would only give a rather crude approximation of the integral, and to improve the accuracy, the interval between $a$ and $b$ is divided into a number of subintervals $n-1$. This leads to the extended trapezoidal rule\n",
    "\n",
    "\\begin{align}\n",
    "\\int_a^b f(x) dx \\approx \\frac{\\Delta x}{2} \\left( \\sum_{j=1}^{n} f(x_j) + f(x_{j-1}) \\right)\n",
    "\\end{align}\n",
    "\n",
    "For subintervals of equal length, this is a Newton-Cotes formula, and equivalent to Simpson's rule at lower order (Simpson's rule: evaluate a number of additional equidistant points, typically 1 or 2, in the interval, interpolate with a polynomial, typically quaddratic or qubic, and integrate analytically).\n",
    "\n",
    "The formula can be rewritten as a sum of two Riemann integrals, one using the rightmost point, one using the leftmost point of the sub-interval:\n",
    "\\begin{align}\n",
    "\\int_a^b f(x) dx \\approx \\frac{1}{2} \\left( \\sum_{j=1}^{n} f(x_j) \\Delta x + \\sum_{j=1}^{n} f(x_{j-1}) \\Delta x \\right)\n",
    "\\end{align}\n",
    "\n",
    "The advantage of this approach is that previously evaluated points can be reused and iterated with increasing $n$ until a specified degree of accuracy is achieved."
   ]
  },
  {
   "cell_type": "code",
   "execution_count": 15,
   "metadata": {},
   "outputs": [
    {
     "data": {
      "image/png": "[encoded data removed]",
      "text/plain": [
       "<Figure size 576x360 with 1 Axes>"
      ]
     },
     "metadata": {
      "needs_background": "light"
     },
     "output_type": "display_data"
    }
   ],
   "source": [
    "a=-4\n",
    "b=4\n",
    "npoints = 21\n",
    "num,dx = linspace(a,b,npoints,retstep=True)\n",
    "f1 = function1(num)\n",
    "\n",
    "mf=16\n",
    "fig, ax = plt.subplots(figsize=(8,5))\n",
    "ax.plot(num,f1,marker='.',label='function1')\n",
    "ax.stem(num,f1,use_line_collection=True)\n",
    "\n",
    "plt.xticks(fontsize=mf)\n",
    "plt.yticks(fontsize=mf)\n",
    "ax.set_xlabel('x value',fontsize=mf)\n",
    "ax.set_ylabel('y value',fontsize=mf)\n",
    "legend = ax.legend(loc='best', shadow=False,fontsize=mf,borderpad = 0.1, \n",
    "                   labelspacing = 0, handlelength = 0.8)\n",
    "plt.show()"
   ]
  },
  {
   "cell_type": "code",
   "execution_count": 16,
   "metadata": {},
   "outputs": [
    {
     "name": "stdout",
     "output_type": "stream",
     "text": [
      "The trapezoid integral of test function is 0.9999790207508321.\n",
      "Analytical solution is 1,\n",
      "Integration Error is 2.0979249167885072e-05.\n"
     ]
    }
   ],
   "source": [
    "def integrate_Trapezoid(func,a,b,npoints):\n",
    "    x,dx = linspace(a,b,npoints,retstep=True,endpoint=True)\n",
    "    y = func(x)                 # func evaluated on all points\n",
    "    if npoints == 1:\n",
    "        I = (b-a)/0.5*(x[0]+x[-1])\n",
    "    else:\n",
    "       \n",
    "        I = (y[1:npoints-1].sum() + (y[0] + y[-1])/2)*dx\n",
    "        \n",
    "    return I\n",
    "\n",
    "#check this for a known function\n",
    "a=0\n",
    "b=pi/2\n",
    "n=100\n",
    "int1=integrate_Trapezoid(sin,a,b,n)\n",
    "print('The trapezoid integral of test function is {}.'.format(int1))\n",
    "print('Analytical solution is 1,')\n",
    "print(\"Integration Error is {}.\".format(1-int1) )"
   ]
  },
  {
   "cell_type": "code",
   "execution_count": 17,
   "metadata": {},
   "outputs": [
    {
     "name": "stdout",
     "output_type": "stream",
     "text": [
      "The extended trapezoidal rule gives the integral 1.0187359395796376e-14 for function1.\n",
      "The error of the extended trapezoidal rule integral is 1.0187359395796376e-14.\n",
      "\n",
      "The extended trapezoidal rule gives the integral 16.000000160032005 for function2.\n",
      "The error of the extended trapezoidal rule integral is 1.6003200542513696e-07.\n",
      "\n",
      "The extended trapezoidal rule gives the integral -1.1829076593099461 for function3.\n",
      "The error of the extended trapezoidal rule integral is 1.8710013072187337e-07.\n",
      "\n",
      "The extended trapezoidal rule gives the integral 13.619069697559755 for function4.\n",
      "The error of the extended trapezoidal rule integral is 1.6048537077040237e-07.\n",
      "\n",
      "CPU times: user 8.37 ms, sys: 294 µs, total: 8.67 ms\n",
      "Wall time: 5.81 ms\n"
     ]
    }
   ],
   "source": [
    "%%time\n",
    "a=-4\n",
    "b=4\n",
    "npoints=10000\n",
    "int1=integrate_Trapezoid(function1,a,b,npoints)\n",
    "ex1 = integral1(a,b)\n",
    "print('The extended trapezoidal rule gives the integral {} for function1.'.format(int1))\n",
    "print('The error of the extended trapezoidal rule integral is {}.\\n'.format(int1-ex1))\n",
    "\n",
    "\n",
    "int2=integrate_Trapezoid(function2,a,b,npoints)\n",
    "ex2 = integral2(a,b)\n",
    "print('The extended trapezoidal rule gives the integral {} for function2.'.format(int2))\n",
    "print('The error of the extended trapezoidal rule integral is {}.\\n'.format(int2-ex2))\n",
    "\n",
    "int3=integrate_Trapezoid(function3,a,b,npoints)\n",
    "ex3 = integral3(a,b)\n",
    "print('The extended trapezoidal rule gives the integral {} for function3.'.format(int3))\n",
    "print('The error of the extended trapezoidal rule integral is {}.\\n'.format(int3-ex3))\n",
    "\n",
    "int4=integrate_Trapezoid(function4,a,b,npoints)\n",
    "ex4 = integral4(a,b)\n",
    "print('The extended trapezoidal rule gives the integral {} for function4.'.format(int4))\n",
    "print('The error of the extended trapezoidal rule integral is {}.\\n'.format(int4-ex4))"
   ]
  },
  {
   "cell_type": "code",
   "execution_count": 18,
   "metadata": {},
   "outputs": [
    {
     "name": "stdout",
     "output_type": "stream",
     "text": [
      "The extended trapezoidal rule gives the integral 0.9999790207508321 for test function.\n"
     ]
    }
   ],
   "source": [
    "#Of course, there already is a numpy routine for this\n",
    "npoints = 100\n",
    "x2=linspace(0,pi/2,npoints)\n",
    "ff = sin(x2)\n",
    "int1=trapz(ff,x2)\n",
    "print('The extended trapezoidal rule gives the integral {} for test function.'.format(int1))"
   ]
  },
  {
   "cell_type": "code",
   "execution_count": 19,
   "metadata": {},
   "outputs": [
    {
     "name": "stdout",
     "output_type": "stream",
     "text": [
      "The extended trapezoidal rule gives the integral -4.440892098500626e-16 for function1.\n",
      "The extended trapezoidal rule gives the integral 16.001632486480972 for function2.\n",
      "The extended trapezoidal rule gives the integral -1.1809987683558578 for function3.\n",
      "The extended trapezoidal rule gives the integral 13.620706608990066 for function4.\n",
      "CPU times: user 1.96 ms, sys: 134 µs, total: 2.09 ms\n",
      "Wall time: 1.58 ms\n"
     ]
    }
   ],
   "source": [
    "%%time\n",
    "\n",
    "x = linspace(a,b,npoints)\n",
    "f1 = function1(x)\n",
    "f2 = function2(x)\n",
    "f3 = function3(x)\n",
    "f4 = function4(x)\n",
    "int1=trapz(f1,x)\n",
    "int2=trapz(f2,x)\n",
    "int3=trapz(f3,x)\n",
    "int4=trapz(f4,x)\n",
    "print('The extended trapezoidal rule gives the integral {} for function1.'.format(int1))\n",
    "print('The extended trapezoidal rule gives the integral {} for function2.'.format(int2))\n",
    "print('The extended trapezoidal rule gives the integral {} for function3.'.format(int3))\n",
    "print('The extended trapezoidal rule gives the integral {} for function4.'.format(int4))"
   ]
  },
  {
   "cell_type": "markdown",
   "metadata": {},
   "source": [
    "__It may seem that the trapezoidal rule generally gives more precise results than the Riemann method. Let us change change the evaluation point of the Riemann method to the middle of the interval:__"
   ]
  },
  {
   "cell_type": "code",
   "execution_count": 20,
   "metadata": {},
   "outputs": [
    {
     "name": "stdout",
     "output_type": "stream",
     "text": [
      "The Riemann integral of the test function is 1.0000102809119054.\n",
      "Analytical solution is 1,\n",
      "Integration Error is -1.0280911905358181e-05.\n"
     ]
    }
   ],
   "source": [
    "def integrate_Riemann_midpoint(func,a,b,npoints):\n",
    "    x, dx = linspace(a,b,npoints,retstep = True, endpoint=False) # exclude last point\n",
    "    ff = func(x+dx/2)\n",
    "    I = ff.sum()*dx\n",
    "    return I\n",
    "\n",
    "#check this for a known function\n",
    "#note that we include the last rectangle in a simple approximation \n",
    "a=0\n",
    "b=pi/2\n",
    "npoints = 100\n",
    "int1=integrate_Riemann_midpoint(sin,a,b,npoints)\n",
    "print('The Riemann integral of the test function is {}.'.format(int1))\n",
    "print('Analytical solution is 1,')\n",
    "print(\"Integration Error is {}.\".format(1-int1) )"
   ]
  },
  {
   "cell_type": "code",
   "execution_count": 21,
   "metadata": {},
   "outputs": [
    {
     "name": "stdout",
     "output_type": "stream",
     "text": [
      "The Riemann midpoint integral of function1 is 7.275957614183426e-15.\n",
      "The error of the Riemann midpoint integral is 7.275957614183426e-15.\n",
      "\n",
      "The Riemann midpoint integral of function2 is 16.0.\n",
      "The error of the Riemann midpoint integral is 0.0.\n",
      "\n",
      "The Riemann midpoint integral of function3 is -1.1829079399414357.\n",
      "The error of the Riemann midpoint integral is -9.353135888012787e-08.\n",
      "\n",
      "The Riemann midpoint integral of function4 is 13.619069456847749.\n",
      "The error of the Riemann midpoint integral is -8.02266360011572e-08.\n",
      "\n",
      "CPU times: user 2.01 ms, sys: 7.94 ms, total: 9.95 ms\n",
      "Wall time: 6.55 ms\n"
     ]
    }
   ],
   "source": [
    "%%time\n",
    "a=-4\n",
    "b=4\n",
    "npoints = 10000\n",
    "\n",
    "int1=integrate_Riemann_midpoint(function1,a,b,npoints)\n",
    "ex1 = integral1(a,b)\n",
    "print('The Riemann midpoint integral of function1 is {}.'.format(int1))\n",
    "print('The error of the Riemann midpoint integral is {}.\\n'.format(int1-ex1))\n",
    "\n",
    "int2=integrate_Riemann_midpoint(function2,a,b,npoints)\n",
    "ex2 = integral2(a,b)\n",
    "\n",
    "print('The Riemann midpoint integral of function2 is {}.'.format(int2))\n",
    "print('The error of the Riemann midpoint integral is {}.\\n'.format(int2-ex2))\n",
    "\n",
    "int3=integrate_Riemann_midpoint(function3,a,b,npoints)\n",
    "ex3 = integral3(a,b)\n",
    "print('The Riemann midpoint integral of function3 is {}.'.format(int3))\n",
    "print('The error of the Riemann midpoint integral is {}.\\n'.format(int3-ex3))\n",
    "\n",
    "\n",
    "int4=integrate_Riemann_midpoint(function4,a,b,npoints)\n",
    "ex4 = integral4(a,b)\n",
    "print('The Riemann midpoint integral of function4 is {}.'.format(int4))\n",
    "print('The error of the Riemann midpoint integral is {}.\\n'.format(int4-ex4))"
   ]
  },
  {
   "cell_type": "markdown",
   "metadata": {},
   "source": [
    "__The Riemann midpoint rule can be interpreted as midpoint trapezoidal rule where the tangent at the midpoint is used to form the trapezoid.__"
   ]
  },
  {
   "cell_type": "markdown",
   "metadata": {},
   "source": [
    "For an overview of the available functions, take a look at \n",
    "https://docs.scipy.org/doc/scipy/tutorial/integrate.html\n",
    "\n",
    "The numpy reference can be found here https://numpy.org/doc/stable/reference/routines.math.html#sums-products-differences\n",
    "\n",
    "\n",
    "### Multidimensional integrals\n",
    "\n",
    "Numerical approaches to multidimensional integrals are computationally expensive (for example, approximations as repeated one-dimensional integrals require repeated function evaluations which grow exponentially with the number of dimensions $D$: If one uses $N$ points for each dimension, the number \n",
    "of function evaluations grows as $N^D$, this is known as __the curse of dimensionality__).\n",
    "\n",
    "A Riemann-like extension to N-D integrals would read like:\n",
    "\n",
    "\\begin{align}\n",
    "I = \\int_{a_1}^{b_1}\\int_{a_2}^{b_2}\\cdots  \\int_{a_N}^{b_N} f(x_1,x_2,\\cdots,x_N) dx_1 dx_2\\cdots,dx_N \\approx \\sum_{i_1} \\sum_{i_2} \\cdots   \\sum_{i_N}  f(x_{i_1},x_{i_2},\\cdots,x_{i_N}) \\Delta x_1 \\Delta x_2\\cdots,\\Delta x_N\n",
    "\\end{align}\n",
    "\n",
    "\n",
    "\n",
    "A method that overcomes the curse of dimensionality is Monte Carlo integration. Monte Carlo methods rely on repeated evaluations using random sampling. Thus, in Monte Carlo integration, the sampling grid is chosen randomly. Instead of having $D$ nested loops over $N$ points of independent variables, one only has one big loop:\n",
    "\n",
    "The multidimensional integral\n",
    "\\begin{align}\n",
    "I = \\int_{a_x}^{b_x}\\int_{a_y}^{b_y} f(x,y) dx dy = \\int \\int f dV\n",
    "\\end{align}\n",
    "in the Volume $V$ can be approximated as\n",
    "\\begin{align}\n",
    "\\int \\int f dV \\approx V \\langle f \\rangle \\pm V \\sqrt{\\frac{\\langle f^2 \\rangle-\\langle f \\rangle^2}{N}}\n",
    "\\end{align}\n",
    "Leaving aside the error term:\n",
    "\\begin{align}\n",
    "\\int \\int f dV \\approx \\frac{V}{N} \\sum_i f(x_i) = \\sum_i f(x_i) \\langle dV\\rangle\n",
    "\\end{align}\n",
    "\n",
    "(<span  style=\"color:darkred\">Attention: Error term assumes Gaussian distributed function values, should be seen as a rough estimate</span>)\n",
    "for the $N$  uniformly distributed sampling points and the estimate of the standard deviation is defined through the mean denoted by $\\langle \\rangle$ as\n",
    "\\begin{align}\n",
    "f_i & = f(x_i) \\\\\n",
    "\\langle f \\rangle   &=  \\frac{1}{N} \\sum_i^N f_i  \\\\\n",
    "\\langle f \\rangle^2 &= \\left( \\frac{1}{N} \\sum_i^N f_i \\right)^2 \\\\\n",
    "\\langle f^2 \\rangle &= \\frac{1}{N} \\sum_i^N f_i^2 \\\\\n",
    "\\end{align}\n",
    "\n",
    "\n",
    "(Side remark: there are more advanced methods that use non-uniform sampling, not discussed here)\n",
    "\n",
    "A Monte Carlo integration consists of several steps: Random number generation, function evaluation, summation. \n",
    "\n",
    "\n",
    "We discuss two approaches, a direct one called __sampling method__ using equations above directly and evaluating the function on random $x$ values (see below). Alternatively, the\n",
    "\n",
    "## Hit-and-miss approach\n",
    "\n",
    "We extend the sampled space by one additional coordinate, the function values, and then any any point that lies between the function and the zero-plane is counted as $\\pm 1$, depending on the function value. \n",
    "\n",
    "\\begin{align}\n",
    "y=f(x) & \\longrightarrow \\tilde{f}(x,y) \n",
    "\\end{align}\n",
    "with\n",
    "\\begin{align}\n",
    "\\tilde{f}(x,y) = \\begin{cases}\n",
    "+1\\,\\, {\\rm for} \\,\\, y <= f(x)\\,\\, {\\rm and} \\,\\,y>0 & \\,\\, \\,\\, {\\rm (hit: counts +1)}\\\\\n",
    "-1\\,\\, {\\rm for} \\,\\, y >= f(x)\\,\\, {\\rm and} \\,\\,y<0 & \\,\\, \\,\\, {\\rm (hit: counts -1)}\\\\\n",
    "0\\,\\,  {\\rm else}& \\,\\, \\,\\, {\\rm (miss)}\n",
    "\\end{cases}\n",
    "\\end{align}\n",
    "\n",
    "Now one can integrate over $\\tilde{f}(x,y)$ using two random variables, $x_i$ and $y_i$  Advantage of the latter: \n",
    "* works also if the function is given implicitly, for instance unit circle: $x^2 + y^2 = 1$ (hit: inside circle, miss: outside circle)\n",
    "* especially suitable for extimating the volume of high-dimensional objects, for instance an N-sphere. \n",
    "\n",
    "Disadvantage: \n",
    "* One needs to know the function ranges which may be difficult to know in advance. \n",
    "* one may have large numbers of sampling points that do not contribute directly (many misses)\n",
    "\n",
    "\n",
    "### What does $\\tilde{f}(x,y)$ look like?"
   ]
  },
  {
   "cell_type": "code",
   "execution_count": null,
   "metadata": {},
   "outputs": [],
   "source": [
    "N = 100\n",
    "a = -4\n",
    "b = 4\n",
    "\n",
    "x = linspace(a, b, N)\n",
    "\n",
    "fval = function1(x)\n",
    "fmax = fval.max()\n",
    "fmin = fval.min()\n",
    "\n",
    "y = linspace(fmin, fmax, N)\n",
    "\n",
    "X, Y = meshgrid(x, y, indexing=\"ij\")\n",
    "\n",
    "\n",
    "\n",
    "def ftilde(func,X,Y):\n",
    "    fvals = func(X)\n",
    "    \n",
    "    result = ((Y <= fvals) & (Y >= 0)).astype(int)\n",
    "    result = result - ((Y >= fvals) & (Y < 0)).astype(int)\n",
    "    return result\n",
    "    \n",
    "ftilde(function1,X,Y)"
   ]
  },
  {
   "cell_type": "code",
   "execution_count": null,
   "metadata": {},
   "outputs": [],
   "source": [
    "from matplotlib import cm  # color map\n",
    "\n",
    "mf = 16\n",
    "\n",
    "fig = plt.figure(figsize=(10,8))\n",
    "\n",
    "# This creates an axes object. Since we \n",
    "# we want to do a 3D plot we add the\n",
    "# named argument \"projection='3d'\"\n",
    "ax = plt.axes(projection='3d')\n",
    "\n",
    "# cm: color map \n",
    "ax.plot_surface(X, Y, ftilde(function1,X,Y), cmap = cm.viridis, rstride=1, cstride=1, edgecolor='None')\n",
    "\n",
    "plt.xticks(fontsize=mf)\n",
    "plt.yticks(fontsize=mf)\n",
    "\n",
    "# z axis fontsize is a bit cumbersome\n",
    "for t in ax.zaxis.get_major_ticks(): \n",
    "    t.label.set_fontsize(mf)\n",
    "\n",
    "ax.set_xlabel('x value',fontsize=mf,labelpad=20)\n",
    "ax.set_ylabel('y value',fontsize=mf,labelpad=20)\n",
    "ax.set_zlabel('z value',fontsize=mf,labelpad=20)\n",
    "\n",
    "plt.show()"
   ]
  },
  {
   "cell_type": "code",
   "execution_count": null,
   "metadata": {
    "scrolled": false
   },
   "outputs": [],
   "source": [
    "%%time\n",
    "N = 1000\n",
    "a = -4\n",
    "b = 4\n",
    "\n",
    "# we need to determine the sampling volume, which lies between a and b,\n",
    "# and the minimum and maximum value of the function we want to integrate\n",
    "# trying an educated guess of the fmax and fmin values based on \n",
    "# preliminary evaluations of the function\n",
    "# this may be tricky for real world problems\n",
    "# Here we can just scan the function on a linspace \n",
    "xval = linspace(a, b, N)\n",
    "yval = function1(xval)\n",
    "\n",
    "fmax = yval.max()\n",
    "fmin = yval.min()\n",
    "\n",
    "\n",
    "# now the sampling points are generated\n",
    "x_rand = (b-a)*random.random(N)+a\n",
    "y_rand = (fmax-fmin)*random.random(N)+fmin\n",
    "\n",
    "# The i'th random point in 2D will be\n",
    "# (x,y) = x_rand[i],y_rand[i]\n",
    "\n",
    "\n",
    "# check if the point that is sampled lies within the integration area - this returns the index\n",
    "# where the condition evaluates to true because false is interpreted as zero\n",
    "# this is a numpy function and works only for variables of type array\n",
    "# positive sampled values\n",
    "# here using the & operator: nonzero actually gets an array \n",
    "# of type 'bool', the & operator compares element wise the arrays\n",
    "# we pass to it. \n",
    "# nonzero then returns all indices where the elements of the\n",
    "# resulting bool array that are \"True\", taking \"True\" as 1\n",
    "# and \"False\" as 0. \n",
    "\n",
    "# evaluate the function on the random x-points\n",
    "function1_rand = function1(x_rand)\n",
    "\n",
    "ind_below_pos = nonzero((y_rand <= function1_rand) & (y_rand >= 0)) #hit +1 (green points)\n",
    "ind_below_neg = nonzero((y_rand >= function1_rand) & (y_rand < 0))  #hit -1 (red points)\n",
    "\n",
    "#we only need the points outside the integration volume to see how \n",
    "#good the selected volume is - should be as few as possible\n",
    "ind_above_pos = nonzero((y_rand > function1_rand) & (y_rand >= 0)) # miss (blue points)\n",
    "ind_above_neg = nonzero((y_rand < function1_rand) & (y_rand < 0))  # miss (blue points)\n",
    "\n",
    "#we visualize the sampling points to understand how this works\n",
    "mf=16\n",
    "fig, ax = plt.subplots(figsize=(8,5))\n",
    "ax.scatter(x_rand[ind_below_pos], y_rand[ind_below_pos], color = \"green\",label='hit, counts +1')\n",
    "ax.scatter(x_rand[ind_below_neg], y_rand[ind_below_neg], color = \"red\",  label='hit, counts -1')\n",
    "ax.scatter(x_rand[ind_above_pos], y_rand[ind_above_pos], color = \"blue\",label='miss, counts  0')\n",
    "ax.scatter(x_rand[ind_above_neg], y_rand[ind_above_neg], color = \"blue\")\n",
    "\n",
    "ax.plot(xval, yval, color = \"red\",label='function')\n",
    "plt.xticks(fontsize=mf)\n",
    "plt.yticks(fontsize=mf)\n",
    "ax.set_xlabel('x value',fontsize=mf)\n",
    "ax.set_ylabel('y value',fontsize=mf)\n",
    "ax.text(-3.8,28,'Area A',fontsize=mf)\n",
    "legend = ax.legend( shadow=False,fontsize=mf, borderpad = 0.1, \n",
    "                    labelspacing = 0, handlelength = 0.8,ncol=1, \n",
    "                    bbox_to_anchor=(1.05, 1), loc='upper left')\n",
    "plt.show()"
   ]
  },
  {
   "cell_type": "code",
   "execution_count": null,
   "metadata": {},
   "outputs": [],
   "source": [
    "# returns the positions where the array above is True (false is interpreted as 0, True as 1)\n",
    "# (returns a tuble of arrays, one for each dimension)\n",
    "nonzero((y_rand <= function1_rand) & (y_rand >= 0))"
   ]
  },
  {
   "cell_type": "markdown",
   "metadata": {},
   "source": [
    "Note that the sampling volume for a 1D integral corresponds to a rectangle. The Monte Carlo integral is now the area $A$ multiplied with the fraction of points that fall below the curve (the integral of the function). In other words, a volume is chosen over which to sample, that contains the volume that should be integrated over. The points in this selected volume that fall below the curve are set to 1 or -1 depending if the function value is positive or negative, and the points that lie above (that lie outside of the integration volume) are set to zero.\n",
    "\n",
    "This immediately makes it clear that the sampling volume should contain the integration volume as closely as possible: If many sampled points lie outside the integration volume, the effective sampling rate is much lower than the number of samples, directly increasing the numerical error.\n",
    "\n",
    "Generally, Monte Carlo integration requires many functional evaluations to produce accurate integrals, with the accuracy only increasing as $\\sqrt{N}$ for $N$ sampled points."
   ]
  },
  {
   "cell_type": "code",
   "execution_count": null,
   "metadata": {},
   "outputs": [],
   "source": [
    "\n",
    "npos = len(ind_below_pos[0]) # number of green points\n",
    "nneg = len(ind_below_neg[0]) # number of red points\n",
    "\n",
    "nmiss = len(ind_above_pos[0])+len(ind_above_neg[0])\n",
    "\n",
    "#now we can compute the above integral\n",
    "print('Number of pts above the curve (misses)= outside of integration volume (blue):', \n",
    "      nmiss,\"\\n\")\n",
    "\n",
    "print('Number of pts below the curve (hits)= inside of integration volume (red + green):',\n",
    "      npos + nneg,\"\\n\")\n",
    "\n",
    "print('Number of pts below the curve that evaluate to positive values (hits +1)\\n',\n",
    "      '= inside of integration volume, (green) count positive (+1):',\n",
    "      npos,\"\\n\" )\n",
    "\n",
    "print('Number of pts below the curve that evaluate to negative values (hits -1)\\n', \n",
    "      '= inside of integration volume, but need to be subtracted (-1):',\n",
    "      nneg, '\\n')\n",
    "\n",
    "\n",
    "print('Ratio of sampled points within integration are vs total samples is',\n",
    "      (npos + nneg)/N,\"\\n\" )\n",
    "\n",
    "print('Total sample (rectangle) area (V):', (fmax-fmin)*(b-a),\"\\n\")\n",
    "\n",
    "print('Monte Carlo integral:', (fmax-fmin)*(b-a)*(npos-nneg)/N)\n",
    "\n",
    "meanfsquare = ((npos - nneg)/N)**2\n",
    "fsquaremean = (npos + nneg)/N  # f^2 is one for all points that count, zero otherwise\n",
    "  \n",
    "error =  (fmax-fmin)*(b-a)*sqrt((fsquaremean - meanfsquare)/N)\n",
    "print('Estimated Monte-Carlo error:', error,\"\\n\")\n",
    "print('Exact integral:', integral1(a,b),\"\\n\")\n"
   ]
  },
  {
   "cell_type": "markdown",
   "metadata": {},
   "source": [
    "Compare this to the results above. Let's see how this works with many more points:"
   ]
  },
  {
   "cell_type": "code",
   "execution_count": null,
   "metadata": {},
   "outputs": [],
   "source": [
    "def integrate_MC1D(N,func,a,b):\n",
    "    \n",
    "    # this one usually cannot do\n",
    "    # for high-dimensional integrals\n",
    "    xval = linspace(a, b, N)\n",
    "    yval = func(xval)\n",
    "    fmax = yval.max()\n",
    "    fmin = yval.min()\n",
    "    \n",
    "    \n",
    "    # just to avoid zero volume\n",
    "    if abs(fmax-fmin) < 1.e-8:\n",
    "        fmin = fmin - 1.e-8\n",
    "        fmax = fmax + 1.e-8\n",
    "    \n",
    "    x_rand = (b-a)*random.random(N)+a\n",
    "    y_rand = (fmax-fmin)*random.random(N)+fmin\n",
    "    \n",
    "    # evaluate this only once\n",
    "    func_rand = func(x_rand)\n",
    "    \n",
    "    \n",
    "    ind_below_pos = nonzero((y_rand <= func_rand) & (y_rand >= 0))\n",
    "    ind_below_neg = nonzero((y_rand >= func_rand) & (y_rand < 0))\n",
    "    ind_above_pos = nonzero((y_rand > func_rand) & (y_rand >= 0))\n",
    "    ind_above_neg = nonzero((y_rand < func_rand) & (y_rand < 0))\n",
    "    \n",
    "    mf=16\n",
    "    fig, ax = plt.subplots(figsize=(8,5))\n",
    "    ax.scatter(x_rand[ind_below_pos], y_rand[ind_below_pos], color = \"green\",label='hit,counts +1')\n",
    "    ax.scatter(x_rand[ind_below_neg], y_rand[ind_below_neg], color = \"red\",label='hit, counts -1')\n",
    "    ax.scatter(x_rand[ind_above_pos], y_rand[ind_above_pos], color = \"blue\",label='miss, counts 0')\n",
    "    ax.scatter(x_rand[ind_above_neg], y_rand[ind_above_neg], color = \"blue\")\n",
    "    ax.plot(xval, yval, color = \"red\",label='f')\n",
    "    plt.xticks(fontsize=mf)\n",
    "    plt.yticks(fontsize=mf)\n",
    "    ax.set_xlabel('x value',fontsize=mf)\n",
    "    ax.set_ylabel('y value',fontsize=mf)\n",
    "    legend = ax.legend( shadow=False,fontsize=mf, borderpad = 0.1, \n",
    "                       labelspacing = 0, handlelength = 0.8,ncol=1, \n",
    "                       bbox_to_anchor=(1.05, 1), loc='upper left')\n",
    "    plt.show()\n",
    "    \n",
    "    # print some statistics\n",
    "    \n",
    "    outside=len(ind_above_pos[0])+len(ind_above_neg[0])\n",
    "    print('Number of pts above the curve (outside of integration area):',outside)\n",
    "    \n",
    "    ins=len(ind_below_pos[0])+len(ind_below_neg[0])\n",
    "    print('Number of pts below the curve (within integration area):', ins)\n",
    "    \n",
    "    sampled = ins/N\n",
    "    integral = (len(ind_below_pos[0])-len(ind_below_neg[0]))/N\n",
    "    print('Ratio of sampled points within integration are vs total sample are', sampled)\n",
    "    \n",
    "    area = (fmax-fmin)*(b-a)\n",
    "    print('Total sample (rectangle) area:', area)\n",
    "    print('Monte Carlo integral:', area*integral)\n",
    "    \n",
    "    # error estimate\n",
    "    # number of positive and negative points:\n",
    "    npos = len(ind_above_pos[0])\n",
    "    nneg = len(ind_below_neg[0])\n",
    "    \n",
    "    meanfsquare = ((npos - nneg)/N)**2\n",
    "    fsquaremean = (npos + nneg)/N  # f^2 is one for all points that count, zero otherwise\n",
    "    \n",
    "    error = area*sqrt((fsquaremean - meanfsquare)/N)\n",
    "    print('Estimated Monte-Carlo error:', error)\n",
    "    \n",
    "    \n",
    "\n",
    "#check this for a known function\n",
    "N=20000\n",
    "a=0\n",
    "b=pi/2\n",
    "int0=integrate_MC1D(N,sin,a,b)"
   ]
  },
  {
   "cell_type": "code",
   "execution_count": null,
   "metadata": {},
   "outputs": [],
   "source": [
    "N=20000\n",
    "a = -4\n",
    "b = 4\n",
    "\n",
    "int1 = integrate_MC1D(N,function1,a,b)\n",
    "#note how the value changes for same parameters but repeated evaluation of the cell, and how much it fluctuates"
   ]
  },
  {
   "cell_type": "code",
   "execution_count": null,
   "metadata": {},
   "outputs": [],
   "source": [
    "N=20000\n",
    "a = -4\n",
    "b = 4\n",
    "int1 = integrate_MC1D(N,function2,a,b)"
   ]
  },
  {
   "cell_type": "code",
   "execution_count": null,
   "metadata": {},
   "outputs": [],
   "source": [
    "N=20000\n",
    "a = -4\n",
    "b = 4\n",
    "\n",
    "int1 = integrate_MC1D(N,function3,a,b)"
   ]
  },
  {
   "cell_type": "code",
   "execution_count": null,
   "metadata": {},
   "outputs": [],
   "source": [
    "N=20000\n",
    "a = -4\n",
    "b = 4\n",
    "\n",
    "int1 = integrate_MC1D(N,function4,a,b)"
   ]
  },
  {
   "cell_type": "markdown",
   "metadata": {},
   "source": [
    "## Sampling approach\n",
    "\n",
    "Only sample the independent variables and evaluate the function there. \n",
    "\n",
    "Advantages:\n",
    "* More like a black-box (no function ranges need to be known in advance)\n",
    "* All points contribute. \n",
    "\n",
    "Disadvantages:\n",
    "* Does not work on implicitely given functions (like volumes if N-D objects). "
   ]
  },
  {
   "cell_type": "code",
   "execution_count": null,
   "metadata": {},
   "outputs": [],
   "source": [
    "def integrate_MC1D_direct(N,myfunc,a,b):\n",
    "    \n",
    "    x_rand = (b-a)*random.random(N)+a\n",
    "    y_rand = myfunc(x_rand)\n",
    "    \n",
    "    mf=16\n",
    "    fig, ax = plt.subplots(figsize=(8,5))\n",
    "    ax.scatter(x_rand, y_rand, color = \"green\",label='f(x)')\n",
    "    plt.xticks(fontsize=mf)\n",
    "    plt.yticks(fontsize=mf)\n",
    "    ax.set_xlabel('x value',fontsize=mf)\n",
    "    ax.set_ylabel('y value',fontsize=mf)\n",
    "    legend = ax.legend(loc='lower right', shadow=False,fontsize=mf,borderpad = 0.1, labelspacing = 0, handlelength = 0.8,ncol=4)\n",
    "    plt.show()\n",
    "    \n",
    "    integral = sum(y_rand)*(b-a)/N\n",
    "    print('Monte Carlo integral:', integral)\n",
    "    \n",
    "    # error estimate:\n",
    "\n",
    "    error = sqrt(((y_rand**2).mean() - y_rand.mean()**2)/N)*(b-a)\n",
    "    print('Estimated Monte-Carlo error:', error)\n",
    "    \n",
    "    return integral\n",
    "    \n",
    "    \n",
    "    \n",
    "    #check this for a known function\n",
    "N=100\n",
    "a=0\n",
    "b=pi/2\n",
    "\n",
    "int0=integrate_MC1D_direct(N,sin,a,b)\n",
    "\n",
    "print('Analytical solution is 1,')\n",
    "print(\"Real integration Error is {}.\".format(1-int0) )"
   ]
  },
  {
   "cell_type": "code",
   "execution_count": null,
   "metadata": {},
   "outputs": [],
   "source": [
    "N=20000\n",
    "a = -4\n",
    "b = 4\n",
    "int1 = integrate_MC1D_direct(N,function1,a,b)"
   ]
  },
  {
   "cell_type": "code",
   "execution_count": null,
   "metadata": {},
   "outputs": [],
   "source": [
    "N=20000\n",
    "a = -4\n",
    "b = 4\n",
    "int1 = integrate_MC1D_direct(N,function2,a,b)"
   ]
  },
  {
   "cell_type": "code",
   "execution_count": null,
   "metadata": {},
   "outputs": [],
   "source": [
    "N=20000\n",
    "a = -4\n",
    "b = 4\n",
    "\n",
    "int1 = integrate_MC1D_direct(N,function3,a,b)"
   ]
  },
  {
   "cell_type": "code",
   "execution_count": null,
   "metadata": {},
   "outputs": [],
   "source": [
    "N=20000\n",
    "a = -4\n",
    "b = 4\n",
    "int1 = integrate_MC1D_direct(N,function4,a,b)"
   ]
  },
  {
   "cell_type": "markdown",
   "metadata": {},
   "source": [
    "# Task 1\n",
    " \n",
    "\n",
    "\n",
    "Write a class object that contains the different numerical approaches to integration. Compare accuracy and speed of the different approaches. Which approach works well for which function? Which functions are difficult to integrate with a Monte Carlo approach?\n",
    "\n",
    "Make sure to validate your results using analytical integrals. \n",
    "\n",
    "# Task 2\n",
    "\n",
    "Line out how you would proceed to implement 2D integrals for functions $f_5$ and $f_6$ using a 2D Riemann method (no need to implement, we will do something similar later) and a Monte-Carlo integral. \n",
    "\n",
    "Make a statement about the scaling of the number of numerical operations compared to 1D integrals in case of the Riemann method. Does this scaling also apply to the Monte-Carlo method?\n",
    "\n",
    "\n",
    "# Optional: \n",
    "Argue if the structure of functions $f_5$ and $f_6$ can be exploited to implement the Riemann integrals in a more efficient way than one would use for arbitrary 2D functions. Hint: $\\sin(x+y) = \\sin(x) \\cdot \\cos(y) + \\cos(x) \\cdot \\sin(y)$\n",
    "\n",
    "\n",
    "Upload your notebook to moodle."
   ]
  }
 ],
 "metadata": {
  "kernelspec": {
   "display_name": "Python 3 (ipykernel)",
   "language": "python",
   "name": "python3"
  },
  "language_info": {
   "codemirror_mode": {
    "name": "ipython",
    "version": 3
   },
   "file_extension": ".py",
   "mimetype": "text/x-python",
   "name": "python",
   "nbconvert_exporter": "python",
   "pygments_lexer": "ipython3",
   "version": "3.9.5"
  }
 },
 "nbformat": 4,
 "nbformat_minor": 4
}
