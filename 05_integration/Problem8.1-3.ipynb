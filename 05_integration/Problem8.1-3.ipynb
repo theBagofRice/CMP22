{
 "cells": [
  {
   "cell_type": "markdown",
   "id": "9bcc25e3",
   "metadata": {},
   "source": [
    "# Task 1\n",
    " \n",
    "\n",
    "\n",
    "Write a class object that contains the different numerical approaches to integration. Compare accuracy and speed of the different approaches. Which approach works well for which function? Which functions are difficult to integrate with a Monte Carlo approach?\n",
    "\n",
    "Make sure to validate your results using analytical integrals. \n",
    "\n",
    "# Task 2\n",
    "\n",
    "Line out how you would proceed to implement 2D integrals for functions $f_5$ and $f_6$ using a 2D Riemann method (no need to implement, we will do something similar later) and a Monte-Carlo integral. \n",
    "\n",
    "Make a statement about the scaling of the number of numerical operations compared to 1D integrals in case of the Riemann method. Does this scaling also apply to the Monte-Carlo method?\n",
    "\n",
    "\n",
    "# Optional: \n",
    "Argue if the structure of functions $f_5$ and $f_6$ can be exploited to implement the Riemann integrals in a more efficient way than one would use for arbitrary 2D functions. Hint: $\\sin(x+y) = \\sin(x) \\cdot \\cos(y) + \\cos(x) \\cdot \\sin(y)$\n",
    "\n",
    "\n",
    "Upload your notebook to moodle."
   ]
  },
  {
   "cell_type": "code",
   "execution_count": 1,
   "id": "7611997c",
   "metadata": {},
   "outputs": [],
   "source": [
    "from numpy import *\n",
    "import time\n",
    "from tabulate import tabulate"
   ]
  },
  {
   "cell_type": "code",
   "execution_count": 2,
   "id": "8a235f4e",
   "metadata": {},
   "outputs": [],
   "source": [
    "def function1(x):\n",
    "    y = x*(x - 3)*(x + 3)\n",
    "    return y\n",
    "\n",
    "def function2(x):\n",
    "    y = abs(x)\n",
    "    return y\n",
    "\n",
    "def function3(x):\n",
    "    y = sin(x * 2.1) * (-x / 2.0)\n",
    "    return y\n",
    "\n",
    "def function4(x):\n",
    "    y = 1.6 ** x - 1.5 * x\n",
    "    return y\n",
    "\n",
    "#################################################################\n",
    "\n",
    "\n",
    "def integral1(a,b):\n",
    "    # integral of function1 over [a,b]\n",
    "    return (b**4/4 - 9*b**2/2) - (a**4/4 - 9*a**2/2)\n",
    "\n",
    "def integral2(a,b):\n",
    "    # integral of function2 over [a,b]\n",
    "    a2 = a**2/2*sign(a)\n",
    "    b2 = b**2/2*sign(b)\n",
    "    return b2 - a2\n",
    "\n",
    "def integral3(a,b):\n",
    "    # integral of function3 over [a,b]\n",
    "    uv = -cos(b*2.1)/2.1 * (-b / 2.0) + cos(a*2.1)/2.1 * (-a / 2.0)\n",
    "    uvp = -sin(b*2.1)/2.1**2 /2 + sin(a*2.1)/2.1**2 /2 \n",
    "    return uv + uvp\n",
    "\n",
    "def integral4(a,b):\n",
    "    # integral of function4 over [a,b]\n",
    "    lg = 1.6**b/log(1.6) - 1.6**a/log(1.6)\n",
    "    sq = 1.5 * b**2/2 - 1.5 * a**2/2\n",
    "    return lg - sq\n"
   ]
  },
  {
   "cell_type": "markdown",
   "id": "b368d42a",
   "metadata": {},
   "source": [
    "## Task 1\n",
    "\n",
    "Write a class object that contains the different numerical approaches to integration. Compare accuracy and speed of the different approaches. Which approach works well for which function? Which functions are difficult to integrate with a Monte Carlo approach?\n",
    "\n",
    "Make sure to validate your results using analytical integrals. "
   ]
  },
  {
   "cell_type": "code",
   "execution_count": 3,
   "id": "3fa82618",
   "metadata": {},
   "outputs": [],
   "source": [
    "class integrate:\n",
    "    def __init__(self, func, ana, N, a, b):\n",
    "        self.a = a\n",
    "        self.b = b\n",
    "        self.N = N\n",
    "        self.x, self.dx = linspace(a, b, N, endpoint=True, retstep=True)\n",
    "        self.f = func\n",
    "        self.y = func(self.x)\n",
    "        self.a = ana(a, b)\n",
    "        \n",
    "    def getTime(self):\n",
    "        return time.process_time()\n",
    "    \n",
    "    def riemann(self):\n",
    "        t0 = self.getTime()\n",
    "        \n",
    "        ff = self.f(self.x)\n",
    "        I =ff.sum()*self.dx\n",
    "        t1 = self.getTime()\n",
    "        \n",
    "        err=self.a - I\n",
    "        \n",
    "        return I, t1-t0, err\n",
    "        \n",
    "    def midpoint(self):\n",
    "        t0 = self.getTime()\n",
    "        \n",
    "        ff = self.f(self.x+self.dx/2)\n",
    "        I = ff.sum()*self.dx\n",
    "        t1 = self.getTime()\n",
    "        \n",
    "        err=self.a - I\n",
    "        \n",
    "        return I, t1-t0, err\n",
    "    \n",
    "    def trapezoid(self):\n",
    "        t0 = self.getTime()\n",
    "        \n",
    "        if self.N == 1:\n",
    "            I = (self.b-self.a)/0.5*(self.x[0]+self.x[-1])\n",
    "            t1 = self.getTime()\n",
    "            err=self.a - I\n",
    "            return I, t1-t0\n",
    "        else:\n",
    "            I = (self.y[1:self.N-1].sum() + (self.y[0] + self.y[-1])/2)*self.dx\n",
    "            t1 = self.getTime()\n",
    "            err=self.a - I\n",
    "            return I, t1-t0, err\n",
    "        \n",
    "    def montecarlo(self): #integrate_MC1D\n",
    "        fmax = self.y.max()\n",
    "        fmin = self.y.min()\n",
    "\n",
    "        # just to avoid zero volume\n",
    "        if abs(fmax-fmin) < 1.e-8:\n",
    "            fmin = fmin - 1.e-8\n",
    "            fmax = fmax + 1.e-8\n",
    "\n",
    "        t0 = self.getTime()\n",
    "            \n",
    "        x_rand = (self.b-self.a)*random.random(self.N)+self.a\n",
    "        y_rand = (fmax-fmin)*random.random(self.N)+fmin\n",
    "\n",
    "        # evaluate this only once\n",
    "        func_rand = self.f(x_rand)\n",
    "\n",
    "\n",
    "        ind_below_pos = nonzero((y_rand <= func_rand) & (y_rand >= 0))\n",
    "        ind_below_neg = nonzero((y_rand >= func_rand) & (y_rand < 0))\n",
    "        ind_above_pos = nonzero((y_rand > func_rand) & (y_rand >= 0))\n",
    "        ind_above_neg = nonzero((y_rand < func_rand) & (y_rand < 0))\n",
    "\n",
    "        integral = (len(ind_below_pos[0])-len(ind_below_neg[0]))/self.N\n",
    "        #print('Ratio of sampled points within integration are vs total sample are', sampled)\n",
    "\n",
    "        area = (fmax-fmin)*(self.b-self.a)\n",
    "        I = area*integral\n",
    "        \n",
    "        t1 = self.getTime()\n",
    "        \n",
    "        npos = len(ind_above_pos[0])\n",
    "        nneg = len(ind_below_neg[0])\n",
    "\n",
    "        meanfsquare = ((npos - nneg)/N)**2\n",
    "        fsquaremean = (npos + nneg)/N  # f^2 is one for all points that count, zero otherwise\n",
    "\n",
    "        err = area*sqrt((fsquaremean - meanfsquare)/N)\n",
    "                \n",
    "        return I, t1-t0, err\n",
    "\n",
    "    def sampling(self): #integrate_MC1D_direct\n",
    "        x_rand = (self.b-self.a)*random.random(self.N)+self.a\n",
    "        y_rand = self.f(x_rand)\n",
    "        \n",
    "        t0 = self.getTime()\n",
    "\n",
    "        I = sum(y_rand)*(self.b-self.a)/self.N\n",
    "        #print('Monte Carlo integral:', integral)\n",
    "\n",
    "        # error estimate:\n",
    "\n",
    "        t1 = self.getTime()\n",
    "        \n",
    "        err = sqrt(((y_rand**2).mean() - y_rand.mean()**2)/self.N)*(self.b-self.a)\n",
    "        #print('Estimated Monte-Carlo error:', error)\n",
    "\n",
    "        return I, t1-t0, err"
   ]
  },
  {
   "cell_type": "code",
   "execution_count": 4,
   "id": "404c6902",
   "metadata": {},
   "outputs": [],
   "source": [
    "N = 20000\n",
    "a = -4\n",
    "b = 4\n",
    "funcs=[1, 2, 3, 4, 5]"
   ]
  },
  {
   "cell_type": "markdown",
   "id": "435a028b",
   "metadata": {},
   "source": [
    "Function 1 - Riemann\n",
    "\n",
    "Function 2 - Riemann midpoint\n",
    "\n",
    "Function 3 - trapezoid\n",
    "\n",
    "Function 4 - MC Hit Miss\n",
    "\n",
    "Function 5 - MC Sampling"
   ]
  },
  {
   "cell_type": "code",
   "execution_count": 5,
   "id": "6cb217b7",
   "metadata": {},
   "outputs": [
    {
     "name": "stdout",
     "output_type": "stream",
     "text": [
      "╒═════════════╤══════════════╤═══════════════╤══════════════╕\n",
      "│   functions │     Integral │   time needed │        error │\n",
      "╞═════════════╪══════════════╪═══════════════╪══════════════╡\n",
      "│           1 │ -1.30974e-14 │   0.0011374   │  1.30974e-14 │\n",
      "├─────────────┼──────────────┼───────────────┼──────────────┤\n",
      "│           2 │  0.0112037   │   0.000108484 │ -0.0112037   │\n",
      "├─────────────┼──────────────┼───────────────┼──────────────┤\n",
      "│           3 │ -4.36579e-15 │   2.2672e-05  │  4.36579e-15 │\n",
      "├─────────────┼──────────────┼───────────────┼──────────────┤\n",
      "│           4 │ -7.448       │   0.00103659  │  1.00905     │\n",
      "├─────────────┼──────────────┼───────────────┼──────────────┤\n",
      "│           5 │ -8.15978     │   0.000148078 │  0.270062    │\n",
      "╘═════════════╧══════════════╧═══════════════╧══════════════╛\n"
     ]
    }
   ],
   "source": [
    "f1 = integrate(function1, integral1, N, a, b)\n",
    "\n",
    "I1 = zeros(5)\n",
    "dt1 = zeros(5)\n",
    "err1 = zeros(5)\n",
    "\n",
    "I1[0], dt1[0], err1[0] = f1.riemann()\n",
    "I1[1], dt1[1], err1[1] = f1.midpoint()\n",
    "I1[2], dt1[2], err1[2] = f1.trapezoid()\n",
    "I1[3], dt1[3], err1[3] = f1.montecarlo()\n",
    "I1[4], dt1[4], err1[4] = f1.sampling()\n",
    "\n",
    "data1 = zeros(20)\n",
    "data1 = data1.reshape(5, 4)\n",
    "\n",
    "#funcs=['Riemann', 'Riemann midpoint', 'trapezoid', 'MC Hit Miss', 'MC Sampling']\n",
    "\n",
    "for i in range(5):\n",
    "    data1[i] = [funcs[i], I1[i], dt1[i], err1[i]]\n",
    "    \n",
    "myheaders = ['functions', 'Integral', 'time needed', 'error']\n",
    "table1 = tabulate(data1, headers=myheaders, tablefmt='fancy_grid')\n",
    "print(table1)"
   ]
  },
  {
   "cell_type": "code",
   "execution_count": 6,
   "id": "d1685f3b",
   "metadata": {},
   "outputs": [
    {
     "name": "stdout",
     "output_type": "stream",
     "text": [
      "╒═════════════╤══════════════╤═══════════════╤══════════════╕\n",
      "│   functions │     Integral │   time needed │        error │\n",
      "╞═════════════╪══════════════╪═══════════════╪══════════════╡\n",
      "│           1 │ -1.30974e-14 │    0.00293145 │  1.30974e-14 │\n",
      "├─────────────┼──────────────┼───────────────┼──────────────┤\n",
      "│           2 │  0.0112037   │    0.0017123  │ -0.0112037   │\n",
      "├─────────────┼──────────────┼───────────────┼──────────────┤\n",
      "│           3 │ -4.36579e-15 │    2.9185e-05 │  4.36579e-15 │\n",
      "├─────────────┼──────────────┼───────────────┼──────────────┤\n",
      "│           4 │ -8.7136      │    0.00104566 │  1.01597     │\n",
      "├─────────────┼──────────────┼───────────────┼──────────────┤\n",
      "│           5 │ -8.17028     │    7.0823e-05 │  0.26882     │\n",
      "╘═════════════╧══════════════╧═══════════════╧══════════════╛\n"
     ]
    }
   ],
   "source": [
    "f2 = integrate(function2, integral2, N, a, b)\n",
    "\n",
    "I2 = zeros(5)\n",
    "dt2 = zeros(5)\n",
    "err2 = zeros(5)\n",
    "\n",
    "I2[0], dt2[0], err2[0] = f1.riemann()\n",
    "I2[1], dt2[1], err2[1] = f1.midpoint()\n",
    "I2[2], dt2[2], err2[2] = f1.trapezoid()\n",
    "I2[3], dt2[3], err2[3] = f1.montecarlo()\n",
    "I2[4], dt2[4], err2[4] = f1.sampling()\n",
    "\n",
    "data2 = zeros(20)\n",
    "data2 = data1.reshape(5, 4)\n",
    "\n",
    "for i in range(5):\n",
    "    data2[i] = [funcs[i], I2[i], dt2[i], err2[i]]\n",
    "    \n",
    "myheaders = ['functions', 'Integral', 'time needed', 'error']\n",
    "table2 = tabulate(data2, headers=myheaders, tablefmt='fancy_grid')\n",
    "print(table2)"
   ]
  },
  {
   "cell_type": "code",
   "execution_count": 7,
   "id": "adcd222e",
   "metadata": {},
   "outputs": [
    {
     "name": "stdout",
     "output_type": "stream",
     "text": [
      "╒═════════════╤════════════╤═══════════════╤══════════════╕\n",
      "│   functions │   Integral │   time needed │        error │\n",
      "╞═════════════╪════════════╪═══════════════╪══════════════╡\n",
      "│           1 │  -1.18359  │   0.000526738 │  0.000683667 │\n",
      "├─────────────┼────────────┼───────────────┼──────────────┤\n",
      "│           2 │  -1.18359  │   0.000741522 │  0.000683596 │\n",
      "├─────────────┼────────────┼───────────────┼──────────────┤\n",
      "│           3 │  -1.18291  │   7.1074e-05  │ -4.67704e-08 │\n",
      "├─────────────┼────────────┼───────────────┼──────────────┤\n",
      "│           4 │  -0.875082 │   0.00209958  │  0.0704825   │\n",
      "├─────────────┼────────────┼───────────────┼──────────────┤\n",
      "│           5 │  -0.925128 │   6.6766e-05  │  0.0284428   │\n",
      "╘═════════════╧════════════╧═══════════════╧══════════════╛\n"
     ]
    }
   ],
   "source": [
    "f3 = integrate(function3, integral3, N, a, b)\n",
    "\n",
    "I3 = zeros(5)\n",
    "dt3 = zeros(5)\n",
    "err3 = zeros(5)\n",
    "\n",
    "I3[0], dt3[0], err3[0] = f3.riemann()\n",
    "I3[1], dt3[1], err3[1] = f3.midpoint()\n",
    "I3[2], dt3[2], err3[2] = f3.trapezoid()\n",
    "I3[3], dt3[3], err3[3] = f3.montecarlo()\n",
    "I3[4], dt3[4], err3[4] = f3.sampling()\n",
    "\n",
    "data3 = zeros(20)\n",
    "data3 = data1.reshape(5, 4)\n",
    "\n",
    "for i in range(5):\n",
    "    data3[i] = [funcs[i], I3[i], dt3[i], err3[i]]\n",
    "    \n",
    "myheaders = ['functions', 'Integral', 'time needed', 'error']\n",
    "table3 = tabulate(data3, headers=myheaders, tablefmt='fancy_grid')\n",
    "print(table3)"
   ]
  },
  {
   "cell_type": "code",
   "execution_count": 8,
   "id": "78ec9c52",
   "metadata": {},
   "outputs": [
    {
     "name": "stdout",
     "output_type": "stream",
     "text": [
      "╒═════════════╤════════════╤═══════════════╤══════════════╕\n",
      "│   functions │   Integral │   time needed │        error │\n",
      "╞═════════════╪════════════╪═══════════════╪══════════════╡\n",
      "│           1 │  -1.18359  │   0.000526738 │  0.000683667 │\n",
      "├─────────────┼────────────┼───────────────┼──────────────┤\n",
      "│           2 │  -1.18359  │   0.000741522 │  0.000683596 │\n",
      "├─────────────┼────────────┼───────────────┼──────────────┤\n",
      "│           3 │  -1.18291  │   7.1074e-05  │ -4.67704e-08 │\n",
      "├─────────────┼────────────┼───────────────┼──────────────┤\n",
      "│           4 │  -0.875082 │   0.00209958  │  0.0704825   │\n",
      "├─────────────┼────────────┼───────────────┼──────────────┤\n",
      "│           5 │  -0.925128 │   6.6766e-05  │  0.0284428   │\n",
      "╘═════════════╧════════════╧═══════════════╧══════════════╛\n"
     ]
    }
   ],
   "source": [
    "f4 = integrate(function4, integral4, N, a, b)\n",
    "\n",
    "I4 = zeros(5)\n",
    "dt4 = zeros(5)\n",
    "err4 = zeros(5)\n",
    "\n",
    "I4[0], dt4[0], err4[0] = f4.riemann()\n",
    "I4[1], dt4[1], err4[1] = f4.midpoint()\n",
    "I4[2], dt4[2], err4[2] = f4.trapezoid()\n",
    "I4[3], dt4[3], err4[3] = f4.montecarlo()\n",
    "I4[4], dt4[4], err4[4] = f4.sampling()\n",
    "\n",
    "data4 = zeros(20)\n",
    "data4 = data1.reshape(5, 4)\n",
    "\n",
    "for i in range(5):\n",
    "    data4[i] = [funcs[i], I3[i], dt3[i], err3[i]]\n",
    "    \n",
    "myheaders = ['functions', 'Integral', 'time needed', 'error']\n",
    "table4 = tabulate(data4, headers=myheaders, tablefmt='fancy_grid')\n",
    "print(table4)"
   ]
  },
  {
   "cell_type": "code",
   "execution_count": 9,
   "id": "25c0fd3e",
   "metadata": {},
   "outputs": [
    {
     "name": "stdout",
     "output_type": "stream",
     "text": [
      "comparing Riemann function:\n",
      "╒══════════════╤═══════════════╤══════════════╕\n",
      "│     Integral │   time needed │        error │\n",
      "╞══════════════╪═══════════════╪══════════════╡\n",
      "│ -1.30974e-14 │   0.0011374   │  1.30974e-14 │\n",
      "├──────────────┼───────────────┼──────────────┤\n",
      "│ -1.30974e-14 │   0.00293145  │  1.30974e-14 │\n",
      "├──────────────┼───────────────┼──────────────┤\n",
      "│ -1.18359     │   0.000526738 │  0.000683667 │\n",
      "├──────────────┼───────────────┼──────────────┤\n",
      "│ 13.6204      │   0.00178941  │ -0.00134134  │\n",
      "╘══════════════╧═══════════════╧══════════════╛\n"
     ]
    }
   ],
   "source": [
    "data5 = [\n",
    "    [I1[0], dt1[0], err1[0]],\n",
    "    [I2[0], dt2[0], err2[0]],\n",
    "    [I3[0], dt3[0], err3[0]],\n",
    "    [I4[0], dt4[0], err4[0]],\n",
    "]\n",
    "\n",
    "myheaders = ['Integral', 'time needed', 'error']\n",
    "table5 = tabulate(data5, headers=myheaders, tablefmt='fancy_grid')\n",
    "\n",
    "print('comparing Riemann function:')\n",
    "print(table5)"
   ]
  },
  {
   "cell_type": "code",
   "execution_count": 10,
   "id": "ce63bc70",
   "metadata": {},
   "outputs": [
    {
     "name": "stdout",
     "output_type": "stream",
     "text": [
      "comparing Riemann midpoint function:\n",
      "╒════════════╤═══════════════╤══════════════╕\n",
      "│   Integral │   time needed │        error │\n",
      "╞════════════╪═══════════════╪══════════════╡\n",
      "│  0.0112037 │   0.000108484 │ -0.0112037   │\n",
      "├────────────┼───────────────┼──────────────┤\n",
      "│  0.0112037 │   0.0017123   │ -0.0112037   │\n",
      "├────────────┼───────────────┼──────────────┤\n",
      "│ -1.18359   │   0.000741522 │  0.000683596 │\n",
      "├────────────┼───────────────┼──────────────┤\n",
      "│ 13.6193    │   0.00100607  │ -0.000221557 │\n",
      "╘════════════╧═══════════════╧══════════════╛\n"
     ]
    }
   ],
   "source": [
    "data6 = [\n",
    "    [I1[1], dt1[1], err1[1]],\n",
    "    [I2[1], dt2[1], err2[1]],\n",
    "    [I3[1], dt3[1], err3[1]],\n",
    "    [I4[1], dt4[1], err4[1]],\n",
    "]\n",
    "\n",
    "myheaders = ['Integral', 'time needed', 'error']\n",
    "table6 = tabulate(data6, headers=myheaders, tablefmt='fancy_grid')\n",
    "\n",
    "print('comparing Riemann midpoint function:')\n",
    "print(table6)"
   ]
  },
  {
   "cell_type": "code",
   "execution_count": 11,
   "id": "ab0da818",
   "metadata": {},
   "outputs": [
    {
     "name": "stdout",
     "output_type": "stream",
     "text": [
      "comparing trapezoid function:\n",
      "╒══════════════╤═══════════════╤══════════════╕\n",
      "│     Integral │   time needed │        error │\n",
      "╞══════════════╪═══════════════╪══════════════╡\n",
      "│ -4.36579e-15 │    2.2672e-05 │  4.36579e-15 │\n",
      "├──────────────┼───────────────┼──────────────┤\n",
      "│ -4.36579e-15 │    2.9185e-05 │  4.36579e-15 │\n",
      "├──────────────┼───────────────┼──────────────┤\n",
      "│ -1.18291     │    7.1074e-05 │ -4.67704e-08 │\n",
      "├──────────────┼───────────────┼──────────────┤\n",
      "│ 13.6191      │    5.0064e-05 │ -4.01173e-08 │\n",
      "╘══════════════╧═══════════════╧══════════════╛\n"
     ]
    }
   ],
   "source": [
    "data7 = [\n",
    "    [I1[2], dt1[2], err1[2]],\n",
    "    [I2[2], dt2[2], err2[2]],\n",
    "    [I3[2], dt3[2], err3[2]],\n",
    "    [I4[2], dt4[2], err4[2]],\n",
    "]\n",
    "\n",
    "myheaders = ['Integral', 'time needed', 'error']\n",
    "table7 = tabulate(data7, headers=myheaders, tablefmt='fancy_grid')\n",
    "\n",
    "print('comparing trapezoid function:')\n",
    "print(table7)"
   ]
  },
  {
   "cell_type": "code",
   "execution_count": 12,
   "id": "6fbf23a7",
   "metadata": {},
   "outputs": [
    {
     "name": "stdout",
     "output_type": "stream",
     "text": [
      "comparing MC hit miss function:\n",
      "╒════════════╤═══════════════╤════════════╕\n",
      "│   Integral │   time needed │      error │\n",
      "╞════════════╪═══════════════╪════════════╡\n",
      "│  -7.448    │    0.00103659 │  1.00905   │\n",
      "├────────────┼───────────────┼────────────┤\n",
      "│  -8.7136   │    0.00104566 │  1.01597   │\n",
      "├────────────┼───────────────┼────────────┤\n",
      "│  -0.875082 │    0.00209958 │  0.0704825 │\n",
      "├────────────┼───────────────┼────────────┤\n",
      "│ -53.2904   │    0.00155218 │ -0.13207   │\n",
      "╘════════════╧═══════════════╧════════════╛\n"
     ]
    }
   ],
   "source": [
    "data8 = [\n",
    "    [I1[3], dt1[3], err1[3]],\n",
    "    [I2[3], dt2[3], err2[3]],\n",
    "    [I3[3], dt3[3], err3[3]],\n",
    "    [I4[3], dt4[3], err4[3]],\n",
    "]\n",
    "\n",
    "myheaders = ['Integral', 'time needed', 'error']\n",
    "table8 = tabulate(data8, headers=myheaders, tablefmt='fancy_grid')\n",
    "\n",
    "print('comparing MC hit miss function:')\n",
    "print(table8)"
   ]
  },
  {
   "cell_type": "code",
   "execution_count": 13,
   "id": "17a9e55a",
   "metadata": {},
   "outputs": [
    {
     "name": "stdout",
     "output_type": "stream",
     "text": [
      "comparing MC sampling function:\n",
      "╒══════════════╤═══════════════╤════════════╕\n",
      "│     Integral │   time needed │      error │\n",
      "╞══════════════╪═══════════════╪════════════╡\n",
      "│    -8.15978  │   0.000148078 │  0.270062  │\n",
      "├──────────────┼───────────────┼────────────┤\n",
      "│    -8.17028  │   7.0823e-05  │  0.26882   │\n",
      "├──────────────┼───────────────┼────────────┤\n",
      "│    -0.925128 │   6.6766e-05  │  0.0284428 │\n",
      "├──────────────┼───────────────┼────────────┤\n",
      "│ -1115.17     │   7.2776e-05  │ -9.87973   │\n",
      "╘══════════════╧═══════════════╧════════════╛\n"
     ]
    }
   ],
   "source": [
    "data9 = [\n",
    "    [I1[4], dt1[4], err1[4]],\n",
    "    [I2[4], dt2[4], err2[4]],\n",
    "    [I3[4], dt3[4], err3[4]],\n",
    "    [I4[4], dt4[4], err4[4]],\n",
    "]\n",
    "\n",
    "myheaders = ['Integral', 'time needed', 'error']\n",
    "table9 = tabulate(data9, headers=myheaders, tablefmt='fancy_grid')\n",
    "\n",
    "print('comparing MC sampling function:')\n",
    "print(table9)"
   ]
  },
  {
   "cell_type": "markdown",
   "id": "3b4226c5",
   "metadata": {},
   "source": [
    "\n",
    "## Task 2\n",
    "\n",
    "Line out how you would proceed to implement 2D integrals for functions $f_5$ and $f_6$ using a 2D Riemann method (no need to implement, we will do something similar later) and a Monte-Carlo integral. \n",
    "\n",
    "Make a statement about the scaling of the number of numerical operations compared to 1D integrals in case of the Riemann method. Does this scaling also apply to the Monte-Carlo method?\n",
    "\n",
    "---"
   ]
  },
  {
   "cell_type": "markdown",
   "id": "03d7ad13",
   "metadata": {},
   "source": [
    "It is quite similar to the 1D case. This time, we evaluate the volume between the 2D function and the xy-plane. This means, that we take the sum over cuboids instead of rectangles.\n",
    "\n",
    "Needing to evaluate along the x- as well as y-axis means we will have $n^2$ cuboids compared to $n$ rectangles. This increases exponentially with the amount of dimensions we have to integrate over.\n",
    "\n",
    "For Monte-Carlo, since we evaluate an amount of random points, it doesn't really matter how many dimensions are being considered, since they will be (more or less) distributed evenly around a certain area (1D) or space (2D). With increasing dimensions, the Monte-Carlo approaches should scale linear compared to the exponential scaling of the Riemann approach. This would make the Monte-Carlo approach more viable for higher dimensions.\n",
    "\n",
    "I would imagine there to be a difference in accuracy between 1D and 2D functions with the same amount of points. Mainly, because the average distance between the points would increase from $\\sqrt{2 \\cdot a^2}$ to $\\sqrt{3 \\cdot a^2}$. This assumes an average distance along the x and y axis in the 1D functions, denoted as $a$. The average distance between two random points is then the diagonal of a triangle ($\\sqrt{2 \\cdot a^2}$). For 2D, we would then have a cube and the diagonal would be ($\\sqrt{3 \\cdot a^2}$).\n",
    "\n",
    "We would then need an increase of $\\sqrt{\\frac{3}{2}}$ points to have the same amount of \"quality\" or \"accuracy\" of the numerical integration (this is a guess, not entirely sure, if that makes sense)."
   ]
  },
  {
   "cell_type": "markdown",
   "id": "38246171",
   "metadata": {},
   "source": [
    "## Optional: \n",
    "Argue if the structure of functions $f_5$ and $f_6$ can be exploited to implement the Riemann integrals in a more efficient way than one would use for arbitrary 2D functions. Hint: $\\sin(x+y) = \\sin(x) \\cdot \\cos(y) + \\cos(x) \\cdot \\sin(y)$"
   ]
  },
  {
   "cell_type": "markdown",
   "id": "39a6757e",
   "metadata": {},
   "source": [
    "\\begin{align}\n",
    "    f_5(x,y) &= \\sin\\left(x+y\\right)\\tan\\left(0.1x\\right) \\\\\n",
    "    f_6(x,y) &= \\sin\\left(\\sqrt{5}+x\\right)y \n",
    "\\end{align}"
   ]
  },
  {
   "cell_type": "markdown",
   "id": "4560106d",
   "metadata": {},
   "source": [
    "Function 5: "
   ]
  }
 ],
 "metadata": {
  "kernelspec": {
   "display_name": "Python 3 (ipykernel)",
   "language": "python",
   "name": "python3"
  },
  "language_info": {
   "codemirror_mode": {
    "name": "ipython",
    "version": 3
   },
   "file_extension": ".py",
   "mimetype": "text/x-python",
   "name": "python",
   "nbconvert_exporter": "python",
   "pygments_lexer": "ipython3",
   "version": "3.9.5"
  }
 },
 "nbformat": 4,
 "nbformat_minor": 5
}
