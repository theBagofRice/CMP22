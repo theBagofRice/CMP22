{
 "cells": [
  {
   "cell_type": "markdown",
   "metadata": {},
   "source": [
    "Computational modeling in python, SoSe2022 \n",
    "\n",
    "\n",
    "# Timing methods\n",
    "\n",
    "timing will somehow access the system clock so the results and their granularity will be platform dependent. "
   ]
  },
  {
   "cell_type": "code",
   "execution_count": null,
   "metadata": {},
   "outputs": [],
   "source": [
    "import numpy as np\n",
    "\n",
    "\n",
    "def function1(x):\n",
    "    y = x*(x - 3)*(x + 3)\n",
    "    return y\n"
   ]
  },
  {
   "cell_type": "code",
   "execution_count": null,
   "metadata": {},
   "outputs": [],
   "source": [
    "def integrate_MC1D_direct(N,myfunc,a,b):\n",
    "    \n",
    "    x_rand = (b-a)*np.random.random(N)+a\n",
    "    y_rand = myfunc(x_rand)\n",
    "    \n",
    "    integral = y_rand.sum()*(b-a)/N\n",
    "    \n",
    "    return integral"
   ]
  },
  {
   "cell_type": "markdown",
   "metadata": {},
   "source": [
    "## Timing with magic functions"
   ]
  },
  {
   "cell_type": "code",
   "execution_count": null,
   "metadata": {},
   "outputs": [],
   "source": [
    "%%time\n",
    "# timing of the complete cell\n",
    "\n",
    "N = 1000000\n",
    "a = -4\n",
    "b = 4\n",
    "\n",
    "integrate_MC1D_direct(N,function1,a,b)\n"
   ]
  },
  {
   "cell_type": "code",
   "execution_count": null,
   "metadata": {},
   "outputs": [],
   "source": [
    "# timing of a single command\n",
    "\n",
    "N = 1000000\n",
    "a = -4\n",
    "b = 4\n",
    "\n",
    "%time integrate_MC1D_direct(N,function1,a,b)\n"
   ]
  },
  {
   "cell_type": "markdown",
   "metadata": {},
   "source": [
    "# Using the `time` module"
   ]
  },
  {
   "cell_type": "code",
   "execution_count": null,
   "metadata": {},
   "outputs": [],
   "source": [
    "import time\n",
    "# there is also the timeit.timer() function which defaults to time.perf_counter() in python 3\n",
    "\n",
    "N = 1000000\n",
    "a = -4\n",
    "b = 4\n",
    "\n",
    "# system time (undefined reference, so only differences matter)\n",
    "tstart = time.perf_counter()\n",
    "\n",
    "I = integrate_MC1D_direct(N,function1,a,b)\n",
    "\n",
    "tend = time.perf_counter()\n",
    "\n",
    "print(tend-tstart, 'seconds')"
   ]
  },
  {
   "cell_type": "code",
   "execution_count": null,
   "metadata": {},
   "outputs": [],
   "source": [
    "\n",
    "N = 1000000\n",
    "a = -4\n",
    "b = 4\n",
    "\n",
    "# runtime of the current process (user + system, not counting sleep time)\n",
    "tstart = time.process_time()\n",
    "\n",
    "I = integrate_MC1D_direct(N,function1,a,b)\n",
    "\n",
    "tend = time.process_time()\n",
    "\n",
    "print(tend-tstart, ' seconds')"
   ]
  },
  {
   "cell_type": "markdown",
   "metadata": {},
   "source": [
    "### Timing should be done several times to obtain reliable results"
   ]
  },
  {
   "cell_type": "code",
   "execution_count": null,
   "metadata": {},
   "outputs": [],
   "source": [
    "\n",
    "N = 1000000\n",
    "a = -4\n",
    "b = 4\n",
    "nperf = 20\n",
    "\n",
    "ttotal = 0.0\n",
    "\n",
    "for i in range(nperf):\n",
    "    tstart = time.perf_counter()\n",
    "    I = integrate_MC1D_direct(N,function1,a,b)\n",
    "    tend = time.perf_counter()\n",
    "    ttotal = ttotal + tend-tstart\n",
    "    \n",
    "\n",
    "print(ttotal/nperf, ' seconds on average')"
   ]
  },
  {
   "cell_type": "code",
   "execution_count": null,
   "metadata": {},
   "outputs": [],
   "source": [
    "%%timeit -n 3 -r 4\n",
    "\n",
    "I = integrate_MC1D_direct(N,function1,a,b)"
   ]
  },
  {
   "cell_type": "markdown",
   "metadata": {},
   "source": [
    "# Profiling code with `%prun`\n",
    "\n",
    "Finding parts of code that are slow (or fast) "
   ]
  },
  {
   "cell_type": "code",
   "execution_count": null,
   "metadata": {},
   "outputs": [],
   "source": [
    "def minmax1(myarray):\n",
    "       \n",
    "    mymin1 = min(myarray)\n",
    "    mymax1 = max(myarray)\n",
    "    return mymin1, mymax1\n",
    "    \n",
    "    \n",
    "def minmax2(mayarray):\n",
    "    mymin2 = myarray.min()\n",
    "    mymax2 = myarray.max()\n",
    "    return mymin2, mymax2"
   ]
  },
  {
   "cell_type": "code",
   "execution_count": null,
   "metadata": {},
   "outputs": [],
   "source": [
    "N = 10000000\n",
    "myarray = np.random.random(N)\n",
    "\n",
    "# there is a sgnificant difference in  min(myarray) and myarray.min() etc. \n",
    "%prun mymin1, mymax1 = minmax1(myarray)"
   ]
  },
  {
   "cell_type": "code",
   "execution_count": null,
   "metadata": {},
   "outputs": [],
   "source": [
    "# there is a sgnificant difference in  min(myarray) and myarray.min() etc. \n",
    "%prun mymin2, mymax2 = minmax2(myarray)"
   ]
  },
  {
   "cell_type": "markdown",
   "metadata": {},
   "source": [
    "# Profiling with `cProfile`:"
   ]
  },
  {
   "cell_type": "code",
   "execution_count": null,
   "metadata": {},
   "outputs": [],
   "source": [
    "import cProfile\n",
    "\n",
    "cProfile.run('integrate_MC1D_direct(100000,function1,-4,4)')"
   ]
  },
  {
   "cell_type": "markdown",
   "metadata": {},
   "source": [
    "If you have a python script you can run the script using `cProfile`:\n",
    "\n",
    "\n",
    "`python -m cProfile myscript.py`\n",
    "\n",
    "on the command line.\n",
    "\n",
    "\n",
    "\n",
    "# Profiling with IPython extensions:\n",
    "\n",
    "`conda install line_profiler`\n",
    "\n",
    "`conda install memory_profiler`\n"
   ]
  },
  {
   "cell_type": "code",
   "execution_count": null,
   "metadata": {},
   "outputs": [],
   "source": [
    "%load_ext line_profiler"
   ]
  },
  {
   "cell_type": "code",
   "execution_count": null,
   "metadata": {},
   "outputs": [],
   "source": [
    "%lprun -f integrate_MC1D_direct integrate_MC1D_direct(100000,function1,-4,4)"
   ]
  },
  {
   "cell_type": "code",
   "execution_count": null,
   "metadata": {},
   "outputs": [],
   "source": [
    "%load_ext memory_profiler"
   ]
  },
  {
   "cell_type": "code",
   "execution_count": null,
   "metadata": {},
   "outputs": [],
   "source": [
    "%memit integrate_MC1D_direct(100000,function1,-4,4)"
   ]
  },
  {
   "cell_type": "markdown",
   "metadata": {},
   "source": [
    "`pip install py-heat-magic`\n",
    "\n",
    "`heat` requires everything defined in the cell that is to be profiled"
   ]
  },
  {
   "cell_type": "code",
   "execution_count": null,
   "metadata": {},
   "outputs": [],
   "source": [
    "%load_ext heat"
   ]
  },
  {
   "cell_type": "code",
   "execution_count": null,
   "metadata": {
    "scrolled": true
   },
   "outputs": [],
   "source": [
    "%%heat \n",
    "\n",
    "import numpy as np\n",
    "\n",
    "def function1(x):\n",
    "    y = x*(x - 3)*(x + 3)\n",
    "    return y\n",
    "\n",
    "\n",
    "def integrate_MC1D_direct(N,myfunc,a,b):\n",
    "    \n",
    "    x_rand = (b-a)*np.random.random(N)+a\n",
    "    y_rand = myfunc(x_rand)\n",
    "    \n",
    "    integral = y_rand.sum()*(b-a)/N\n",
    "    \n",
    "    return integral\n",
    "\n",
    "integrate_MC1D_direct(1000,function1,-4,4)"
   ]
  },
  {
   "cell_type": "code",
   "execution_count": null,
   "metadata": {},
   "outputs": [],
   "source": []
  }
 ],
 "metadata": {
  "kernelspec": {
   "display_name": "Python 3 (ipykernel)",
   "language": "python",
   "name": "python3"
  },
  "language_info": {
   "codemirror_mode": {
    "name": "ipython",
    "version": 3
   },
   "file_extension": ".py",
   "mimetype": "text/x-python",
   "name": "python",
   "nbconvert_exporter": "python",
   "pygments_lexer": "ipython3",
   "version": "3.9.5"
  }
 },
 "nbformat": 4,
 "nbformat_minor": 4
}
