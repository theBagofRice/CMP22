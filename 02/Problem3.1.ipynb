{
 "cells": [
  {
   "cell_type": "markdown",
   "id": "255abfc1",
   "metadata": {},
   "source": [
    "# Task 1\n",
    "\n",
    "Find out how many colors there are in the mycolors list below. Using loop structures, case selection and list indexing where required, find out\n",
    "1. how many colors have three letters or less in their name?\n",
    "2. how many colors have four letters?\n",
    "3. how many colors have five letters?\n",
    "4. how many colors have six letters?\n",
    "5. how many colors have seven or more letters?\n",
    "\n",
    "You can find the number of letters in a string using the len() function.\n",
    "\n",
    "Create an array that contains the above 1., 2., 3., 4., 5. numbers. Sum over all elements in the array using a loop, and using a numpy intrinsic function that you can find at one of the links above. Calculate the mean average value over all elements in the array using a loop and using a numpy intrinsic function."
   ]
  },
  {
   "cell_type": "code",
   "execution_count": 1,
   "id": "ea5c3750",
   "metadata": {},
   "outputs": [
    {
     "data": {
      "text/plain": [
       "'#000000'"
      ]
     },
     "execution_count": 1,
     "metadata": {},
     "output_type": "execute_result"
    }
   ],
   "source": [
    "from matplotlib import colors as mcolors\n",
    "import numpy as np\n",
    "\n",
    "# BASE_COLORS and CSS4_COLORS are both dictionaries,\n",
    "# key: color name; value: RGB value \n",
    "\n",
    "# concatenate the two dictionaries into one\n",
    "colors = {**mcolors.BASE_COLORS, **mcolors.CSS4_COLORS}\n",
    "\n",
    "colors[\"black\"] # string of red,green,blue values in hexadecimal format"
   ]
  },
  {
   "cell_type": "code",
   "execution_count": 2,
   "id": "3a19b414",
   "metadata": {},
   "outputs": [
    {
     "name": "stdout",
     "output_type": "stream",
     "text": [
      "HSV:  ((0.5, 1.0, 1.0), 'aqua')\n",
      "RGB:  #00FFFF aqua\n"
     ]
    }
   ],
   "source": [
    "colorlist = []\n",
    "\n",
    "# loop through the dictionary\n",
    "for name, color in colors.items():\n",
    "\n",
    "    # convert the hex RGB code to three numbers and alpha (opacity)\n",
    "    rgba = mcolors.to_rgba(color)\n",
    "    \n",
    "    # convert the numerical RGB value to hue, saturation, value (HSV)\n",
    "    # with [:3] we skip opacity because mcolors.rgb_to_hsv\n",
    "    # cannot digest it\n",
    "    tpl = (tuple(mcolors.rgb_to_hsv(rgba[:3])), name)\n",
    "    \n",
    "    # append the tuple to the list\n",
    "    colorlist.append(tpl)\n",
    "    \n",
    "# Lets see how this looks for sone color\n",
    "elem = 10\n",
    "print('HSV: ', colorlist[elem])\n",
    "print('RGB: ', colors[colorlist[elem][1]],colorlist[elem][1] )"
   ]
  },
  {
   "cell_type": "code",
   "execution_count": 3,
   "id": "f126df1d",
   "metadata": {},
   "outputs": [
    {
     "name": "stdout",
     "output_type": "stream",
     "text": [
      "['black', 'k', 'dimgray', 'dimgrey', 'gray', 'grey', 'darkgray', 'darkgrey', 'silver', 'lightgray', 'lightgrey', 'gainsboro', 'whitesmoke', 'w', 'white', 'snow', 'rosybrown', 'lightcoral', 'indianred', 'brown', 'firebrick', 'maroon', 'darkred', 'r', 'red', 'mistyrose', 'salmon', 'tomato', 'darksalmon', 'coral', 'orangered', 'lightsalmon', 'sienna', 'seashell', 'chocolate', 'saddlebrown', 'sandybrown', 'peachpuff', 'peru', 'linen', 'bisque', 'darkorange', 'burlywood', 'antiquewhite', 'tan', 'navajowhite', 'blanchedalmond', 'papayawhip', 'moccasin', 'orange', 'wheat', 'oldlace', 'floralwhite', 'darkgoldenrod', 'goldenrod', 'cornsilk', 'gold', 'lemonchiffon', 'khaki', 'palegoldenrod', 'darkkhaki', 'ivory', 'beige', 'lightyellow', 'lightgoldenrodyellow', 'olive', 'y', 'yellow', 'olivedrab', 'yellowgreen', 'darkolivegreen', 'greenyellow', 'chartreuse', 'lawngreen', 'honeydew', 'darkseagreen', 'palegreen', 'lightgreen', 'forestgreen', 'limegreen', 'darkgreen', 'g', 'green', 'lime', 'seagreen', 'mediumseagreen', 'springgreen', 'mintcream', 'mediumspringgreen', 'mediumaquamarine', 'aquamarine', 'turquoise', 'lightseagreen', 'mediumturquoise', 'azure', 'lightcyan', 'paleturquoise', 'darkslategray', 'darkslategrey', 'teal', 'darkcyan', 'c', 'aqua', 'cyan', 'darkturquoise', 'cadetblue', 'powderblue', 'lightblue', 'deepskyblue', 'skyblue', 'lightskyblue', 'steelblue', 'aliceblue', 'dodgerblue', 'lightslategray', 'lightslategrey', 'slategray', 'slategrey', 'lightsteelblue', 'cornflowerblue', 'royalblue', 'ghostwhite', 'lavender', 'midnightblue', 'navy', 'darkblue', 'mediumblue', 'b', 'blue', 'slateblue', 'darkslateblue', 'mediumslateblue', 'mediumpurple', 'rebeccapurple', 'blueviolet', 'indigo', 'darkorchid', 'darkviolet', 'mediumorchid', 'thistle', 'plum', 'violet', 'purple', 'darkmagenta', 'm', 'fuchsia', 'magenta', 'orchid', 'mediumvioletred', 'deeppink', 'hotpink', 'lavenderblush', 'palevioletred', 'crimson', 'pink', 'lightpink']\n"
     ]
    }
   ],
   "source": [
    "# sort the list by hue, saturation, value and name\n",
    "by_hsv = sorted(colorlist)\n",
    "    \n",
    "# [x for x in something] is an implicit iteration \n",
    "# that returns a new list of elements x in something. \n",
    "# here it is used to extract the names from the \n",
    "\n",
    "mycolors = [name for hsv, name in by_hsv]\n",
    "\n",
    "print(mycolors)"
   ]
  },
  {
   "cell_type": "code",
   "execution_count": 4,
   "id": "a6325797",
   "metadata": {},
   "outputs": [
    {
     "name": "stdout",
     "output_type": "stream",
     "text": [
      "black 5\n"
     ]
    }
   ],
   "source": [
    "# print the color and number of letters\n",
    "print(mycolors[0],len(mycolors[0]))"
   ]
  },
  {
   "cell_type": "code",
   "execution_count": 5,
   "id": "5baecd3c",
   "metadata": {},
   "outputs": [
    {
     "data": {
      "text/plain": [
       "5"
      ]
     },
     "execution_count": 5,
     "metadata": {},
     "output_type": "execute_result"
    }
   ],
   "source": [
    "len(mycolors[0])"
   ]
  },
  {
   "cell_type": "code",
   "execution_count": 28,
   "id": "363eed1a",
   "metadata": {},
   "outputs": [],
   "source": [
    "mynum = np.array([3, 4, 5, 6, 7]) #list of the number of letters for the colors"
   ]
  },
  {
   "cell_type": "code",
   "execution_count": 29,
   "id": "0f76a2d1",
   "metadata": {},
   "outputs": [],
   "source": [
    "#functions to count number of colors which contain set amount of letters (or more/less)\n",
    "def three(mycolors):\n",
    "    j=0\n",
    "    for col in mycolors:\n",
    "        if len(col)<=mynum[0]:\n",
    "            j+=1\n",
    "    return j\n",
    "\n",
    "def four(mycolors):\n",
    "    j=0\n",
    "    for col in mycolors:\n",
    "        if len(col)==mynum[1]:\n",
    "            j+=1\n",
    "    return j\n",
    "\n",
    "def five(mycolors):\n",
    "    j=0\n",
    "    for col in mycolors:\n",
    "        if len(col)==mynum[2]:\n",
    "            j+=1\n",
    "    return j\n",
    "\n",
    "def six(mycolors):\n",
    "    j=0\n",
    "    for col in mycolors:\n",
    "        if len(col)==mynum[3]:\n",
    "            j+=1\n",
    "    return j\n",
    "\n",
    "def seven(mycolors):\n",
    "    j=0\n",
    "    for col in mycolors:\n",
    "        if len(col)>=mynum[4]:\n",
    "            j+=1\n",
    "    return j"
   ]
  },
  {
   "cell_type": "code",
   "execution_count": 37,
   "id": "dd014af6",
   "metadata": {},
   "outputs": [],
   "source": [
    "cols=[three(mycolors), four(mycolors), five(mycolors), six(mycolors), seven(mycolors)] #array, calling the functions\n",
    "nums=np.zeros(len(cols)) #empty array with same length as the array above\n",
    "\n",
    "def getArray(mycolors):\n",
    "    for i, col in enumerate(cols):\n",
    "        nums[i]=col\n",
    "    return nums"
   ]
  },
  {
   "cell_type": "code",
   "execution_count": 58,
   "id": "ed86af32",
   "metadata": {},
   "outputs": [],
   "source": [
    "#my code to calculate the number of all elements in the color array (mysum)\n",
    "#and not really the average leter count of the colors, since less equal to 3 was count as 3\n",
    "#and greater equal to 7 was count as 7\n",
    "def myCode(array):\n",
    "    mysum=0\n",
    "    for i, num in enumerate(array):\n",
    "        mysum = mysum + num\n",
    "    for i, num in enumerate(array):\n",
    "        sumsum = mynum[i]*num\n",
    "    #print(sumsum)\n",
    "    myav = sumsum/len(mycolors)\n",
    "    return mysum, myav\n",
    "\n",
    "def npCode(array):\n",
    "    mysum = sum(array)\n",
    "    weighted_sum = np.zeros(len(array))\n",
    "    for i, elem in enumerate(array):\n",
    "        weighted_sum = mynum[i] * elem\n",
    "    #print('a', mysum)\n",
    "    av = np.average(weighted_sum)/len(mycolors)\n",
    "    return mysum, av\n"
   ]
  },
  {
   "cell_type": "code",
   "execution_count": 61,
   "id": "848e28ba",
   "metadata": {},
   "outputs": [
    {
     "name": "stdout",
     "output_type": "stream",
     "text": [
      "156.0 4.891025641025641\n",
      "156.0 4.891025641025641\n"
     ]
    }
   ],
   "source": [
    "array = getArray(mycolors)\n",
    "\n",
    "mysum, myav = myCode(array) #sum and average calculated with my functions\n",
    "\n",
    "print(mysum, myav)\n",
    "\n",
    "npsum, npav = npCode(array) #sum and average calculated with numpy methods\n",
    "\n",
    "print(npsum, npav)"
   ]
  },
  {
   "cell_type": "code",
   "execution_count": null,
   "id": "d27d1b52",
   "metadata": {},
   "outputs": [],
   "source": []
  }
 ],
 "metadata": {
  "kernelspec": {
   "display_name": "Python 3 (ipykernel)",
   "language": "python",
   "name": "python3"
  },
  "language_info": {
   "codemirror_mode": {
    "name": "ipython",
    "version": 3
   },
   "file_extension": ".py",
   "mimetype": "text/x-python",
   "name": "python",
   "nbconvert_exporter": "python",
   "pygments_lexer": "ipython3",
   "version": "3.9.5"
  }
 },
 "nbformat": 4,
 "nbformat_minor": 5
}
