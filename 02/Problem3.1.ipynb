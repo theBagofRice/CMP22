{
 "cells": [
  {
   "cell_type": "markdown",
   "id": "255abfc1",
   "metadata": {},
   "source": [
    "# Task 1\n",
    "\n",
    "Find out how many colors there are in the mycolors list below. Using loop structures, case selection and list indexing where required, find out\n",
    "1. how many colors have three letters or less in their name?\n",
    "2. how many colors have four letters?\n",
    "3. how many colors have five letters?\n",
    "4. how many colors have six letters?\n",
    "5. how many colors have seven or more letters?\n",
    "\n",
    "You can find the number of letters in a string using the len() function.\n",
    "\n",
    "Create an array that contains the above 1., 2., 3., 4., 5. numbers. Sum over all elements in the array using a loop, and using a numpy intrinsic function that you can find at one of the links above. Calculate the mean average value over all elements in the array using a loop and using a numpy intrinsic function."
   ]
  },
  {
   "cell_type": "code",
   "execution_count": 34,
   "id": "ea5c3750",
   "metadata": {},
   "outputs": [
    {
     "data": {
      "text/plain": [
       "'#000000'"
      ]
     },
     "execution_count": 34,
     "metadata": {},
     "output_type": "execute_result"
    }
   ],
   "source": [
    "from matplotlib import colors as mcolors\n",
    "import numpy as np\n",
    "\n",
    "# BASE_COLORS and CSS4_COLORS are both dictionaries,\n",
    "# key: color name; value: RGB value \n",
    "\n",
    "# concatenate the two dictionaries into one\n",
    "colors = {**mcolors.BASE_COLORS, **mcolors.CSS4_COLORS}\n",
    "\n",
    "colors[\"black\"] # string of red,green,blue values in hexadecimal format"
   ]
  },
  {
   "cell_type": "code",
   "execution_count": 24,
   "id": "3a19b414",
   "metadata": {},
   "outputs": [
    {
     "name": "stdout",
     "output_type": "stream",
     "text": [
      "HSV:  ((0.5, 1.0, 1.0), 'aqua')\n",
      "RGB:  #00FFFF aqua\n"
     ]
    }
   ],
   "source": [
    "colorlist = []\n",
    "\n",
    "# loop through the dictionary\n",
    "for name, color in colors.items():\n",
    "\n",
    "    # convert the hex RGB code to three numbers and alpha (opacity)\n",
    "    rgba = mcolors.to_rgba(color)\n",
    "    \n",
    "    # convert the numerical RGB value to hue, saturation, value (HSV)\n",
    "    # with [:3] we skip opacity because mcolors.rgb_to_hsv\n",
    "    # cannot digest it\n",
    "    tpl = (tuple(mcolors.rgb_to_hsv(rgba[:3])), name)\n",
    "    \n",
    "    # append the tuple to the list\n",
    "    colorlist.append(tpl)\n",
    "    \n",
    "# Lets see how this looks for sone color\n",
    "elem = 10\n",
    "print('HSV: ', colorlist[elem])\n",
    "print('RGB: ', colors[colorlist[elem][1]],colorlist[elem][1] )"
   ]
  },
  {
   "cell_type": "code",
   "execution_count": 4,
   "id": "f126df1d",
   "metadata": {},
   "outputs": [
    {
     "name": "stdout",
     "output_type": "stream",
     "text": [
      "['black', 'k', 'dimgray', 'dimgrey', 'gray', 'grey', 'darkgray', 'darkgrey', 'silver', 'lightgray', 'lightgrey', 'gainsboro', 'whitesmoke', 'w', 'white', 'snow', 'rosybrown', 'lightcoral', 'indianred', 'brown', 'firebrick', 'maroon', 'darkred', 'r', 'red', 'mistyrose', 'salmon', 'tomato', 'darksalmon', 'coral', 'orangered', 'lightsalmon', 'sienna', 'seashell', 'chocolate', 'saddlebrown', 'sandybrown', 'peachpuff', 'peru', 'linen', 'bisque', 'darkorange', 'burlywood', 'antiquewhite', 'tan', 'navajowhite', 'blanchedalmond', 'papayawhip', 'moccasin', 'orange', 'wheat', 'oldlace', 'floralwhite', 'darkgoldenrod', 'goldenrod', 'cornsilk', 'gold', 'lemonchiffon', 'khaki', 'palegoldenrod', 'darkkhaki', 'ivory', 'beige', 'lightyellow', 'lightgoldenrodyellow', 'olive', 'y', 'yellow', 'olivedrab', 'yellowgreen', 'darkolivegreen', 'greenyellow', 'chartreuse', 'lawngreen', 'honeydew', 'darkseagreen', 'palegreen', 'lightgreen', 'forestgreen', 'limegreen', 'darkgreen', 'g', 'green', 'lime', 'seagreen', 'mediumseagreen', 'springgreen', 'mintcream', 'mediumspringgreen', 'mediumaquamarine', 'aquamarine', 'turquoise', 'lightseagreen', 'mediumturquoise', 'azure', 'lightcyan', 'paleturquoise', 'darkslategray', 'darkslategrey', 'teal', 'darkcyan', 'c', 'aqua', 'cyan', 'darkturquoise', 'cadetblue', 'powderblue', 'lightblue', 'deepskyblue', 'skyblue', 'lightskyblue', 'steelblue', 'aliceblue', 'dodgerblue', 'lightslategray', 'lightslategrey', 'slategray', 'slategrey', 'lightsteelblue', 'cornflowerblue', 'royalblue', 'ghostwhite', 'lavender', 'midnightblue', 'navy', 'darkblue', 'mediumblue', 'b', 'blue', 'slateblue', 'darkslateblue', 'mediumslateblue', 'mediumpurple', 'rebeccapurple', 'blueviolet', 'indigo', 'darkorchid', 'darkviolet', 'mediumorchid', 'thistle', 'plum', 'violet', 'purple', 'darkmagenta', 'm', 'fuchsia', 'magenta', 'orchid', 'mediumvioletred', 'deeppink', 'hotpink', 'lavenderblush', 'palevioletred', 'crimson', 'pink', 'lightpink']\n"
     ]
    }
   ],
   "source": [
    "# sort the list by hue, saturation, value and name\n",
    "by_hsv = sorted(colorlist)\n",
    "    \n",
    "# [x for x in something] is an implicit iteration \n",
    "# that returns a new list of elements x in something. \n",
    "# here it is used to extract the names from the \n",
    "\n",
    "mycolors = [name for hsv, name in by_hsv]\n",
    "\n",
    "print(mycolors)"
   ]
  },
  {
   "cell_type": "code",
   "execution_count": 6,
   "id": "a6325797",
   "metadata": {},
   "outputs": [
    {
     "name": "stdout",
     "output_type": "stream",
     "text": [
      "black 5\n"
     ]
    }
   ],
   "source": [
    "# print the color and number of letters\n",
    "print(mycolors[0],len(mycolors[0]))"
   ]
  },
  {
   "cell_type": "code",
   "execution_count": 7,
   "id": "3244fff2",
   "metadata": {},
   "outputs": [
    {
     "data": {
      "text/plain": [
       "5"
      ]
     },
     "execution_count": 7,
     "metadata": {},
     "output_type": "execute_result"
    }
   ],
   "source": [
    "len(mycolors[0])"
   ]
  },
  {
   "cell_type": "code",
   "execution_count": 35,
   "id": "444c22c4",
   "metadata": {},
   "outputs": [],
   "source": [
    "def three(mycolors):\n",
    "    j=0\n",
    "    for col in mycolors:\n",
    "        if len(col)<=3:\n",
    "            j+=1\n",
    "    return j\n",
    "\n",
    "def four(mycolors):\n",
    "    j=0\n",
    "    for col in mycolors:\n",
    "        if len(col)==4:\n",
    "            j+=1\n",
    "    return j\n",
    "\n",
    "def five(mycolors):\n",
    "    j=0\n",
    "    for col in mycolors:\n",
    "        if len(col)==5:\n",
    "            j+=1\n",
    "    return j\n",
    "\n",
    "def six(mycolors):\n",
    "    j=0\n",
    "    for col in mycolors:\n",
    "        if len(col)==6:\n",
    "            j+=1\n",
    "    return j\n",
    "\n",
    "def seven(mycolors):\n",
    "    j=0\n",
    "    for col in mycolors:\n",
    "        if len(col)>=7:\n",
    "            j+=1\n",
    "    return j"
   ]
  },
  {
   "cell_type": "code",
   "execution_count": 39,
   "id": "bc06a7c5",
   "metadata": {},
   "outputs": [
    {
     "name": "stdout",
     "output_type": "stream",
     "text": [
      "10.0\n",
      "13.0\n",
      "12.0\n",
      "12.0\n",
      "109.0\n"
     ]
    }
   ],
   "source": [
    "cols=[three(mycolors), four(mycolors), five(mycolors), six(mycolors), seven(mycolors)]\n",
    "nums=np.zeros(5)\n",
    "\n",
    "for i, col in enumerate(cols):\n",
    "    nums[i]=col\n",
    "\n",
    "    print(nums[i])"
   ]
  },
  {
   "cell_type": "code",
   "execution_count": null,
   "id": "c4306df8",
   "metadata": {},
   "outputs": [],
   "source": []
  }
 ],
 "metadata": {
  "kernelspec": {
   "display_name": "Python 3 (ipykernel)",
   "language": "python",
   "name": "python3"
  },
  "language_info": {
   "codemirror_mode": {
    "name": "ipython",
    "version": 3
   },
   "file_extension": ".py",
   "mimetype": "text/x-python",
   "name": "python",
   "nbconvert_exporter": "python",
   "pygments_lexer": "ipython3",
   "version": "3.9.5"
  }
 },
 "nbformat": 4,
 "nbformat_minor": 5
}
