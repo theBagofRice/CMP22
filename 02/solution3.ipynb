{
 "cells": [
  {
   "cell_type": "markdown",
   "metadata": {},
   "source": [
    "Computational modeling in python, SoSe2022 "
   ]
  },
  {
   "cell_type": "markdown",
   "metadata": {},
   "source": [
    "There is a large number of functions available for operations on arrays. See \\\n",
    "https://docs.scipy.org/doc/numpy/reference/routines.array-manipulation.html \\\n",
    "https://docs.scipy.org/doc/numpy/reference/routines.sort.html \\\n",
    "https://docs.scipy.org/doc/numpy/reference/routines.statistics.html \n",
    "            \n",
    "For an overview see https://docs.scipy.org/doc/numpy/reference/routines.html.\n",
    "\n",
    "\n",
    "# Task 1\n",
    "\n",
    "Find out how many colors there are in the mycolors list below. Using loop structures, case selection and list indexing where required, find out\n",
    "1. how many colors have three letters or less in their name?\n",
    "2. how many colors have four letters?\n",
    "3. how many colors have five letters?\n",
    "4. how many colors have six letters?\n",
    "5. how many colors have seven or more letters?\n",
    "\n",
    "You can find the number of letters in a string using the len() function.\n",
    "\n",
    "Create an array that contains the above 1., 2., 3., 4., 5. numbers. Sum over all elements in the array using a loop, and using a numpy intrinsic function that you can find at one of the links above. Calculate the mean average value over all elements in the array using a loop and using a numpy intrinsic function."
   ]
  },
  {
   "cell_type": "code",
   "execution_count": 19,
   "metadata": {},
   "outputs": [
    {
     "data": {
      "text/plain": [
       "'#000000'"
      ]
     },
     "execution_count": 19,
     "metadata": {},
     "output_type": "execute_result"
    }
   ],
   "source": [
    "# import some colors from matplotlib\n",
    "\n",
    "from matplotlib import colors as mcolors\n",
    "\n",
    "# BASE_COLORS and CSS4_COLORS are both dictionaries,\n",
    "# key: color name; value: RGB value \n",
    "\n",
    "# concatenate the two dictionaries into one\n",
    "colors = {**mcolors.BASE_COLORS, **mcolors.CSS4_COLORS}\n",
    "\n",
    "colors[\"black\"] # string of red,green,blue values in hexadecimal format"
   ]
  },
  {
   "cell_type": "code",
   "execution_count": 20,
   "metadata": {},
   "outputs": [
    {
     "name": "stdout",
     "output_type": "stream",
     "text": [
      "HSV:  ((0.5, 1.0, 1.0), 'aqua')\n",
      "RGB:  #00FFFF aqua\n"
     ]
    }
   ],
   "source": [
    "colorlist = []\n",
    "\n",
    "# loop through the dictionary (using tuple unpacking)\n",
    "for name, color in colors.items():\n",
    "\n",
    "    # convert the hex RGB code to three numbers and alpha (opacity)\n",
    "    rgba = mcolors.to_rgba(color)\n",
    "    \n",
    "    # convert the numerical RGB value to hue, saturation, value (HSV)\n",
    "    # with [:3] we skip opacity because mcolors.rgb_to_hsv\n",
    "    # cannot digest it\n",
    "    tpl = (tuple(mcolors.rgb_to_hsv(rgba[:3])), name)\n",
    "    \n",
    "    # append the tuple to the list\n",
    "    colorlist.append(tpl)\n",
    "    \n",
    "# Lets see how this looks for some color\n",
    "elem = 10\n",
    "print('HSV: ', colorlist[elem])\n",
    "print('RGB: ', colors[colorlist[elem][1]],colorlist[elem][1] )"
   ]
  },
  {
   "cell_type": "code",
   "execution_count": 21,
   "metadata": {},
   "outputs": [
    {
     "name": "stdout",
     "output_type": "stream",
     "text": [
      "['black', 'k', 'dimgray', 'dimgrey', 'gray', 'grey', 'darkgray', 'darkgrey', 'silver', 'lightgray', 'lightgrey', 'gainsboro', 'whitesmoke', 'w', 'white', 'snow', 'rosybrown', 'lightcoral', 'indianred', 'brown', 'firebrick', 'maroon', 'darkred', 'r', 'red', 'mistyrose', 'salmon', 'tomato', 'darksalmon', 'coral', 'orangered', 'lightsalmon', 'sienna', 'seashell', 'chocolate', 'saddlebrown', 'sandybrown', 'peachpuff', 'peru', 'linen', 'bisque', 'darkorange', 'burlywood', 'antiquewhite', 'tan', 'navajowhite', 'blanchedalmond', 'papayawhip', 'moccasin', 'orange', 'wheat', 'oldlace', 'floralwhite', 'darkgoldenrod', 'goldenrod', 'cornsilk', 'gold', 'lemonchiffon', 'khaki', 'palegoldenrod', 'darkkhaki', 'ivory', 'beige', 'lightyellow', 'lightgoldenrodyellow', 'olive', 'y', 'yellow', 'olivedrab', 'yellowgreen', 'darkolivegreen', 'greenyellow', 'chartreuse', 'lawngreen', 'honeydew', 'darkseagreen', 'palegreen', 'lightgreen', 'forestgreen', 'limegreen', 'darkgreen', 'g', 'green', 'lime', 'seagreen', 'mediumseagreen', 'springgreen', 'mintcream', 'mediumspringgreen', 'mediumaquamarine', 'aquamarine', 'turquoise', 'lightseagreen', 'mediumturquoise', 'azure', 'lightcyan', 'paleturquoise', 'darkslategray', 'darkslategrey', 'teal', 'darkcyan', 'c', 'aqua', 'cyan', 'darkturquoise', 'cadetblue', 'powderblue', 'lightblue', 'deepskyblue', 'skyblue', 'lightskyblue', 'steelblue', 'aliceblue', 'dodgerblue', 'lightslategray', 'lightslategrey', 'slategray', 'slategrey', 'lightsteelblue', 'cornflowerblue', 'royalblue', 'ghostwhite', 'lavender', 'midnightblue', 'navy', 'darkblue', 'mediumblue', 'b', 'blue', 'slateblue', 'darkslateblue', 'mediumslateblue', 'mediumpurple', 'rebeccapurple', 'blueviolet', 'indigo', 'darkorchid', 'darkviolet', 'mediumorchid', 'thistle', 'plum', 'violet', 'purple', 'darkmagenta', 'm', 'fuchsia', 'magenta', 'orchid', 'mediumvioletred', 'deeppink', 'hotpink', 'lavenderblush', 'palevioletred', 'crimson', 'pink', 'lightpink']\n"
     ]
    }
   ],
   "source": [
    "# sort the list by hue, saturation, value and name\n",
    "by_hsv = sorted(colorlist)\n",
    "    \n",
    "# [x for x in something] is an implicit iteration \n",
    "# that returns a new list of elements x in something. \n",
    "# here it is used to extract the names from the \n",
    "\n",
    "mycolors = [name for hsv, name in by_hsv]\n",
    "\n",
    "print(mycolors)"
   ]
  },
  {
   "cell_type": "code",
   "execution_count": 22,
   "metadata": {},
   "outputs": [
    {
     "name": "stdout",
     "output_type": "stream",
     "text": [
      "black 5\n"
     ]
    }
   ],
   "source": [
    "# print the color and number of letters\n",
    "print(mycolors[0],len(mycolors[0]))"
   ]
  },
  {
   "cell_type": "markdown",
   "metadata": {},
   "source": [
    "# Solution 1\n",
    "\n",
    "First we create an array to count the various cases and initialize it with zeros. Then we fill it with the counts: "
   ]
  },
  {
   "cell_type": "code",
   "execution_count": 23,
   "metadata": {},
   "outputs": [
    {
     "name": "stdout",
     "output_type": "stream",
     "text": [
      "[ 10  13  12  12 109]\n"
     ]
    }
   ],
   "source": [
    "from numpy import zeros, array\n",
    "\n",
    "# we have 5 different cases\n",
    "ncases = 5\n",
    "\n",
    "# create an integer array for the counts\n",
    "counts = zeros(ncases, dtype=int)\n",
    "\n",
    "\n",
    "# loop through the color names\n",
    "for color in mycolors:\n",
    "    \n",
    "    # determine the length\n",
    "    clen = len(color)\n",
    "    \n",
    "    # case selection\n",
    "    if clen <= 3:\n",
    "        counts[0] =  counts[0] + 1\n",
    "    elif clen == 4:\n",
    "        counts[1] =  counts[1] + 1\n",
    "    elif clen == 5:\n",
    "        counts[2] =  counts[2] + 1\n",
    "    elif clen == 6:\n",
    "        counts[3] =  counts[3] + 1\n",
    "    else:\n",
    "        counts[4] =  counts[4] + 1\n",
    "         \n",
    "print(counts)\n",
    "        \n"
   ]
  },
  {
   "cell_type": "markdown",
   "metadata": {},
   "source": [
    "Just as a side remark: here is an example without case selection. The advantage is that it implements the same functionality without coding each individual case. This code is much more general and can easily be modified for other case selections like counting letters from 2 and below to 8 and above just by changing two variables:"
   ]
  },
  {
   "cell_type": "code",
   "execution_count": 24,
   "metadata": {},
   "outputs": [
    {
     "name": "stdout",
     "output_type": "stream",
     "text": [
      "[ 10  13  12  12 109]\n"
     ]
    }
   ],
   "source": [
    "\n",
    "# we start at string length 3 or less\n",
    "nstart = 3\n",
    "# we end at string length 7 or more\n",
    "nend = 7\n",
    "\n",
    "# we can calculate the number of cases\n",
    "ncases = nend - nstart + 1 \n",
    "\n",
    "# create an integer array for the counts\n",
    "counts = zeros(ncases, dtype=int)\n",
    "\n",
    "# loop through the color names\n",
    "for color in mycolors:\n",
    "    \n",
    "    # determine the length\n",
    "    clen = len(color)\n",
    "    \n",
    "    # make sure clen is at least nstart\n",
    "    clen = max(nstart,clen)\n",
    "    # and at most nend\n",
    "    clen = min(nend,clen)\n",
    "    \n",
    "    # then we can calculate the index in \n",
    "    # the counts array and add 1\n",
    "    idx = clen - nstart\n",
    "    counts[idx] =  counts[idx] + 1\n",
    "        \n",
    "print(counts)\n",
    "    \n",
    "\n"
   ]
  },
  {
   "cell_type": "markdown",
   "metadata": {},
   "source": [
    "Produce some nice output:"
   ]
  },
  {
   "cell_type": "code",
   "execution_count": 26,
   "metadata": {},
   "outputs": [
    {
     "name": "stdout",
     "output_type": "stream",
     "text": [
      "Numbers of letters in color names:\n",
      " 3 letters and below: 10\n",
      " exactly 4 letters: 13\n",
      " exactly 5 letters: 12\n",
      " exactly 6 letters: 12\n",
      " 7 letters and above: 109\n"
     ]
    }
   ],
   "source": [
    "print(\"Numbers of letters in color names:\")\n",
    "\n",
    "for n in range(nstart,nend+1):\n",
    "    idx = n - nstart\n",
    "    if n == nstart:\n",
    "        print(f' {n} letters and below: {counts[idx]}')\n",
    "    elif  n == nend:\n",
    "        print(f' {n} letters and above: {counts[idx]}')\n",
    "    else:\n",
    "         print(f' exactly {n} letters: {counts[idx]}')\n",
    "    \n"
   ]
  },
  {
   "cell_type": "markdown",
   "metadata": {},
   "source": [
    "Calculating the sum and mean values of the array using loops"
   ]
  },
  {
   "cell_type": "code",
   "execution_count": 27,
   "metadata": {},
   "outputs": [
    {
     "name": "stdout",
     "output_type": "stream",
     "text": [
      "The sum of counts is 156\n",
      "The sum of counts is 31.2\n"
     ]
    }
   ],
   "source": [
    "sumcounts = 0\n",
    "\n",
    "for count in counts:\n",
    "    sumcounts = sumcounts + count\n",
    "    \n",
    "meancounts = sumcounts / len(counts)\n",
    "\n",
    "print('The sum of counts is', sumcounts)\n",
    "print('The sum of counts is', meancounts)\n",
    "    "
   ]
  },
  {
   "cell_type": "markdown",
   "metadata": {},
   "source": [
    "Calculating the sum and mean values using intrinsic functions:"
   ]
  },
  {
   "cell_type": "code",
   "execution_count": 28,
   "metadata": {},
   "outputs": [
    {
     "name": "stdout",
     "output_type": "stream",
     "text": [
      "The sum of counts is 156\n",
      "The sum of counts is 31.2\n"
     ]
    }
   ],
   "source": [
    "print('The sum of counts is', counts.sum())\n",
    "print('The sum of counts is', counts.mean())"
   ]
  },
  {
   "cell_type": "markdown",
   "metadata": {},
   "source": [
    "Some verification:"
   ]
  },
  {
   "cell_type": "code",
   "execution_count": 30,
   "metadata": {},
   "outputs": [
    {
     "name": "stdout",
     "output_type": "stream",
     "text": [
      "sum of counts == len(mycolors): True\n"
     ]
    }
   ],
   "source": [
    "# this must evaluate to True\n",
    "print(\"sum of counts == len(mycolors):\", counts.sum() == len(mycolors))"
   ]
  },
  {
   "cell_type": "markdown",
   "metadata": {},
   "source": [
    "# Task 2\n",
    "\n",
    "Create an array with 256 values between zero and one, including one. Reshape this array into a 2D-matrix with equal number of rows and columns (square matrix). Multiply this matrix with the identity matrix __I__.\n",
    "\n",
    "Remember: The identity matrix is a square matrix with ones on the diagonal and zero entries everywhere else.\n",
    "\n",
    "\\begin{align}\n",
    "\\mathbf{I} = \n",
    "\\begin{pmatrix} \n",
    "1 & 0 & 0 & \\ldots & 0 \\\\\n",
    "0 & 1 & 0 & \\ldots & 0 \\\\\n",
    "\\vdots & \\vdots & \\vdots & \\ddots & \\vdots \\\\\n",
    "0 & 0 & 0 & \\ldots & 1 \\\\\n",
    " \\end{pmatrix} \n",
    "\\end{align}\n",
    "\n",
    "\n",
    "# Solution 2\n",
    "\n",
    "We have to implement a matrix - matrix multiplication: $A = B\\cdot C$ with $A,B,C \\in  \\mathbb{R}^{n\\times n}$ ( real $n$ by $n$ matrix). Let us look on how the single entries of the resulting matrix are computed:\n",
    "\n",
    "\\begin{align}\n",
    " A_{i,j} = \\sum\\limits_k B_{i,k}C_{k,j}\n",
    "\\end{align}\n",
    "\n",
    "\n",
    "We therefore have to loop over all indices $i,j$ and perform a summation over $k$. \n",
    "\n",
    "But first lets construct the matrices. "
   ]
  },
  {
   "cell_type": "code",
   "execution_count": 31,
   "metadata": {},
   "outputs": [
    {
     "name": "stdout",
     "output_type": "stream",
     "text": [
      "[[0.         0.00392157 0.00784314 0.01176471 0.01568627 0.01960784\n",
      "  0.02352941 0.02745098 0.03137255 0.03529412 0.03921569 0.04313725\n",
      "  0.04705882 0.05098039 0.05490196 0.05882353]\n",
      " [0.0627451  0.06666667 0.07058824 0.0745098  0.07843137 0.08235294\n",
      "  0.08627451 0.09019608 0.09411765 0.09803922 0.10196078 0.10588235\n",
      "  0.10980392 0.11372549 0.11764706 0.12156863]\n",
      " [0.1254902  0.12941176 0.13333333 0.1372549  0.14117647 0.14509804\n",
      "  0.14901961 0.15294118 0.15686275 0.16078431 0.16470588 0.16862745\n",
      "  0.17254902 0.17647059 0.18039216 0.18431373]\n",
      " [0.18823529 0.19215686 0.19607843 0.2        0.20392157 0.20784314\n",
      "  0.21176471 0.21568627 0.21960784 0.22352941 0.22745098 0.23137255\n",
      "  0.23529412 0.23921569 0.24313725 0.24705882]\n",
      " [0.25098039 0.25490196 0.25882353 0.2627451  0.26666667 0.27058824\n",
      "  0.2745098  0.27843137 0.28235294 0.28627451 0.29019608 0.29411765\n",
      "  0.29803922 0.30196078 0.30588235 0.30980392]\n",
      " [0.31372549 0.31764706 0.32156863 0.3254902  0.32941176 0.33333333\n",
      "  0.3372549  0.34117647 0.34509804 0.34901961 0.35294118 0.35686275\n",
      "  0.36078431 0.36470588 0.36862745 0.37254902]\n",
      " [0.37647059 0.38039216 0.38431373 0.38823529 0.39215686 0.39607843\n",
      "  0.4        0.40392157 0.40784314 0.41176471 0.41568627 0.41960784\n",
      "  0.42352941 0.42745098 0.43137255 0.43529412]\n",
      " [0.43921569 0.44313725 0.44705882 0.45098039 0.45490196 0.45882353\n",
      "  0.4627451  0.46666667 0.47058824 0.4745098  0.47843137 0.48235294\n",
      "  0.48627451 0.49019608 0.49411765 0.49803922]\n",
      " [0.50196078 0.50588235 0.50980392 0.51372549 0.51764706 0.52156863\n",
      "  0.5254902  0.52941176 0.53333333 0.5372549  0.54117647 0.54509804\n",
      "  0.54901961 0.55294118 0.55686275 0.56078431]\n",
      " [0.56470588 0.56862745 0.57254902 0.57647059 0.58039216 0.58431373\n",
      "  0.58823529 0.59215686 0.59607843 0.6        0.60392157 0.60784314\n",
      "  0.61176471 0.61568627 0.61960784 0.62352941]\n",
      " [0.62745098 0.63137255 0.63529412 0.63921569 0.64313725 0.64705882\n",
      "  0.65098039 0.65490196 0.65882353 0.6627451  0.66666667 0.67058824\n",
      "  0.6745098  0.67843137 0.68235294 0.68627451]\n",
      " [0.69019608 0.69411765 0.69803922 0.70196078 0.70588235 0.70980392\n",
      "  0.71372549 0.71764706 0.72156863 0.7254902  0.72941176 0.73333333\n",
      "  0.7372549  0.74117647 0.74509804 0.74901961]\n",
      " [0.75294118 0.75686275 0.76078431 0.76470588 0.76862745 0.77254902\n",
      "  0.77647059 0.78039216 0.78431373 0.78823529 0.79215686 0.79607843\n",
      "  0.8        0.80392157 0.80784314 0.81176471]\n",
      " [0.81568627 0.81960784 0.82352941 0.82745098 0.83137255 0.83529412\n",
      "  0.83921569 0.84313725 0.84705882 0.85098039 0.85490196 0.85882353\n",
      "  0.8627451  0.86666667 0.87058824 0.8745098 ]\n",
      " [0.87843137 0.88235294 0.88627451 0.89019608 0.89411765 0.89803922\n",
      "  0.90196078 0.90588235 0.90980392 0.91372549 0.91764706 0.92156863\n",
      "  0.9254902  0.92941176 0.93333333 0.9372549 ]\n",
      " [0.94117647 0.94509804 0.94901961 0.95294118 0.95686275 0.96078431\n",
      "  0.96470588 0.96862745 0.97254902 0.97647059 0.98039216 0.98431373\n",
      "  0.98823529 0.99215686 0.99607843 1.        ]]\n"
     ]
    }
   ],
   "source": [
    "from numpy import linspace, identity, double\n",
    "\n",
    "nn = 16\n",
    "nn2 = nn**2 # = 256\n",
    "\n",
    "lineararray = linspace(0.0, 1.0, nn2)\n",
    "\n",
    "matrix = lineararray.reshape(nn,nn)\n",
    "\n",
    "print(matrix)"
   ]
  },
  {
   "cell_type": "code",
   "execution_count": 32,
   "metadata": {},
   "outputs": [
    {
     "name": "stdout",
     "output_type": "stream",
     "text": [
      "[[1. 0. 0. 0. 0. 0. 0. 0. 0. 0. 0. 0. 0. 0. 0. 0.]\n",
      " [0. 1. 0. 0. 0. 0. 0. 0. 0. 0. 0. 0. 0. 0. 0. 0.]\n",
      " [0. 0. 1. 0. 0. 0. 0. 0. 0. 0. 0. 0. 0. 0. 0. 0.]\n",
      " [0. 0. 0. 1. 0. 0. 0. 0. 0. 0. 0. 0. 0. 0. 0. 0.]\n",
      " [0. 0. 0. 0. 1. 0. 0. 0. 0. 0. 0. 0. 0. 0. 0. 0.]\n",
      " [0. 0. 0. 0. 0. 1. 0. 0. 0. 0. 0. 0. 0. 0. 0. 0.]\n",
      " [0. 0. 0. 0. 0. 0. 1. 0. 0. 0. 0. 0. 0. 0. 0. 0.]\n",
      " [0. 0. 0. 0. 0. 0. 0. 1. 0. 0. 0. 0. 0. 0. 0. 0.]\n",
      " [0. 0. 0. 0. 0. 0. 0. 0. 1. 0. 0. 0. 0. 0. 0. 0.]\n",
      " [0. 0. 0. 0. 0. 0. 0. 0. 0. 1. 0. 0. 0. 0. 0. 0.]\n",
      " [0. 0. 0. 0. 0. 0. 0. 0. 0. 0. 1. 0. 0. 0. 0. 0.]\n",
      " [0. 0. 0. 0. 0. 0. 0. 0. 0. 0. 0. 1. 0. 0. 0. 0.]\n",
      " [0. 0. 0. 0. 0. 0. 0. 0. 0. 0. 0. 0. 1. 0. 0. 0.]\n",
      " [0. 0. 0. 0. 0. 0. 0. 0. 0. 0. 0. 0. 0. 1. 0. 0.]\n",
      " [0. 0. 0. 0. 0. 0. 0. 0. 0. 0. 0. 0. 0. 0. 1. 0.]\n",
      " [0. 0. 0. 0. 0. 0. 0. 0. 0. 0. 0. 0. 0. 0. 0. 1.]]\n"
     ]
    }
   ],
   "source": [
    "# construct the unit matrix manually:\n",
    "unitmatrix = zeros((nn,nn), dtype=double)\n",
    "for n in range(nn):\n",
    "    unitmatrix[n,n] = 1.0\n",
    "\n",
    "print (unitmatrix)"
   ]
  },
  {
   "cell_type": "code",
   "execution_count": 33,
   "metadata": {},
   "outputs": [
    {
     "name": "stdout",
     "output_type": "stream",
     "text": [
      "[[1. 0. 0. 0. 0. 0. 0. 0. 0. 0. 0. 0. 0. 0. 0. 0.]\n",
      " [0. 1. 0. 0. 0. 0. 0. 0. 0. 0. 0. 0. 0. 0. 0. 0.]\n",
      " [0. 0. 1. 0. 0. 0. 0. 0. 0. 0. 0. 0. 0. 0. 0. 0.]\n",
      " [0. 0. 0. 1. 0. 0. 0. 0. 0. 0. 0. 0. 0. 0. 0. 0.]\n",
      " [0. 0. 0. 0. 1. 0. 0. 0. 0. 0. 0. 0. 0. 0. 0. 0.]\n",
      " [0. 0. 0. 0. 0. 1. 0. 0. 0. 0. 0. 0. 0. 0. 0. 0.]\n",
      " [0. 0. 0. 0. 0. 0. 1. 0. 0. 0. 0. 0. 0. 0. 0. 0.]\n",
      " [0. 0. 0. 0. 0. 0. 0. 1. 0. 0. 0. 0. 0. 0. 0. 0.]\n",
      " [0. 0. 0. 0. 0. 0. 0. 0. 1. 0. 0. 0. 0. 0. 0. 0.]\n",
      " [0. 0. 0. 0. 0. 0. 0. 0. 0. 1. 0. 0. 0. 0. 0. 0.]\n",
      " [0. 0. 0. 0. 0. 0. 0. 0. 0. 0. 1. 0. 0. 0. 0. 0.]\n",
      " [0. 0. 0. 0. 0. 0. 0. 0. 0. 0. 0. 1. 0. 0. 0. 0.]\n",
      " [0. 0. 0. 0. 0. 0. 0. 0. 0. 0. 0. 0. 1. 0. 0. 0.]\n",
      " [0. 0. 0. 0. 0. 0. 0. 0. 0. 0. 0. 0. 0. 1. 0. 0.]\n",
      " [0. 0. 0. 0. 0. 0. 0. 0. 0. 0. 0. 0. 0. 0. 1. 0.]\n",
      " [0. 0. 0. 0. 0. 0. 0. 0. 0. 0. 0. 0. 0. 0. 0. 1.]]\n"
     ]
    }
   ],
   "source": [
    "# numpy has a function 'identity' to create unit matrices\n",
    "\n",
    "unitmatrix = identity(nn, dtype=double)\n",
    "print (unitmatrix) "
   ]
  },
  {
   "cell_type": "code",
   "execution_count": 34,
   "metadata": {},
   "outputs": [],
   "source": [
    "# let's do the matrix-matix multiplication\n",
    "\n",
    "# set up a matrix filled with zeros:\n",
    "result = zeros((nn,nn), dtype=double)\n",
    "\n",
    "# loop over all indices i,j\n",
    "for i in range(nn):\n",
    "    for j in range(nn):\n",
    "        # do the summation along k\n",
    "        for k in range(nn):\n",
    "            result[i,j] = result[i,j] + matrix[i,k] * unitmatrix[k,j]\n",
    "        \n"
   ]
  },
  {
   "cell_type": "markdown",
   "metadata": {},
   "source": [
    "### Verification\n",
    "\n",
    "Since we performed a matrix-matrix multiplication $A\\cdot I$ with the unit matrix we should have:\n",
    "\n",
    "\\begin{align}\n",
    " A\\cdot I = I\\cdot A = A\n",
    "\\end{align}\n",
    "\n",
    "Let's test if the result fulfills this requirement:\n",
    "\n",
    "numpy has a routine <code>allclose</code> for element wise comparison that returns True if all elements of two arrays differ at most by some epsilon (default: 1e-08 - which is approximately the square root of \n",
    "the precision of 64 bit floats). This function is useful to compare outputs of floating point operations within some precision. If a result can be calculated in different ways the different operations \n",
    "are likely to result in slightly different round off errors and a comparison with <code>==</code> would fail. \n"
   ]
  },
  {
   "cell_type": "code",
   "execution_count": 36,
   "metadata": {},
   "outputs": [
    {
     "name": "stdout",
     "output_type": "stream",
     "text": [
      "True\n"
     ]
    }
   ],
   "source": [
    "from numpy import allclose\n",
    "\n",
    "print(allclose(result, matrix))"
   ]
  },
  {
   "cell_type": "code",
   "execution_count": 37,
   "metadata": {},
   "outputs": [
    {
     "name": "stdout",
     "output_type": "stream",
     "text": [
      "[[ True  True  True  True  True  True  True  True  True  True  True  True\n",
      "   True  True  True  True]\n",
      " [ True  True  True  True  True  True  True  True  True  True  True  True\n",
      "   True  True  True  True]\n",
      " [ True  True  True  True  True  True  True  True  True  True  True  True\n",
      "   True  True  True  True]\n",
      " [ True  True  True  True  True  True  True  True  True  True  True  True\n",
      "   True  True  True  True]\n",
      " [ True  True  True  True  True  True  True  True  True  True  True  True\n",
      "   True  True  True  True]\n",
      " [ True  True  True  True  True  True  True  True  True  True  True  True\n",
      "   True  True  True  True]\n",
      " [ True  True  True  True  True  True  True  True  True  True  True  True\n",
      "   True  True  True  True]\n",
      " [ True  True  True  True  True  True  True  True  True  True  True  True\n",
      "   True  True  True  True]\n",
      " [ True  True  True  True  True  True  True  True  True  True  True  True\n",
      "   True  True  True  True]\n",
      " [ True  True  True  True  True  True  True  True  True  True  True  True\n",
      "   True  True  True  True]\n",
      " [ True  True  True  True  True  True  True  True  True  True  True  True\n",
      "   True  True  True  True]\n",
      " [ True  True  True  True  True  True  True  True  True  True  True  True\n",
      "   True  True  True  True]\n",
      " [ True  True  True  True  True  True  True  True  True  True  True  True\n",
      "   True  True  True  True]\n",
      " [ True  True  True  True  True  True  True  True  True  True  True  True\n",
      "   True  True  True  True]\n",
      " [ True  True  True  True  True  True  True  True  True  True  True  True\n",
      "   True  True  True  True]\n",
      " [ True  True  True  True  True  True  True  True  True  True  True  True\n",
      "   True  True  True  True]]\n"
     ]
    }
   ],
   "source": [
    "# one can also check like this, this may evaluate to \n",
    "# false for some elements\n",
    "print(result == matrix)"
   ]
  },
  {
   "cell_type": "code",
   "execution_count": 39,
   "metadata": {},
   "outputs": [
    {
     "name": "stdout",
     "output_type": "stream",
     "text": [
      "True\n",
      "True\n"
     ]
    }
   ],
   "source": [
    "# just as a side remark: numpy has a matmul routine:\n",
    "from numpy import matmul\n",
    "\n",
    "result = matmul(matrix, unitmatrix)\n",
    "\n",
    "print(allclose(result, matrix))\n",
    "\n",
    "# There is also an operator symbol for performing matrix-matrix multiplications:\n",
    "\n",
    "result = matrix @ unitmatrix\n",
    "\n",
    "print(allclose(result, matrix))"
   ]
  },
  {
   "cell_type": "code",
   "execution_count": null,
   "metadata": {},
   "outputs": [],
   "source": []
  }
 ],
 "metadata": {
  "kernelspec": {
   "display_name": "Python 3 (ipykernel)",
   "language": "python",
   "name": "python3"
  },
  "language_info": {
   "codemirror_mode": {
    "name": "ipython",
    "version": 3
   },
   "file_extension": ".py",
   "mimetype": "text/x-python",
   "name": "python",
   "nbconvert_exporter": "python",
   "pygments_lexer": "ipython3",
   "version": "3.9.7"
  }
 },
 "nbformat": 4,
 "nbformat_minor": 4
}
