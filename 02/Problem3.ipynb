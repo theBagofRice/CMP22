{
 "cells": [
  {
   "cell_type": "markdown",
   "metadata": {},
   "source": [
    "Computational modeling in python, SoSe2022 \n",
    "\n",
    "# More on: Lists, tuples, arrays etc. in python\n",
    "\n",
    "Lists contain several objects that can be anything:"
   ]
  },
  {
   "cell_type": "code",
   "execution_count": null,
   "metadata": {},
   "outputs": [],
   "source": [
    "mylist1 = ['a','b','c','d','e','f']\n",
    "print('A list with strings:',mylist1)\n",
    "a=5\n",
    "b=6\n",
    "c=5682.3\n",
    "mylist2 = [a,b,c]\n",
    "print('A list with integers and floats:',mylist2)\n",
    "mylist3 = ['you','with','May','4th','the','be']\n",
    "print('Something garbled:',mylist3)"
   ]
  },
  {
   "cell_type": "markdown",
   "metadata": {},
   "source": [
    "We can access the elements of a list using the index operator <code>[]</code> and zero-based indices:"
   ]
  },
  {
   "cell_type": "code",
   "execution_count": null,
   "metadata": {},
   "outputs": [],
   "source": [
    "print(\"mylist1[1]:     \", mylist1[1])     # second element\n",
    "print(\"mylist1[-1]:    \", mylist1[-1])    # last element \n",
    "print(\"mylist1[-1]:    \", mylist1[-2])    # second-last element\n",
    "print(\"mylist1[0:2]:   \", mylist1[0:2])   # [m:n] slices of lists elements m to n-1\n",
    "print(\"mylist1[1:]:    \", mylist1[1:])    # [n:] elements from n and above\n",
    "print(\"mylist1[1:5:2]: \", mylist1[1:5:2]) # [m:n:l] elements from m to n-1 step l\n",
    "print(\"mylist1[::2]:   \", mylist1[::2])   # [::l] all elements step l"
   ]
  },
  {
   "cell_type": "markdown",
   "metadata": {},
   "source": [
    "We cannot perform arithmetic operations on lists with floats:"
   ]
  },
  {
   "cell_type": "code",
   "execution_count": null,
   "metadata": {},
   "outputs": [],
   "source": [
    "5.8*mylist2"
   ]
  },
  {
   "cell_type": "markdown",
   "metadata": {},
   "source": [
    "But we can perform operations on lists with integers <code>n</code> which will return a new list with <code>n</code> times as many elements: The operation acts on the list object, not on its elements. "
   ]
  },
  {
   "cell_type": "code",
   "execution_count": null,
   "metadata": {},
   "outputs": [],
   "source": [
    "5*mylist2"
   ]
  },
  {
   "cell_type": "markdown",
   "metadata": {},
   "source": [
    "We can perform arithmetic operations on single the elements of a list:"
   ]
  },
  {
   "cell_type": "code",
   "execution_count": null,
   "metadata": {},
   "outputs": [],
   "source": [
    "5.8*mylist2[1]"
   ]
  },
  {
   "cell_type": "markdown",
   "metadata": {},
   "source": [
    "Lists themselves can also contain lists (and are called nested lists):"
   ]
  },
  {
   "cell_type": "code",
   "execution_count": null,
   "metadata": {},
   "outputs": [],
   "source": [
    "mylist4 = [mylist1,mylist2,mylist3]\n",
    "print(\"mylist4: \", mylist4)\n",
    "mylist5 = [[1,2,3],['f','d','s','a']]\n",
    "print(\"mylist5: \", mylist5)"
   ]
  },
  {
   "cell_type": "markdown",
   "metadata": {},
   "source": [
    "Elements in nested lists are accessed with consecutive index operators. The first index-operator acts on the outer list and returns an inner list. We can operate on the inner list immediately with a second index operator (or any other operation supported by the object returned by the first index operator)."
   ]
  },
  {
   "cell_type": "code",
   "execution_count": null,
   "metadata": {},
   "outputs": [],
   "source": [
    "print(\"mylist5[0][0]:  \", mylist5[0][0])\n",
    "print(\"mylist5[1][-1]: \", mylist5[1][-1])\n",
    "print(\"mylist5[1][2]:  \", mylist5[1][2])"
   ]
  },
  {
   "cell_type": "markdown",
   "metadata": {},
   "source": [
    "One can even put a function into the list. This can be useful to pass functionality around between different parts of code. "
   ]
  },
  {
   "cell_type": "code",
   "execution_count": null,
   "metadata": {},
   "outputs": [],
   "source": [
    "def myfunc():\n",
    "    print(\"I am a function in a list\")\n",
    "    \n",
    "myflist = [myfunc,]\n",
    "\n",
    "print(\"mylist[0]: \", myflist[0])\n",
    "\n",
    "# We can access the function with the index \n",
    "# operator. The index-operator returns the function object. \n",
    "# To execute the function we just need to add round brackets:\n",
    "# one also says 'calling the function'. \n",
    "# Round brackets 'call' the function. \n",
    "\n",
    "myflist[0]()\n",
    "# ------^    returns function\n",
    "# ---------^ calls the function\n"
   ]
  },
  {
   "cell_type": "markdown",
   "metadata": {},
   "source": [
    "Elements in lists can be changed:"
   ]
  },
  {
   "cell_type": "code",
   "execution_count": null,
   "metadata": {},
   "outputs": [],
   "source": [
    "print(\"mylist2: \", mylist2)\n",
    "mylist2[1]=83.5\n",
    "print(\"mylist2: \", mylist2)"
   ]
  },
  {
   "cell_type": "markdown",
   "metadata": {},
   "source": [
    "Lists can be extended using append():"
   ]
  },
  {
   "cell_type": "code",
   "execution_count": null,
   "metadata": {},
   "outputs": [],
   "source": [
    "mylist1.append('d')\n",
    "print(\"mylist1: \", mylist1)\n",
    "mylist6=[]\n",
    "mylist6.append(mylist1)\n",
    "mylist6.append(mylist2)\n",
    "print(\"mylist6: \", mylist6)"
   ]
  },
  {
   "cell_type": "markdown",
   "metadata": {},
   "source": [
    "Lists can be extended without generating nested lists using extend:"
   ]
  },
  {
   "cell_type": "code",
   "execution_count": null,
   "metadata": {},
   "outputs": [],
   "source": [
    "print(\"mylist1: \", mylist1)\n",
    "mylist1.extend('e') # single element\n",
    "print(\"mylist1: \", mylist1)\n",
    "\n",
    "mylist6=[]\n",
    "print(\"mylist6: \", mylist6)\n",
    "mylist6.extend(mylist1) # append elements from list\n",
    "mylist6.extend(mylist2)\n",
    "print(\"mylist6: \", mylist6)"
   ]
  },
  {
   "cell_type": "markdown",
   "metadata": {},
   "source": [
    "We can also insert items:"
   ]
  },
  {
   "cell_type": "code",
   "execution_count": null,
   "metadata": {},
   "outputs": [],
   "source": [
    "# assignment: the same list is not known\n",
    "# by twe different names\n",
    "mylist7 = mylist1\n",
    "print(\"mylist7: \", mylist7)\n",
    "\n",
    "# insert an element at position 1. \n",
    "mylist7.insert(1,'x')\n",
    "print(\"mylist7: \", mylist7)\n",
    "# insert an element at position 1. \n",
    "mylist7.insert(1,'x')\n",
    "\n",
    "\n",
    "print(\"mylist7: \", mylist7)\n",
    "print(\"mylist1: \", mylist1)\n",
    "\n",
    "mylist1 is mylist7\n",
    "# note these point to the same memory address because \n",
    "# we used the '=' operation above"
   ]
  },
  {
   "cell_type": "code",
   "execution_count": null,
   "metadata": {},
   "outputs": [],
   "source": [
    "# create an empty list\n",
    "\n",
    "mylist7 = []\n",
    "\n",
    "# extend the list with mylist1\n",
    "mylist7.extend(mylist1)\n",
    "\n",
    "# they are not the same object, but have the same contents\n",
    "print(\"mylist1 is mylist7: \", mylist1 is mylist7)\n",
    "\n",
    "print(\"mylist7: \", mylist7)\n",
    "mylist7.insert(1,'x')\n",
    "print(\"mylist7: \", mylist7)\n",
    "mylist7.insert(1,'x')\n",
    "print(\"mylist7: \", mylist7)\n",
    "print(\"mylist1: \", mylist1)\n",
    "\n",
    "# adding elements to mylist7 does not change mylist1"
   ]
  },
  {
   "cell_type": "markdown",
   "metadata": {},
   "source": [
    "Deleting items from lists:"
   ]
  },
  {
   "cell_type": "code",
   "execution_count": null,
   "metadata": {},
   "outputs": [],
   "source": [
    "print(\"mylist7: \", mylist7)\n",
    "\n",
    "# delete an element using the index operator and the del command\n",
    "del mylist7[0]\n",
    "print(\"mylist7: \", mylist7)\n",
    "\n",
    "# delete the first matching element\n",
    "# (results in error if the element does not exist):\n",
    "mylist7.remove('x')\n",
    "print(\"mylist7: \", mylist7)\n",
    "\n",
    "# remove an element using its position \n",
    "# and assign it to a variable:\n",
    "lastelem = mylist7.pop(-1) # remove last element\n",
    "print(\"mylist7: \", mylist7)\n",
    "print(\"lastelem: \", lastelem)\n"
   ]
  },
  {
   "cell_type": "markdown",
   "metadata": {},
   "source": [
    "Python List Methods:\n",
    "\n",
    "<code>append() </code>  - Add an element to the end of the list\\\n",
    "<code>clear()  </code>  - Removes all items from the list\\\n",
    "<code>copy()   </code>  - Returns a shallow copy of the list\\\n",
    "<code>count()  </code>  - Returns the count of number of items passed as an argument\\\n",
    "<code>extend() </code>  - Add all elements of a list to the another list\\\n",
    "<code>index()  </code>  - Returns the index of the first matched item\\\n",
    "<code>insert() </code>  - Insert an item at the defined index\\\n",
    "<code>pop()    </code>  - Removes and returns an element at the given index\\\n",
    "<code>remove() </code>  - Removes an item from the list\\\n",
    "<code>reverse()</code>  - Reverse the order of items in the list\\\n",
    "<code>sort()   </code>  - Sort items in a list in ascending order\\\n",
    "\n",
    "\n",
    "\n",
    "To find out about attributes (functions and variables) defined for an \n",
    "object or module use the <code>dir()</code> command:"
   ]
  },
  {
   "cell_type": "code",
   "execution_count": null,
   "metadata": {},
   "outputs": [],
   "source": [
    "dir(mylist7)"
   ]
  },
  {
   "cell_type": "markdown",
   "metadata": {},
   "source": [
    "The double underscore functions are special functions that implement certain functionality. We will look at them in more detail later in the course.\n",
    "In a Notebook you can also use the tabulator key &#11134; for auto-complete. Start typing and hit &#11134; (sometimes one needs to hit tab twice)."
   ]
  },
  {
   "cell_type": "code",
   "execution_count": null,
   "metadata": {},
   "outputs": [],
   "source": [
    "# move the curser behind the 'myli' and hit tab (twice):\n",
    "myli\n",
    "\n",
    "# move the curser behind the dot and hit tab (twice):\n",
    "mylist7.\n",
    "\n",
    "# move the curser behind the c and hit tab (twice):\n",
    "mylist7.c"
   ]
  },
  {
   "cell_type": "markdown",
   "metadata": {},
   "source": [
    "## Looping over lists\n",
    "\n",
    "There are two kinds of loops in python: while-loop and for-loop.\n",
    "\n",
    "### while-loop\n",
    "\n",
    "Syntax: \n",
    "\n",
    "<code>\n",
    "while condition:\n",
    "    indented_code_block\n",
    "</code>\n",
    "\n",
    "The indented code block is executed over and over as long as the condition evaluates to <code>True</code>. One needs to make sure that the condition evaluates to <code>False</code> at some point, otherwise the loop will be infinite. \n",
    "    "
   ]
  },
  {
   "cell_type": "code",
   "execution_count": null,
   "metadata": {},
   "outputs": [],
   "source": [
    "mylist1 = ['a','b','c','d','e','f'] # mylist got a bit long now so start over\n",
    "\n",
    "j=0 # needs to be initialized\n",
    "while j < len(mylist1): # as long as condition is fulfilled, loop is executed\n",
    "    print(mylist1[j])\n",
    "    j = j+1"
   ]
  },
  {
   "cell_type": "code",
   "execution_count": null,
   "metadata": {},
   "outputs": [],
   "source": [
    "j=0\n",
    "x = 'y'\n",
    "print(\"mylist1: \", mylist1)\n",
    "while x != 'c':\n",
    "    print(\"before assignment: j={}, x={}\".format(j,x))    \n",
    "    x=mylist1[j]\n",
    "    j = j+1\n",
    "    print(\"after assignment:  j={}, x={}\".format(j,x))"
   ]
  },
  {
   "cell_type": "code",
   "execution_count": null,
   "metadata": {},
   "outputs": [],
   "source": [
    "j = 0\n",
    "mx=10\n",
    "while j < mx:\n",
    "    print(j)\n",
    "    j=j+1 # what happens if we forget to add 1 to j? \n",
    "          # (use Kernel -> Interrupt to stop infinite loops)"
   ]
  },
  {
   "cell_type": "markdown",
   "metadata": {},
   "source": [
    "### for-loop\n",
    "\n",
    "Syntax: \n",
    "\n",
    "<code>\n",
    "for element in sequence:\n",
    "    indented_code_block_using_element\n",
    "</code>\n",
    "\n",
    "\n",
    "\n",
    "The <code>range</code> function returns a sequence of integers and is often used in for-loops.\n",
    "\n",
    "Syntax: <code>range(start=0, stop, step=1)</code> \n",
    "\n",
    "<code>start</code>  and <code>step</code>  are optional parameters. Their default value is indicated with the <code>=</code> in the syntax above."
   ]
  },
  {
   "cell_type": "code",
   "execution_count": null,
   "metadata": {},
   "outputs": [],
   "source": [
    "# return a sequence of integers starting at 0, ending at 5 (not including 5)\n",
    "\n",
    "for j in range(5):\n",
    "    print(j)"
   ]
  },
  {
   "cell_type": "code",
   "execution_count": null,
   "metadata": {},
   "outputs": [],
   "source": [
    "# return a sequence of integers starting at 2, ending at 5 (not including 5)\n",
    "\n",
    "for j in range(2,5):\n",
    "    print(j)"
   ]
  },
  {
   "cell_type": "code",
   "execution_count": null,
   "metadata": {},
   "outputs": [],
   "source": [
    "# return a sequence integers starting at 1, ending at 5 (not including 5) in steps of 2\n",
    "\n",
    "for j in range(1,5,2):\n",
    "    print(j)"
   ]
  },
  {
   "cell_type": "code",
   "execution_count": null,
   "metadata": {},
   "outputs": [],
   "source": [
    "# we can feed the result of some other function directly into range(),\n",
    "# by putting it into argument list of range: here the len() function.\n",
    "# The output of the call to len() is then then input of range(), here the\n",
    "# number of elements in mylist1. \n",
    "\n",
    "for j in range(len(mylist1)):\n",
    "    print(j,mylist1[j])"
   ]
  },
  {
   "cell_type": "code",
   "execution_count": null,
   "metadata": {},
   "outputs": [],
   "source": [
    "# we can loop directly over list elements because lists are 'iterable'\n",
    "\n",
    "for m in mylist1:\n",
    "    print(m, mylist1.index(m))"
   ]
  },
  {
   "cell_type": "code",
   "execution_count": null,
   "metadata": {},
   "outputs": [],
   "source": [
    "# the enumerate function returns a sequence of index-element pairs.\n",
    "# (it is actually a tuple of index and element\n",
    "# which is unpacked in two variables - see below)\n",
    "# Here the index is assigned to the variable j and the element to \n",
    "# variable mm. \n",
    "\n",
    "for j,mm in enumerate(mylist1):\n",
    "    print(j,mm) # mm = mylist1[j]\n",
    "    "
   ]
  },
  {
   "cell_type": "markdown",
   "metadata": {},
   "source": [
    "## Tuples\n",
    "Tuples are like lists but the elements cannot be changed:"
   ]
  },
  {
   "cell_type": "code",
   "execution_count": null,
   "metadata": {},
   "outputs": [],
   "source": [
    "# empty tuple \n",
    "mytuple1 = () \n",
    "print(mytuple1)\n",
    "\n",
    "# tuple of integer literals\n",
    "mytuple2 = (1, 2, 3)\n",
    "print(mytuple2)\n",
    "\n",
    "# tuple of various types\n",
    "mytuple3 = (1, 'a', 5673.4)\n",
    "print(mytuple3)\n",
    "\n",
    "# nested tuple\n",
    "mytuple4 = (mytuple1,mytuple2,mytuple3)\n",
    "print(mytuple4)"
   ]
  },
  {
   "cell_type": "markdown",
   "metadata": {},
   "source": [
    "Tuples can also be created without the parentheses (tuple packing):"
   ]
  },
  {
   "cell_type": "code",
   "execution_count": null,
   "metadata": {},
   "outputs": [],
   "source": [
    "mytuple5 = 'h', 3, 5.8  # comma separated literals \n",
    "print(mytuple5)"
   ]
  },
  {
   "cell_type": "markdown",
   "metadata": {},
   "source": [
    "The reverse is also possible (tuple unpacking):"
   ]
  },
  {
   "cell_type": "code",
   "execution_count": null,
   "metadata": {},
   "outputs": [],
   "source": [
    "a, b, c = mytuple5\n",
    "print(a)\n",
    "print(b)\n",
    "print(c)"
   ]
  },
  {
   "cell_type": "markdown",
   "metadata": {},
   "source": [
    "We have actually seen tuple packing and unpacking in problem 1 already without knowing about it:"
   ]
  },
  {
   "cell_type": "code",
   "execution_count": null,
   "metadata": {},
   "outputs": [],
   "source": [
    "# from problem 1:\n",
    "\n",
    "from numpy import *\n",
    "\n",
    "def area_circ(r):\n",
    "    \n",
    "    a = zeros(len(r))\n",
    "    c = zeros(len(r))\n",
    "    \n",
    "    for i,myr in enumerate(r):\n",
    "        # ^--- tuple unpacking\n",
    "        \n",
    "        a[i] = pi * myr**2\n",
    "        c[i] = 2.0 * pi * myr\n",
    "        \n",
    "    return a, c  # tuple packing\n",
    "\n",
    "r = linspace(0,10,11)\n",
    "\n",
    "\n",
    "area, circ = area_circ(r) # tuple unpacking"
   ]
  },
  {
   "cell_type": "code",
   "execution_count": null,
   "metadata": {},
   "outputs": [],
   "source": [
    "# for tuples with a single element a comma is mandatory\n",
    "my_tuple = (\"hello\")   # without a comma this is an arythmetic bracket\n",
    "print(type(my_tuple))  # <class 'str'>  not a tuple\n",
    "\n",
    "# Creating a tuple having one element\n",
    "my_tuple = (\"hello\",)\n",
    "print(type(my_tuple))  # <class 'tuple'>\n",
    "\n",
    "# Parentheses is optional\n",
    "my_tuple = \"hello\",\n",
    "print(type(my_tuple))  # <class 'tuple'>"
   ]
  },
  {
   "cell_type": "markdown",
   "metadata": {},
   "source": [
    "Tuples are immutable:"
   ]
  },
  {
   "cell_type": "code",
   "execution_count": null,
   "metadata": {},
   "outputs": [],
   "source": [
    "print(mytuple2[0])\n",
    "mytuple2[0]=10"
   ]
  },
  {
   "cell_type": "markdown",
   "metadata": {},
   "source": [
    "## Dictionaries\n",
    "\n",
    "Dictionaries are ordered key-value pairs, they are changeable but do not allow duplicates of keys.\n",
    "\n",
    "Dictionaries are created with curly brackets:\n"
   ]
  },
  {
   "cell_type": "code",
   "execution_count": null,
   "metadata": {},
   "outputs": [],
   "source": [
    "# empty dictionary\n",
    "mydict = {}\n",
    "\n",
    "# create a dictionary with three key-value pairs. \n",
    "# using a comma separated list of the form key:value\n",
    "mydict = {\"key\":\"value\", 2:2.0, \"x\":print}\n",
    "print(\"mydict\", mydict)"
   ]
  },
  {
   "cell_type": "markdown",
   "metadata": {},
   "source": [
    "Dictionary keys can be of any type but must be immutable (lists for instance cannot be used as keys, but tuples can). Often keys are strings, for instance names of parameters etc.\n",
    "\n",
    "We can access a value using the index operator and the respective key:"
   ]
  },
  {
   "cell_type": "code",
   "execution_count": null,
   "metadata": {},
   "outputs": [],
   "source": [
    "mydict[2] # not the third element but the key 'integer 2'"
   ]
  },
  {
   "cell_type": "code",
   "execution_count": null,
   "metadata": {
    "scrolled": false
   },
   "outputs": [],
   "source": [
    "mydict[\"key\"]"
   ]
  },
  {
   "cell_type": "code",
   "execution_count": null,
   "metadata": {},
   "outputs": [],
   "source": [
    "# assigning a new key inserts it into the dictionary:\n",
    "mydict[\"newkey\"] = \"hello world\"\n",
    "print(\"mydict: \", mydict)"
   ]
  },
  {
   "cell_type": "markdown",
   "metadata": {},
   "source": [
    "A list of all keys of a dictionary:"
   ]
  },
  {
   "cell_type": "code",
   "execution_count": null,
   "metadata": {},
   "outputs": [],
   "source": [
    "mydict.keys()"
   ]
  },
  {
   "cell_type": "code",
   "execution_count": null,
   "metadata": {},
   "outputs": [],
   "source": [
    "# looping through dictionaries by keys\n",
    "for key in mydict:\n",
    "    print(key, mydict[key])"
   ]
  },
  {
   "cell_type": "code",
   "execution_count": null,
   "metadata": {},
   "outputs": [],
   "source": [
    "# Same effect as using the keys() function\n",
    "for key in mydict.keys():\n",
    "    print(key, mydict[key])"
   ]
  },
  {
   "cell_type": "code",
   "execution_count": null,
   "metadata": {},
   "outputs": [],
   "source": [
    "# looping through dictionaries by items (tuples of key-value pairs)\n",
    "for item in mydict.items():\n",
    "    print(item)"
   ]
  },
  {
   "cell_type": "code",
   "execution_count": null,
   "metadata": {},
   "outputs": [],
   "source": [
    "# looping through dictionaries by values\n",
    "for val in mydict.values():\n",
    "    print(val)\n"
   ]
  },
  {
   "cell_type": "markdown",
   "metadata": {},
   "source": [
    "Concatenation of two dictionaries:"
   ]
  },
  {
   "cell_type": "code",
   "execution_count": null,
   "metadata": {},
   "outputs": [],
   "source": [
    "mydict2 = {\"a\":\"b\", \"newkey\":\"grml\"}\n",
    "\n",
    "\n",
    "# the '**' means: unpack mydict and mydict2 into key=value pairs\n",
    "# The key-value pairs are then passed to the initialization\n",
    "# routine of dictionaly and are used to create a new dictionary.\n",
    "\n",
    "mydict3 = {**mydict, **mydict2}\n",
    "print(mydict3)\n",
    "\n",
    "# python 3.9 and higher:\n",
    "mydict3 = mydict | mydict2 # | binary OR operator\n",
    "print(mydict3)\n",
    "\n",
    "# note that this will overwrite existing keys of the first dictionary \n",
    "# here: 'newkey': 'grml' overwrites 'newkey': 'hello world'\n"
   ]
  },
  {
   "cell_type": "markdown",
   "metadata": {},
   "source": [
    "Dictionaries do not implement the <code>+</code> operation because  it would not be a true 'plus' if the dictionaries have identical keys. This would either result in a conflict or in overwriting as above. One rather needs to 'merge' the dictionaries. \n",
    "\n",
    "\n",
    "## Arrays\n",
    "\n",
    "- Arrays are used for mathematical operations\n",
    "- Requires numpy - python itself has only lists\n",
    "- <b>All elements in an array have the same data type</b>"
   ]
  },
  {
   "cell_type": "code",
   "execution_count": null,
   "metadata": {},
   "outputs": [],
   "source": [
    "# import everything from numpy (done above)\n",
    "from numpy import *\n",
    "\n",
    "length = 10\n",
    "\n",
    "# create an array of length 10 filled with zeros (default data type: 64-bit float)\n",
    "array1 = zeros(length)\n",
    "print(\"array1 (zeros): \", array1)\n",
    "\n",
    "# create an array of length 10 filled with ones\n",
    "array1 = ones(length)\n",
    "print(\"array1 (ones): \", array1)\n",
    "\n",
    "# create a 2D-array (matrix) of size 3x3 but do not  \n",
    "# initialize it. The numbers in the array are random \n",
    "# and can be anything. Use with care!\n",
    "length1 = 3\n",
    "array1 = empty([length1,length1])\n",
    "print(\"array1 (empty): \", array1)\n",
    "\n"
   ]
  },
  {
   "cell_type": "code",
   "execution_count": null,
   "metadata": {},
   "outputs": [],
   "source": [
    "# we can convert a list to an array\n",
    "myarray1 = array([1,2,3,4,5,6,7,8,9,10])\n",
    "print(\"myarray1: \", myarray1)\n",
    "print(\"type(myarray1): \", type(myarray1))\n",
    "\n",
    "# the dtype attribute holds information on the kind of \n",
    "# data stored in the array.\n",
    "# numpy will try to guess the correct data type. \n",
    "# we passed a list of integers, so it returned an integer array.\n",
    "# try changing one element to a float and repeat. \n",
    "print(\"myarray1.dtype: \", myarray1.dtype)\n",
    "\n",
    "# the data type can be specified explicitly:\n",
    "myarray1 = array([1,2,3,4,5,6,7,8,9,10],dtype=complex)\n",
    "print(\"myarray1: \", myarray1)\n",
    "print(\"myarray1.dtype: \", myarray1.dtype)"
   ]
  },
  {
   "cell_type": "markdown",
   "metadata": {},
   "source": [
    "Arrays can contain different types of data. The type is determined automatically unless it is explicitly declared."
   ]
  },
  {
   "cell_type": "code",
   "execution_count": null,
   "metadata": {},
   "outputs": [],
   "source": [
    "myarray2 = zeros(length,dtype=ndarray)\n",
    "print(\"myarray2: \", myarray2)\n",
    "print(\"myarray2.dtype: \", myarray2.dtype)\n",
    "myarray2[0]=myarray1\n",
    "print(\"myarray2: \", myarray2)"
   ]
  },
  {
   "cell_type": "markdown",
   "metadata": {},
   "source": [
    "The elements of an array can themselves be arrays (or other objects)."
   ]
  },
  {
   "cell_type": "markdown",
   "metadata": {},
   "source": [
    "Array indexing is similar to list indexing: <code>x[start:stop:step]</code>"
   ]
  },
  {
   "cell_type": "code",
   "execution_count": null,
   "metadata": {},
   "outputs": [],
   "source": [
    "print(\"myarray1[0:length:2]: \", myarray1[0:length:2])\n",
    "\n",
    "# this is the same as\n",
    "\n",
    "print(\"myarray1[::2]: \", myarray1[::2])\n",
    "\n",
    "# if start and stop coincide with first and last element of the array, they need not to be given\n",
    "\n",
    "print(\"myarray1[::-2]: \", myarray1[::-2])\n",
    "\n",
    "# a negative step reverses the order."
   ]
  },
  {
   "cell_type": "markdown",
   "metadata": {},
   "source": [
    "And arrays can be reshaped:"
   ]
  },
  {
   "cell_type": "code",
   "execution_count": null,
   "metadata": {
    "scrolled": true
   },
   "outputs": [],
   "source": [
    "# 9-element vector\n",
    "myarray2 = array([1,2,3,4,5,6,7,8,9])\n",
    "print(\"myarray2: \", myarray2)\n",
    "\n",
    "# 3x3 matrix\n",
    "myarray3 = myarray2.reshape(3,3)\n",
    "print(\"myarray3: \", myarray3)\n",
    "\n",
    "# the arrays are not the same object\n",
    "print(\"myarray2 is myarray3: \", myarray2 is myarray3)\n",
    "\n",
    "# the reshape operation returns a different 'view'\n",
    "# on the array. \n",
    "# but they still share the same data buffer\n",
    "myarray2[0] = -10\n",
    "print(\"myarray3: \", myarray3)"
   ]
  },
  {
   "cell_type": "markdown",
   "metadata": {},
   "source": [
    "We can access single elements of the matrix with the index operator. Note that the matrix is organized as an array of arrays:"
   ]
  },
  {
   "cell_type": "code",
   "execution_count": null,
   "metadata": {},
   "outputs": [],
   "source": [
    "myarray3[1][2]"
   ]
  },
  {
   "cell_type": "code",
   "execution_count": null,
   "metadata": {},
   "outputs": [],
   "source": [
    "# the index operator can take two parameters \n",
    "myarray3[1,2]"
   ]
  },
  {
   "cell_type": "code",
   "execution_count": null,
   "metadata": {},
   "outputs": [],
   "source": [
    "# we can access sub-arrays \n",
    "myarray3[1] # returns a row of the matrix"
   ]
  },
  {
   "cell_type": "markdown",
   "metadata": {},
   "source": [
    "Very useful functions are <code>arange</code> and <code>linspace</code>. </ode>arange</code> returns values between <code>start</code>, <code>stop</code> with a <code>dx</code> where the last point (<code>stop</code> ) is not included; whereas <code>linspace</code> returns values between <code>start</code>, <code>stop</code>  with number of grid points where the last point (<code>stop</code>) is included."
   ]
  },
  {
   "cell_type": "code",
   "execution_count": null,
   "metadata": {},
   "outputs": [],
   "source": [
    "myarray2 = arange(1,10)\n",
    "print(\"myarray2: \", myarray2)\n",
    "print(\"arange(9): \", arange(9))\n",
    "print(\"arange(0,9,0.5): \", arange(0,9,0.5))\n",
    "\n",
    "myarray3 = linspace(0,11,12)\n",
    "print(\"myarray3: \", myarray3)\n",
    "myarray4 = myarray3.reshape(3,4)\n",
    "print(\"myarray4: \", myarray4)\n",
    "print(\"linspace(2,5,4): \", linspace(2,5,4))\n",
    "\n",
    "# Note that arange defaults to dtype=int for integer input. \n",
    "# One can give an explicit dtype in both, arange and linspace"
   ]
  },
  {
   "cell_type": "markdown",
   "metadata": {},
   "source": [
    "Arrays can be concatenated:"
   ]
  },
  {
   "cell_type": "code",
   "execution_count": null,
   "metadata": {
    "scrolled": true
   },
   "outputs": [],
   "source": [
    "# arrays can be concatenated:\n",
    "print(\"concatenate([myarray2,myarray2]): \", concatenate([myarray2,myarray2]))\n",
    "\n",
    "# But note that other than for lists the + operation\n",
    "# results in element-wise + and not in concatenation.\n",
    "print(\"myarray2 + myarray2: \", myarray2 + myarray2)\n",
    "print(\"myarray2 * myarray2: \", myarray2 * myarray2)"
   ]
  },
  {
   "cell_type": "markdown",
   "metadata": {},
   "source": [
    "There is a large number of functions available for operations on arrays. See \\\n",
    "https://docs.scipy.org/doc/numpy/reference/routines.array-manipulation.html \\\n",
    "https://docs.scipy.org/doc/numpy/reference/routines.sort.html \\\n",
    "https://docs.scipy.org/doc/numpy/reference/routines.statistics.html \n",
    "            \n",
    "For an overview see https://docs.scipy.org/doc/numpy/reference/routines.html.\n"
   ]
  },
  {
   "cell_type": "markdown",
   "metadata": {},
   "source": [
    "## There are also <code>sets</code> which we will consider later."
   ]
  },
  {
   "cell_type": "markdown",
   "metadata": {},
   "source": [
    "# Task 1\n",
    "\n",
    "Find out how many colors there are in the mycolors list below. Using loop structures, case selection and list indexing where required, find out\n",
    "1. how many colors have three letters or less in their name?\n",
    "2. how many colors have four letters?\n",
    "3. how many colors have five letters?\n",
    "4. how many colors have six letters?\n",
    "5. how many colors have seven or more letters?\n",
    "\n",
    "You can find the number of letters in a string using the len() function.\n",
    "\n",
    "Create an array that contains the above 1., 2., 3., 4., 5. numbers. Sum over all elements in the array using a loop, and using a numpy intrinsic function that you can find at one of the links above. Calculate the mean average value over all elements in the array using a loop and using a numpy intrinsic function."
   ]
  },
  {
   "cell_type": "code",
   "execution_count": null,
   "metadata": {},
   "outputs": [],
   "source": [
    "# import some colors from matplotlib\n",
    "\n",
    "from matplotlib import colors as mcolors\n",
    "\n",
    "# BASE_COLORS and CSS4_COLORS are both dictionaries,\n",
    "# key: color name; value: RGB value \n",
    "\n",
    "# concatenate the two dictionaries into one\n",
    "colors = {**mcolors.BASE_COLORS, **mcolors.CSS4_COLORS}\n",
    "\n",
    "colors[\"black\"] # string of red,green,blue values in hexadecimal format"
   ]
  },
  {
   "cell_type": "code",
   "execution_count": null,
   "metadata": {},
   "outputs": [],
   "source": [
    "colorlist = []\n",
    "\n",
    "# loop through the dictionary\n",
    "for name, color in colors.items():\n",
    "\n",
    "    # convert the hex RGB code to three numbers and alpha (opacity)\n",
    "    rgba = mcolors.to_rgba(color)\n",
    "    \n",
    "    # convert the numerical RGB value to hue, saturation, value (HSV)\n",
    "    # with [:3] we skip opacity because mcolors.rgb_to_hsv\n",
    "    # cannot digest it\n",
    "    tpl = (tuple(mcolors.rgb_to_hsv(rgba[:3])), name)\n",
    "    \n",
    "    # append the tuple to the list\n",
    "    colorlist.append(tpl)\n",
    "    \n",
    "# Lets see how this looks for sone color\n",
    "elem = 10\n",
    "print('HSV: ', colorlist[elem])\n",
    "print('RGB: ', colors[colorlist[elem][1]],colorlist[elem][1] )"
   ]
  },
  {
   "cell_type": "code",
   "execution_count": null,
   "metadata": {},
   "outputs": [],
   "source": [
    "# sort the list by hue, saturation, value and name\n",
    "by_hsv = sorted(colorlist)\n",
    "    \n",
    "# [x for x in something] is an implicit iteration \n",
    "# that returns a new list of elements x in something. \n",
    "# here it is used to extract the names from the \n",
    "\n",
    "mycolors = [name for hsv, name in by_hsv]\n",
    "\n",
    "print(mycolors)"
   ]
  },
  {
   "cell_type": "code",
   "execution_count": null,
   "metadata": {},
   "outputs": [],
   "source": [
    "# print the color and number of letters\n",
    "print(mycolors[0],len(mycolors[0]))"
   ]
  },
  {
   "cell_type": "markdown",
   "metadata": {},
   "source": [
    "# Task 2\n",
    "\n",
    "Create an array with 256 values between zero and one, including one. Reshape this array into a 2D-matrix with equal number of rows and columns (square matrix). Multiply this matrix with the identity matrix __I__.\n",
    "\n",
    "Remember: The identity matrix is a square matrix with ones on the diagonal and zero entries everywhere else.\n",
    "\n",
    "\\begin{align}\n",
    "\\mathbf{I} = \n",
    "\\begin{pmatrix} \n",
    "1 & 0 & 0 & \\ldots & 0 \\\\\n",
    "0 & 1 & 0 & \\ldots & 0 \\\\\n",
    "\\vdots & \\vdots & \\vdots & \\ddots & \\vdots \\\\\n",
    "0 & 0 & 0 & \\ldots & 1 \\\\\n",
    " \\end{pmatrix} \n",
    "\\end{align}"
   ]
  },
  {
   "cell_type": "code",
   "execution_count": null,
   "metadata": {},
   "outputs": [],
   "source": []
  },
  {
   "cell_type": "code",
   "execution_count": null,
   "metadata": {},
   "outputs": [],
   "source": []
  }
 ],
 "metadata": {
  "kernelspec": {
   "display_name": "Python 3 (ipykernel)",
   "language": "python",
   "name": "python3"
  },
  "language_info": {
   "codemirror_mode": {
    "name": "ipython",
    "version": 3
   },
   "file_extension": ".py",
   "mimetype": "text/x-python",
   "name": "python",
   "nbconvert_exporter": "python",
   "pygments_lexer": "ipython3",
   "version": "3.9.7"
  }
 },
 "nbformat": 4,
 "nbformat_minor": 4
}
