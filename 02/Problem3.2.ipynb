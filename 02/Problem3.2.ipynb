{
 "cells": [
  {
   "cell_type": "markdown",
   "id": "f3d4cfcc",
   "metadata": {},
   "source": [
    "# Task 2\n",
    "\n",
    "Create an array with 256 values between zero and one, including one. Reshape this array into a 2D-matrix with equal number of rows and columns (square matrix). Multiply this matrix with the identity matrix __I__.\n",
    "\n",
    "Remember: The identity matrix is a square matrix with ones on the diagonal and zero entries everywhere else.\n",
    "\n",
    "\\begin{align}\n",
    "\\mathbf{I} = \n",
    "\\begin{pmatrix} \n",
    "1 & 0 & 0 & \\ldots & 0 \\\\\n",
    "0 & 1 & 0 & \\ldots & 0 \\\\\n",
    "\\vdots & \\vdots & \\vdots & \\ddots & \\vdots \\\\\n",
    "0 & 0 & 0 & \\ldots & 1 \\\\\n",
    " \\end{pmatrix} \n",
    "\\end{align}"
   ]
  },
  {
   "cell_type": "code",
   "execution_count": 1,
   "id": "9c9b57e5",
   "metadata": {},
   "outputs": [],
   "source": [
    "import numpy as np"
   ]
  },
  {
   "cell_type": "code",
   "execution_count": 2,
   "id": "ad08245c",
   "metadata": {},
   "outputs": [],
   "source": [
    "def error(elem):\n",
    "    if type(elem) != int:\n",
    "        raise ValueError(\"Please insert an integer\")\n",
    "    if elem == 0:\n",
    "        raise ValueError(\"Matrix should have at least 1 element\")\n",
    "    if elem < 0:\n",
    "        raise ValueError(\"Matrix length can't have negative values\")"
   ]
  },
  {
   "cell_type": "code",
   "execution_count": 3,
   "id": "9c7b3298",
   "metadata": {},
   "outputs": [],
   "source": [
    "def identity(elem):\n",
    "    error(elem)\n",
    "    matr=np.zeros(elem**2)\n",
    "    matr=matr.reshape(elem, elem)\n",
    "    for i in range(elem):\n",
    "        for j in range(elem):\n",
    "            if i ==j:\n",
    "                matr[i][j]=1\n",
    "    return matr\n",
    "\n",
    "def zmatr(elem):\n",
    "    error(elem)\n",
    "    matr=np.zeros(elem**2)\n",
    "    matr=matr.reshape(elem, elem)\n",
    "    return matr\n",
    "\n",
    "def arr(elem):\n",
    "    a=np.zeros(elem**2)\n",
    "    for i in range(elem**2):\n",
    "        a[i]=i%2\n",
    "    a=a.reshape(elem, elem)\n",
    "    return a"
   ]
  },
  {
   "cell_type": "code",
   "execution_count": 4,
   "id": "1582e5e7",
   "metadata": {},
   "outputs": [],
   "source": [
    "#choose wisely\n",
    "elem=16"
   ]
  },
  {
   "cell_type": "code",
   "execution_count": 5,
   "id": "40457fe3",
   "metadata": {},
   "outputs": [
    {
     "name": "stdout",
     "output_type": "stream",
     "text": [
      "[[15.  0.  0.  0.  0.  0.  0.  0.  0.  0.  0.  0.  0.  0.  0.  0.]\n",
      " [ 0. 15.  0.  0.  0.  0.  0.  0.  0.  0.  0.  0.  0.  0.  0.  0.]\n",
      " [ 0.  0. 15.  0.  0.  0.  0.  0.  0.  0.  0.  0.  0.  0.  0.  0.]\n",
      " [ 0.  0.  0. 15.  0.  0.  0.  0.  0.  0.  0.  0.  0.  0.  0.  0.]\n",
      " [ 0.  0.  0.  0. 15.  0.  0.  0.  0.  0.  0.  0.  0.  0.  0.  0.]\n",
      " [ 0.  0.  0.  0.  0. 15.  0.  0.  0.  0.  0.  0.  0.  0.  0.  0.]\n",
      " [ 0.  0.  0.  0.  0.  0. 15.  0.  0.  0.  0.  0.  0.  0.  0.  0.]\n",
      " [ 0.  0.  0.  0.  0.  0.  0. 15.  0.  0.  0.  0.  0.  0.  0.  0.]\n",
      " [ 0.  0.  0.  0.  0.  0.  0.  0. 15.  0.  0.  0.  0.  0.  0.  0.]\n",
      " [ 0.  0.  0.  0.  0.  0.  0.  0.  0. 15.  0.  0.  0.  0.  0.  0.]\n",
      " [ 0.  0.  0.  0.  0.  0.  0.  0.  0.  0. 15.  0.  0.  0.  0.  0.]\n",
      " [ 0.  0.  0.  0.  0.  0.  0.  0.  0.  0.  0. 15.  0.  0.  0.  0.]\n",
      " [ 0.  0.  0.  0.  0.  0.  0.  0.  0.  0.  0.  0. 15.  0.  0.  0.]\n",
      " [ 0.  0.  0.  0.  0.  0.  0.  0.  0.  0.  0.  0.  0. 15.  0.  0.]\n",
      " [ 0.  0.  0.  0.  0.  0.  0.  0.  0.  0.  0.  0.  0.  0. 15.  0.]\n",
      " [ 0.  0.  0.  0.  0.  0.  0.  0.  0.  0.  0.  0.  0.  0.  0. 15.]]\n"
     ]
    }
   ],
   "source": [
    "ident=identity(elem)\n",
    "zeros=zmatr(elem)\n",
    "ar=arr(elem)\n",
    "\n",
    "#print(ident)\n",
    "#print(zeros)\n",
    "#print(ar)\n",
    "\n",
    "for i in range(len(ar)):\n",
    "    for j in range(len(ar[i])):\n",
    "            matprod=j*ident\n",
    "\n",
    "print(matprod)"
   ]
  },
  {
   "cell_type": "code",
   "execution_count": null,
   "id": "31414cce",
   "metadata": {},
   "outputs": [],
   "source": []
  }
 ],
 "metadata": {
  "kernelspec": {
   "display_name": "Python 3 (ipykernel)",
   "language": "python",
   "name": "python3"
  },
  "language_info": {
   "codemirror_mode": {
    "name": "ipython",
    "version": 3
   },
   "file_extension": ".py",
   "mimetype": "text/x-python",
   "name": "python",
   "nbconvert_exporter": "python",
   "pygments_lexer": "ipython3",
   "version": "3.9.5"
  }
 },
 "nbformat": 4,
 "nbformat_minor": 5
}
