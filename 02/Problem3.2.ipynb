{
 "cells": [
  {
   "cell_type": "markdown",
   "id": "f3d4cfcc",
   "metadata": {},
   "source": [
    "# Task 2\n",
    "\n",
    "Create an array with 256 values between zero and one, including one. Reshape this array into a 2D-matrix with equal number of rows and columns (square matrix). Multiply this matrix with the identity matrix __I__.\n",
    "\n",
    "Remember: The identity matrix is a square matrix with ones on the diagonal and zero entries everywhere else.\n",
    "\n",
    "\\begin{align}\n",
    "\\mathbf{I} = \n",
    "\\begin{pmatrix} \n",
    "1 & 0 & 0 & \\ldots & 0 \\\\\n",
    "0 & 1 & 0 & \\ldots & 0 \\\\\n",
    "\\vdots & \\vdots & \\vdots & \\ddots & \\vdots \\\\\n",
    "0 & 0 & 0 & \\ldots & 1 \\\\\n",
    " \\end{pmatrix} \n",
    "\\end{align}"
   ]
  },
  {
   "cell_type": "code",
   "execution_count": null,
   "id": "40457fe3",
   "metadata": {},
   "outputs": [],
   "source": []
  }
 ],
 "metadata": {
  "kernelspec": {
   "display_name": "Python 3 (ipykernel)",
   "language": "python",
   "name": "python3"
  },
  "language_info": {
   "codemirror_mode": {
    "name": "ipython",
    "version": 3
   },
   "file_extension": ".py",
   "mimetype": "text/x-python",
   "name": "python",
   "nbconvert_exporter": "python",
   "pygments_lexer": "ipython3",
   "version": "3.9.5"
  }
 },
 "nbformat": 4,
 "nbformat_minor": 5
}
