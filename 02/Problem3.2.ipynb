{
 "cells": [
  {
   "cell_type": "markdown",
   "id": "f3d4cfcc",
   "metadata": {},
   "source": [
    "# Task 2\n",
    "\n",
    "Create an array with 256 values between zero and one, including one. Reshape this array into a 2D-matrix with equal number of rows and columns (square matrix). Multiply this matrix with the identity matrix __I__.\n",
    "\n",
    "Remember: The identity matrix is a square matrix with ones on the diagonal and zero entries everywhere else.\n",
    "\n",
    "\\begin{align}\n",
    "\\mathbf{I} = \n",
    "\\begin{pmatrix} \n",
    "1 & 0 & 0 & \\ldots & 0 \\\\\n",
    "0 & 1 & 0 & \\ldots & 0 \\\\\n",
    "\\vdots & \\vdots & \\vdots & \\ddots & \\vdots \\\\\n",
    "0 & 0 & 0 & \\ldots & 1 \\\\\n",
    " \\end{pmatrix} \n",
    "\\end{align}"
   ]
  },
  {
   "cell_type": "markdown",
   "id": "e2957c32",
   "metadata": {},
   "source": [
    "### importing libraries"
   ]
  },
  {
   "cell_type": "code",
   "execution_count": 1,
   "id": "9c9b57e5",
   "metadata": {},
   "outputs": [],
   "source": [
    "import numpy as np"
   ]
  },
  {
   "cell_type": "markdown",
   "id": "0dcbfc46",
   "metadata": {},
   "source": [
    "### some functions"
   ]
  },
  {
   "cell_type": "code",
   "execution_count": 10,
   "id": "ad08245c",
   "metadata": {},
   "outputs": [],
   "source": [
    "def error(elem):\n",
    "    if type(elem) != int:\n",
    "        raise ValueError(\"Please insert an integer\")\n",
    "    if elem == 0:\n",
    "        raise ValueError(\"Matrix should have at least 1 element\")\n",
    "    if elem < 0:\n",
    "        raise ValueError(\"Matrix length can't have negative values\")"
   ]
  },
  {
   "cell_type": "code",
   "execution_count": 25,
   "id": "9c7b3298",
   "metadata": {},
   "outputs": [],
   "source": [
    "def identity(elem): #make identity matrix of shape (elem, elem)\n",
    "    error(elem)\n",
    "    matr=np.zeros(elem**2)\n",
    "    matr=matr.reshape(elem, elem)\n",
    "    for i in range(elem):\n",
    "        for j in range(elem):\n",
    "            if i ==j:\n",
    "                matr[i][j]=1\n",
    "    #print(matr)\n",
    "    return matr\n",
    "\n",
    "def zmatr(elem): #make a zero matrix of shape (elem, elem)\n",
    "    error(elem)\n",
    "    matr=np.zeros(elem**2)\n",
    "    matr=matr.reshape(elem, elem)\n",
    "    return matr\n",
    "\n",
    "def mat(elem): #make a matrix of shape (elem, elem) with 0 and 1\n",
    "               #I hope 0 and 1 count as \"values between 0 and 1\n",
    "               #otherwise, values may also be generated randomly using 'np.random.rand(elem**2)'\n",
    "    a=np.zeros(elem**2)\n",
    "    for i in range(elem**2):\n",
    "        a[i]=i%2\n",
    "    #print(a)\n",
    "    a=a.reshape(elem, elem)\n",
    "    return a\n",
    "\n",
    "def multiply(mat1, mat2):\n",
    "    prod=zmatr(elem)\n",
    "    for i in range(len(mat1)):\n",
    "        for j in range(len(mat2[0])):\n",
    "            for count in range(len(mat2[0])):\n",
    "                prod[i][j]+=mat1[i][count] * mat2[count][j]\n",
    "    return prod\n",
    "\n",
    "def same(mat1, mat2): #checking, if two matrices are identical\n",
    "    if (mat1 == mat2).all:\n",
    "        return True\n",
    "    else:\n",
    "        return False"
   ]
  },
  {
   "cell_type": "markdown",
   "id": "6cac8d26",
   "metadata": {},
   "source": [
    "### choose wisely:"
   ]
  },
  {
   "cell_type": "code",
   "execution_count": 26,
   "id": "1582e5e7",
   "metadata": {},
   "outputs": [],
   "source": [
    "elem=16"
   ]
  },
  {
   "cell_type": "markdown",
   "id": "b751bf73",
   "metadata": {},
   "source": [
    "### now the actual code"
   ]
  },
  {
   "cell_type": "code",
   "execution_count": 27,
   "id": "40457fe3",
   "metadata": {},
   "outputs": [],
   "source": [
    "ident=identity(elem)\n",
    "matr=mat(elem)\n",
    "#print('identity:', ident,'\\n')\n",
    "#print('my matrix:', matr,'\\n')\n",
    "\n",
    "matprod=multiply(ident, matr)\n",
    "#print('matrix product:', matprod)"
   ]
  },
  {
   "cell_type": "code",
   "execution_count": 28,
   "id": "fe105f4a",
   "metadata": {},
   "outputs": [
    {
     "name": "stdout",
     "output_type": "stream",
     "text": [
      "True\n"
     ]
    }
   ],
   "source": [
    "check1=same(matr, matprod) #when matrix multiplication with identity matrix, then product and my matrix are the same\n",
    "print(check1)"
   ]
  },
  {
   "cell_type": "markdown",
   "id": "bd7cd531",
   "metadata": {},
   "source": [
    "### same, but numpy, but still same"
   ]
  },
  {
   "cell_type": "code",
   "execution_count": 29,
   "id": "92cb9e2c",
   "metadata": {},
   "outputs": [],
   "source": [
    "nparray = np.zeros(elem**2)\n",
    "nprandarray=np.random.rand(elem**2)\n",
    "npmatrix = nprandarray.reshape(elem, elem)\n",
    "\n",
    "npident = np.eye(elem, elem)"
   ]
  },
  {
   "cell_type": "code",
   "execution_count": 30,
   "id": "fac2927b",
   "metadata": {},
   "outputs": [],
   "source": [
    "matmult1=np.matmul(npmatrix, npident) #one way to do matrix multiplication\n",
    "matmult2=npmatrix@npident #other way to do matrix multiplication\n",
    "\n",
    "#print('matmult1:\\n', matmult1,'\\n')\n",
    "#print('matmult2:\\n', matmult2)"
   ]
  },
  {
   "cell_type": "code",
   "execution_count": 33,
   "id": "db1378bc",
   "metadata": {},
   "outputs": [
    {
     "name": "stdout",
     "output_type": "stream",
     "text": [
      "True True True\n"
     ]
    }
   ],
   "source": [
    "check2=same(matmult1, npmatrix)\n",
    "check3=same(matmult2, npmatrix)\n",
    "check4=same(matmult1, matmult2) #kinda unnecessary if check2 and check3 are true, but why not\n",
    "\n",
    "print(check2, check3, check4)"
   ]
  },
  {
   "cell_type": "code",
   "execution_count": null,
   "id": "b203354d",
   "metadata": {},
   "outputs": [],
   "source": []
  }
 ],
 "metadata": {
  "kernelspec": {
   "display_name": "Python 3 (ipykernel)",
   "language": "python",
   "name": "python3"
  },
  "language_info": {
   "codemirror_mode": {
    "name": "ipython",
    "version": 3
   },
   "file_extension": ".py",
   "mimetype": "text/x-python",
   "name": "python",
   "nbconvert_exporter": "python",
   "pygments_lexer": "ipython3",
   "version": "3.9.5"
  }
 },
 "nbformat": 4,
 "nbformat_minor": 5
}
