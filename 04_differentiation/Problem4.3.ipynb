{
 "cells": [
  {
   "cell_type": "markdown",
   "metadata": {},
   "source": [
    "Computational modeling in python, SoSe2022 \n",
    "\n",
    "# Python magic functions\n",
    "\n",
    "IPython: Enhanced interactive python; see https://ipython.readthedocs.io/en/stable/#\n",
    "\n",
    "IPython is meant to allow an interactive monitoring of your implementation. Jupyter is a spin-off of IPython and has its own documentation at https://jupyter-notebook.readthedocs.io/en/stable/index.html (it has a lot of very helpful shortcuts: https://towardsdatascience.com/jypyter-notebook-shortcuts-bf0101a98330 ).\n",
    "\n",
    "Anyways, magic functions are enhancements in addition to Python that extend the environment to useful additional functions and shortcuts. They are separated into \"cell magic\" that is invoked with two `%%`'s and \"line magic\" that requires one `%`. Cell magic applies to the whole cell (operates on multiple lines of input) and line magic only to single lines of input. Here are some of the most useful magic commands:\n",
    "\n",
    "1. `%%time`: This tells you how long it takes the whole cell to execute."
   ]
  },
  {
   "cell_type": "code",
   "execution_count": null,
   "metadata": {},
   "outputs": [],
   "source": [
    "%%time\n",
    "mylist = []\n",
    "for i in range(100):\n",
    "    mylist.append(i)"
   ]
  },
  {
   "cell_type": "markdown",
   "metadata": {},
   "source": [
    "2. Another useful timing-related function is `%time` for one line:"
   ]
  },
  {
   "cell_type": "code",
   "execution_count": null,
   "metadata": {},
   "outputs": [],
   "source": [
    "mylist = []\n",
    "for i in range(10):\n",
    "    %time mylist.append(i)"
   ]
  },
  {
   "cell_type": "markdown",
   "metadata": {},
   "source": [
    "This tells you how long the execution of one specific command took."
   ]
  },
  {
   "cell_type": "markdown",
   "metadata": {},
   "source": [
    "3. Recent commands with `%history` "
   ]
  },
  {
   "cell_type": "code",
   "execution_count": null,
   "metadata": {},
   "outputs": [],
   "source": [
    "%history"
   ]
  },
  {
   "cell_type": "markdown",
   "metadata": {},
   "source": [
    "4. List variables of a type with `%who`"
   ]
  },
  {
   "cell_type": "code",
   "execution_count": null,
   "metadata": {},
   "outputs": [],
   "source": [
    "x = 1.0\n",
    "from numpy import *\n",
    "\n",
    "%who float\n"
   ]
  },
  {
   "cell_type": "markdown",
   "metadata": {},
   "source": [
    "5. Intercative figures with `%matplotlib notebook`"
   ]
  },
  {
   "cell_type": "code",
   "execution_count": null,
   "metadata": {},
   "outputs": [],
   "source": [
    "%matplotlib notebook\n",
    "from numpy import *\n",
    "import matplotlib.pyplot as plt\n",
    "plt.plot(mylist,sin(mylist))\n",
    "plt.show()"
   ]
  },
  {
   "cell_type": "markdown",
   "metadata": {},
   "source": [
    "6.save a session to a .ipy file with `%save`"
   ]
  },
  {
   "cell_type": "code",
   "execution_count": null,
   "metadata": {},
   "outputs": [],
   "source": [
    "%save -r mysession 0-1000  # lines 0 to 1000"
   ]
  },
  {
   "cell_type": "markdown",
   "metadata": {},
   "source": [
    "7. Get help to the magic system with `%magic` "
   ]
  },
  {
   "cell_type": "code",
   "execution_count": null,
   "metadata": {},
   "outputs": [],
   "source": [
    "%magic"
   ]
  },
  {
   "cell_type": "markdown",
   "metadata": {},
   "source": [
    "8. Get help on a specific fuction with `?`"
   ]
  },
  {
   "cell_type": "code",
   "execution_count": null,
   "metadata": {},
   "outputs": [],
   "source": [
    "%timeit?"
   ]
  },
  {
   "cell_type": "markdown",
   "metadata": {},
   "source": [
    "`?` by the way also works on other things:"
   ]
  },
  {
   "cell_type": "code",
   "execution_count": null,
   "metadata": {},
   "outputs": [],
   "source": [
    "x = [1,2,3]"
   ]
  },
  {
   "cell_type": "code",
   "execution_count": null,
   "metadata": {},
   "outputs": [],
   "source": [
    "x?"
   ]
  },
  {
   "cell_type": "markdown",
   "metadata": {},
   "source": [
    "One can even run complete notebooks:"
   ]
  },
  {
   "cell_type": "code",
   "execution_count": null,
   "metadata": {
    "scrolled": false
   },
   "outputs": [],
   "source": [
    "%run Problem7.ipynb"
   ]
  },
  {
   "cell_type": "markdown",
   "metadata": {},
   "source": [
    "\n",
    "# Generator functions\n",
    "\n",
    "Generators can be used to calculate a sequence on the fly. A generator is defined like a function, but instead of the `return` keyword `yield` is used to return a value. When called, a generator executes until the first `yield` statement, then returns to control to the calling routine. When called again it executes to the following `yield` statement and returns to control to the caller.\n",
    "\n",
    "This is continued until the last `yield` statement is reached. When called again `StopIteration` is raised. A generator can only be used once.\n"
   ]
  },
  {
   "cell_type": "code",
   "execution_count": null,
   "metadata": {},
   "outputs": [],
   "source": [
    "def factorial(N):\n",
    "    \"calculate the first N factorials\"\n",
    "    \n",
    "    if N < 1:\n",
    "        raise ValueError(\"factorial(N): N must be >= 1\")\n",
    "\n",
    "    fac = 1\n",
    "    yield fac\n",
    "        \n",
    "    for i in range(2,N+1):\n",
    "        fac *= i\n",
    "        yield fac\n",
    "                \n",
    "\n",
    "\n",
    "def soccerleague():\n",
    "    yield \"FC Bayern München\"\n",
    "    yield \"Borussia Dortmund\"\n",
    "    yield \"Bayer 04 Leverkusen\"\n",
    "    yield \"RB Leipzig\"\n",
    "    yield \"1. FC Union Berlin\"\n",
    "    yield \"SC Freiburg\"\n",
    "    yield \"1. FC Köln\"\n",
    "    yield \"1. FSV Mainz 05\"\n",
    "    yield \"TSG Hoffenheim\"\n",
    "    yield \"Borussia M'Gladbach\"\n",
    "    yield \"Eintracht Frankfurt\"\n",
    "    yield \"VfL Wolfsburg\"\n",
    "    yield \"VfL Bochum\"\n",
    "    yield \"FC Augsburg\"\n",
    "    yield \"VfB Stuttgart\"\n",
    "    yield \"Hertha BSC\"\n",
    "    yield \"Arminia Bielefeld\"\n",
    "    yield \"SpVgg Greuter Fürth\"\n",
    "    \n",
    "\n"
   ]
  },
  {
   "cell_type": "code",
   "execution_count": null,
   "metadata": {},
   "outputs": [],
   "source": [
    "fg = factorial(10)\n",
    "\n",
    "for i in fg:\n",
    "    print(i)\n",
    "\n",
    "    "
   ]
  },
  {
   "cell_type": "code",
   "execution_count": null,
   "metadata": {},
   "outputs": [],
   "source": [
    "   \n",
    "for i,club in enumerate(soccerleague()):\n",
    "    print(i+1,club)\n"
   ]
  },
  {
   "cell_type": "markdown",
   "metadata": {},
   "source": [
    "Iterations result in calling the `__next__()` method of an iterable or the python `next` function. One can do this explicitely:"
   ]
  },
  {
   "cell_type": "code",
   "execution_count": null,
   "metadata": {},
   "outputs": [],
   "source": [
    "sl = soccerleague()\n",
    "\n",
    "print(sl.__next__())\n",
    "print(sl.__next__())\n",
    "print(sl.__next__())\n",
    "\n",
    "\n",
    "print(next(sl))\n",
    "print(next(sl))\n",
    "print(next(sl))"
   ]
  },
  {
   "cell_type": "markdown",
   "metadata": {},
   "source": [
    "Generators can be created in one line:"
   ]
  },
  {
   "cell_type": "code",
   "execution_count": null,
   "metadata": {},
   "outputs": [],
   "source": [
    "g = (-x for x in range(3))"
   ]
  },
  {
   "cell_type": "code",
   "execution_count": null,
   "metadata": {},
   "outputs": [],
   "source": [
    "print(type(g))\n",
    "print(g)"
   ]
  },
  {
   "cell_type": "code",
   "execution_count": null,
   "metadata": {},
   "outputs": [],
   "source": [
    "g.__next__()\n",
    "g.__next__()\n",
    "g.__next__()\n",
    "g.__next__()  # raises StopIteration"
   ]
  },
  {
   "cell_type": "code",
   "execution_count": null,
   "metadata": {},
   "outputs": [],
   "source": [
    "l = [-x for x in range(3)] # creates a list "
   ]
  },
  {
   "cell_type": "code",
   "execution_count": null,
   "metadata": {},
   "outputs": [],
   "source": [
    "print(type(l))"
   ]
  },
  {
   "cell_type": "code",
   "execution_count": null,
   "metadata": {},
   "outputs": [],
   "source": [
    "print(l)"
   ]
  },
  {
   "cell_type": "code",
   "execution_count": null,
   "metadata": {},
   "outputs": [],
   "source": []
  }
 ],
 "metadata": {
  "kernelspec": {
   "display_name": "Python 3 (ipykernel)",
   "language": "python",
   "name": "python3"
  },
  "language_info": {
   "codemirror_mode": {
    "name": "ipython",
    "version": 3
   },
   "file_extension": ".py",
   "mimetype": "text/x-python",
   "name": "python",
   "nbconvert_exporter": "python",
   "pygments_lexer": "ipython3",
   "version": "3.9.12"
  }
 },
 "nbformat": 4,
 "nbformat_minor": 4
}
