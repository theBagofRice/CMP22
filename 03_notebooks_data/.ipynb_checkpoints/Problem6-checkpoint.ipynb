{
 "cells": [
  {
   "cell_type": "markdown",
   "metadata": {},
   "source": [
    "Computational modeling in python, SoSe2022\n",
    "\n",
    "# Program structures\n",
    "\n",
    "The algorithm of a program consists of a set of steps, that are required to provide a solution to the targeted problem.\n",
    "\n",
    "An algorithm consists of several steps. There are usually different ways to implement an algorithm, the \"programming paradigm\". \n",
    "\n",
    "In the following, we will explore different ways of implementing a solution to a given problem: The area and circumference of a circle."
   ]
  },
  {
   "cell_type": "code",
   "execution_count": null,
   "metadata": {},
   "outputs": [],
   "source": [
    "from numpy import *"
   ]
  },
  {
   "cell_type": "markdown",
   "metadata": {},
   "source": [
    "## 1. A step-by-step instruction"
   ]
  },
  {
   "cell_type": "code",
   "execution_count": null,
   "metadata": {},
   "outputs": [],
   "source": [
    "r = float(input('Provide the radius r: '))\n",
    "area = pi * r ** 2\n",
    "circ = 2.0 * pi * r\n",
    "print('For the radius {:2.2f} the area is {:2.2f} and circumference is {:2.2f}.'.format(r,area,circ))"
   ]
  },
  {
   "cell_type": "markdown",
   "metadata": {},
   "source": [
    "Note that in this algorithm, `r` is directly assigned a value.\n",
    "\n",
    "## 2. An instruction through a function\n",
    "\n",
    "Functions are very practical if one needs to perform the same task several times. Instead of re-typing the same step-by-step functions over and over again one bundles them into a function and simply calls the function when needed.  "
   ]
  },
  {
   "cell_type": "code",
   "execution_count": null,
   "metadata": {},
   "outputs": [],
   "source": [
    "def area_circ(r_local):\n",
    "    area_local = pi * r_local ** 2\n",
    "    circ_local = 2.0 * pi * r_local\n",
    "    print('For the radius {:2.2f} the area is {:2.2f} and circumference is {:2.2f}.'.format(r_local,area_local,circ_local))    \n",
    "    return\n",
    "\n",
    "area_circ(3.0)\n"
   ]
  },
  {
   "cell_type": "markdown",
   "metadata": {},
   "source": [
    "### Scopes of variables\n",
    "\n",
    "Note that in this algorithm, `r_local` is not assigned a particular value (memory address) through an equal sign. It is assigned implicitly when the function is called with an argument. It is only visible inside the function. This is called a __local variable__. Also all variables assigned inside the function body are local by default. \n",
    "\n",
    "Trying to access local variables outside the part of code where they are visible results in an error:"
   ]
  },
  {
   "cell_type": "code",
   "execution_count": null,
   "metadata": {
    "scrolled": true
   },
   "outputs": [],
   "source": [
    "print(area_local)"
   ]
  },
  {
   "cell_type": "code",
   "execution_count": null,
   "metadata": {},
   "outputs": [],
   "source": [
    "print(r_local)"
   ]
  },
  {
   "cell_type": "markdown",
   "metadata": {},
   "source": [
    "The part of the code where a variable is visible is called the __scope of a variable__. The scope of `r_local` is __local__.\n",
    "\n",
    "The variable `pi` is known inside and outside the function. The scope of the variable `pi` is __global__. \n",
    "\n",
    "_Global variables are visible inside the function by default, unless they are assigned inside the function._"
   ]
  },
  {
   "cell_type": "code",
   "execution_count": null,
   "metadata": {},
   "outputs": [],
   "source": [
    "# a global variable:\n",
    "myvar = \"Hello world\"\n",
    "\n",
    "def myfunc():\n",
    "    # myvar is a local to myfunc. \n",
    "    myvar = \"This is 'myvar' inside a function.\"\n",
    "    print(myvar)\n",
    "    \n",
    "myfunc()\n",
    "\n",
    "# here we only see the global myvar\n",
    "print(\"'myvar' outside the function: \", myvar)"
   ]
  },
  {
   "cell_type": "markdown",
   "metadata": {},
   "source": [
    "If a variable is assigned inside a function is a local variables to the function. It can have the same name as a global variable. A global variable cannot be re-assigned inside the function unless it is declared as global:"
   ]
  },
  {
   "cell_type": "code",
   "execution_count": null,
   "metadata": {},
   "outputs": [],
   "source": [
    "# a global variable:\n",
    "myvar = \"Hello world\"\n",
    "\n",
    "def myfunc():\n",
    "    global myvar\n",
    "    \n",
    "    # this now changes the global variable\n",
    "    myvar = \"Changing global myvar.\"\n",
    "    print(myvar)\n",
    "    \n",
    "myfunc()\n",
    "print(\"'myvar' outside the function: \", myvar)"
   ]
  },
  {
   "cell_type": "markdown",
   "metadata": {},
   "source": [
    "## 3. An instruction using objects\n",
    "\n",
    "We have so far worked with a number of objects of different types, such as integers, floats, lists, arrays etc. This has proved to be very powerful and so far we could manage it. But for more complex tasks sooner or later we would have do deal with a lot of global variables which will become very hard to manage. It is therefore useful to create ones own data types. This can be done with the `class</code` statement. \n",
    "\n",
    "Classes define templates for data types. With these templates one create actual data objects. This is called <b>instantiation</b>.  Classes can be used to bundle data of different kinds and functionality into a single object.  \n",
    "\n",
    "Syntax:\n",
    "<pre>\n",
    "class classname:\n",
    "    indented block with various statements\n",
    "</pre>\n",
    "\n",
    "Within the indented all kinds of statements are allowed, but typically it contains only function definitions, sometimes variables. Variables and functions declared inside the indented block are members of the class (side remark: one should be careful with declarations of mutable objects directly in the class definitions see: https://docs.python.org/3/tutorial/classes.html section 9.3.5.). Let us look at an example for a circle: "
   ]
  },
  {
   "cell_type": "code",
   "execution_count": null,
   "metadata": {},
   "outputs": [],
   "source": [
    "# working with classes\n",
    "class Circle:\n",
    "    'A simple circle for computing circumference and area' # doc-string\n",
    "    \n",
    "    #create a new object or instance of the class\n",
    "    def __init__(self, ir):\n",
    "        self.radius = ir\n",
    "      \n",
    "    def setRadius(self, ir):\n",
    "        self.radius = ir\n",
    "      \n",
    "    def compCircum(self):\n",
    "        # create an additional member variable\n",
    "        self.cir = 2.0 * pi * self.radius\n",
    "        return self.cir\n",
    "      \n",
    "    def compArea(self):\n",
    "        # create an additional member variable\n",
    "        self.area = pi * self.radius * self.radius\n",
    "        return self.area\n",
    "\n",
    "    def getRadius(self):\n",
    "        return self.radius "
   ]
  },
  {
   "cell_type": "markdown",
   "metadata": {},
   "source": [
    "Class objects support doc-strings (for help) right after the class declaration. \n",
    "\n",
    "In the indented block there are several function definitions. The functions are member functions of the class.  Note, that all of them have as the first argument an object called `self`. (The name `self` is actually only a convention - one can name it as one likes.) `self` is a reference to the instance on which the function is called. This is to make it known in the member function. If you know C++ `self` is similar to `this`. \n",
    "\n",
    "Once an an instance of the class has been instantiated one can access its members with the `.` notation. \n",
    "\n",
    "Let us instantiate an object of the type `Circle` to see how this woks. Instantiation is done using function notation using the class name with round brackets:"
   ]
  },
  {
   "cell_type": "code",
   "execution_count": null,
   "metadata": {},
   "outputs": [],
   "source": [
    "# this generates an instance of the class and assigns it to a variable\n",
    "mycirc = Circle(3.0)"
   ]
  },
  {
   "cell_type": "markdown",
   "metadata": {},
   "source": [
    "### The `__init__` function\n",
    "\n",
    "Here we have instantiated an object of the type `Circle` using the function notation and passed an argument to the instantiation: The argument is passed on automatically as the second argument to the `__init__` function. If the `__init__` function exists, it is automatically called after instantiation. In `__init__` the argument is assigned to a member of `self` which is `self.radius`. The `radius` member is created upon assignment and can now be used to store data.  \n",
    "\n",
    "We can now use the member members of the class to perform operations: "
   ]
  },
  {
   "cell_type": "code",
   "execution_count": null,
   "metadata": {},
   "outputs": [],
   "source": [
    "# evaluate the properties of the object\n",
    "r = mycirc.getRadius()\n",
    "\n",
    "print(r)\n",
    "\n",
    "area = mycirc.compArea()\n",
    "circ = mycirc.compCircum()\n",
    "\n",
    "print('For the radius {:2.3f} the area is {:2.3f} and circumference is {:2.3f}.'.format(r,area,circ))  "
   ]
  },
  {
   "cell_type": "markdown",
   "metadata": {},
   "source": [
    "### The `__str__` function\n",
    "\n",
    "Another special function is the `__str__` function. It implements a string representation of the class and is for instance called when an instance of the class is passed to the `print` function:"
   ]
  },
  {
   "cell_type": "code",
   "execution_count": null,
   "metadata": {},
   "outputs": [],
   "source": [
    "class pizza:\n",
    "    '''pizza class for computing cost of a pizza'''\n",
    "    \n",
    "    def __init__(self, size, toppings=[\"Cheese\",]):\n",
    "        self.radius = size/2\n",
    "        # we make a copy of the toppings list here\n",
    "        # otherwise self.toppings would be the \n",
    "        # same list as the toppings list that was \n",
    "        # used to instantiate the pizza class\n",
    "        # and if this list is changed outside the\n",
    "        # class, also the toppings list here would change\n",
    "        self.toppings = toppings.copy()\n",
    "        self.notops = len(self.toppings)\n",
    "        \n",
    "    def __str__(self):\n",
    "        description =  \"A very delicious pizza\\n\"\n",
    "        description += \" Radius: \" + str(self.radius) + \"\\n\"\n",
    "        # join is a function of the string class that takes an iterable as input\n",
    "        description += \" Toppings: \" + \", \".join(self.toppings) + \"\\n\"\n",
    "        return description\n",
    "\n",
    "    def getRadius(self):\n",
    "        return self.radius\n",
    "    \n",
    "    def getToppings(self):\n",
    "        return self.toppings, self.notops\n",
    "    \n",
    "    def getCost(self):\n",
    "        self.cost = self.radius*self.notops/5\n",
    "        return self.cost"
   ]
  },
  {
   "cell_type": "code",
   "execution_count": null,
   "metadata": {
    "scrolled": true
   },
   "outputs": [],
   "source": [
    "# we can now instantiate the pizza class\n",
    "diameter = 22\n",
    "toppings = ['Cheese','Tomato','Salami']\n",
    "mypizza = pizza(diameter,toppings)\n",
    "\n",
    "r = mypizza.getRadius()\n",
    "tops, notops = mypizza.getToppings()\n",
    "cost = mypizza.getCost()\n",
    "\n",
    "# and print the information either \"manually\"\n",
    "print('Pizza of radius {} with {} toppings - {} - costs {}.'.format(r,notops,tops,cost))\n",
    "\n",
    "# or simply call print on the pizza object\n",
    "print(mypizza)\n"
   ]
  },
  {
   "cell_type": "markdown",
   "metadata": {},
   "source": [
    "### Default values\n",
    "\n",
    "Note that the `toppings` argument of the `__init__` function of the pizza class has a value `[\"Cheese\",]` assigned to it already in the function header. The value assigned to an argument in a function declaration serves as a default. It can be omitted in the function call or class instantiation:    "
   ]
  },
  {
   "cell_type": "code",
   "execution_count": null,
   "metadata": {},
   "outputs": [],
   "source": [
    "diameter = 28\n",
    "mysecondpizza = pizza(diameter)\n",
    "print(mysecondpizza)"
   ]
  },
  {
   "cell_type": "markdown",
   "metadata": {},
   "source": [
    "# Task:\n",
    "\n",
    "Update your notebook for problem 1 - area and perimeter of a square - to reflect the three different types of programming - (i) using one direct sequence, (ii) using a function, (iii) using a class. \n",
    "\n",
    "What are advantages and disadvantages of the different structures?\n",
    "\n",
    "__Optional additional task (no requirement)__ \n",
    "Design your own class object for anything you like.\n",
    "\n",
    "Upload your notebook to moodle."
   ]
  }
 ],
 "metadata": {
  "kernelspec": {
   "display_name": "Python 3 (ipykernel)",
   "language": "python",
   "name": "python3"
  },
  "language_info": {
   "codemirror_mode": {
    "name": "ipython",
    "version": 3
   },
   "file_extension": ".py",
   "mimetype": "text/x-python",
   "name": "python",
   "nbconvert_exporter": "python",
   "pygments_lexer": "ipython3",
   "version": "3.9.5"
  }
 },
 "nbformat": 4,
 "nbformat_minor": 4
}
