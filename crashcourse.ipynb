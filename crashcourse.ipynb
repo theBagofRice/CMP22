{
 "cells": [
  {
   "cell_type": "markdown",
   "metadata": {},
   "source": [
    "Markus Schröder, Computational modeling in python, SoSe2022\n",
    "\n",
    "# Basic operations in Python\n",
    "\n",
    "To execute a cell select it by clicking it or putting the curser into it and hit shift + enter simultaneously. For more basics on Jupyter notebooks see https://jupyter-notebook.readthedocs.io/en/stable/examples/Notebook/Notebook%20Basics.html\n",
    "\n",
    "## Built-in types\n",
    "\n",
    "Python has a number of build-in data types, for instance integer numbers, floating point numbers, complex numbers, Booleans, lists and tuples. We will go through the most important ones here. For more details see https://docs.python.org/3/library/stdtypes.html  \n",
    "\n",
    "\n",
    "## Literals \n",
    "Literals are direct representations of data, such as numbers and strings that are explicitly written into the code.  \n",
    "\n",
    "### Integers\n",
    "\n",
    "Numbers without a fractional component like -6, 0, 1 or 4096"
   ]
  },
  {
   "cell_type": "code",
   "execution_count": null,
   "metadata": {},
   "outputs": [],
   "source": [
    "10"
   ]
  },
  {
   "cell_type": "markdown",
   "metadata": {},
   "source": [
    "One can perform operations on literals"
   ]
  },
  {
   "cell_type": "code",
   "execution_count": null,
   "metadata": {},
   "outputs": [],
   "source": [
    "10 + 1 "
   ]
  },
  {
   "cell_type": "markdown",
   "metadata": {},
   "source": [
    "The usual rules for arithmetic operations apply"
   ]
  },
  {
   "cell_type": "code",
   "execution_count": null,
   "metadata": {},
   "outputs": [],
   "source": [
    "10 + 3 * 4"
   ]
  },
  {
   "cell_type": "code",
   "execution_count": null,
   "metadata": {},
   "outputs": [],
   "source": [
    "3*8 - 7"
   ]
  },
  {
   "cell_type": "markdown",
   "metadata": {},
   "source": [
    "Powers are expressed with <code>**</code>"
   ]
  },
  {
   "cell_type": "code",
   "execution_count": null,
   "metadata": {},
   "outputs": [],
   "source": [
    "2**10"
   ]
  },
  {
   "cell_type": "markdown",
   "metadata": {},
   "source": [
    "### Floats\n",
    "\n",
    "Floating point numbers (short \"floats\") are representations of real numbers.\n",
    "\n",
    "The result of a division if two integers is a floating point number "
   ]
  },
  {
   "cell_type": "code",
   "execution_count": null,
   "metadata": {},
   "outputs": [],
   "source": [
    "1/1"
   ]
  },
  {
   "cell_type": "markdown",
   "metadata": {},
   "source": [
    "If an integer result is required one can use <code>//</code>"
   ]
  },
  {
   "cell_type": "code",
   "execution_count": null,
   "metadata": {},
   "outputs": [],
   "source": [
    "1//1"
   ]
  },
  {
   "cell_type": "markdown",
   "metadata": {},
   "source": [
    "But this may lead to a loss of the remainder:"
   ]
  },
  {
   "cell_type": "code",
   "execution_count": null,
   "metadata": {},
   "outputs": [],
   "source": [
    "5//2"
   ]
  },
  {
   "cell_type": "markdown",
   "metadata": {},
   "source": [
    "Floating point literals are indicated as numbers with a decimal point. "
   ]
  },
  {
   "cell_type": "code",
   "execution_count": null,
   "metadata": {},
   "outputs": [],
   "source": [
    "1."
   ]
  },
  {
   "cell_type": "code",
   "execution_count": null,
   "metadata": {},
   "outputs": [],
   "source": [
    "1.0002"
   ]
  },
  {
   "cell_type": "markdown",
   "metadata": {},
   "source": [
    "One can also use scientific notation"
   ]
  },
  {
   "cell_type": "code",
   "execution_count": null,
   "metadata": {},
   "outputs": [],
   "source": [
    "1.e-8"
   ]
  },
  {
   "cell_type": "code",
   "execution_count": null,
   "metadata": {},
   "outputs": [],
   "source": [
    "1 + 1.e-12"
   ]
  },
  {
   "cell_type": "markdown",
   "metadata": {},
   "source": [
    "Floating point numbers have a finite precision of  $\\approx2\\cdot10^{-16}$ (for 64 bit floats)\n",
    "\n",
    "(If you are interested in details check https://en.wikipedia.org/wiki/Double-precision_floating-point_format)"
   ]
  },
  {
   "cell_type": "code",
   "execution_count": null,
   "metadata": {},
   "outputs": [],
   "source": [
    "1 + 1.e-15"
   ]
  },
  {
   "cell_type": "code",
   "execution_count": null,
   "metadata": {},
   "outputs": [],
   "source": [
    "# this gives exactly 1 which is not the exact result\n",
    "\n",
    "1 + 1.e-16"
   ]
  },
  {
   "cell_type": "code",
   "execution_count": null,
   "metadata": {},
   "outputs": [],
   "source": [
    "# test if it is really 1\n",
    "\n",
    "1 + 1.e-16 == 1.0"
   ]
  },
  {
   "cell_type": "markdown",
   "metadata": {},
   "source": [
    "Expressions are evaluated from left to right. Therefore adding $10^{-16}$ twice makes no difference"
   ]
  },
  {
   "cell_type": "code",
   "execution_count": null,
   "metadata": {},
   "outputs": [],
   "source": [
    "1 + 1.e-16 + 1.e-16"
   ]
  },
  {
   "cell_type": "markdown",
   "metadata": {},
   "source": [
    "It does, however, make a difference if we first add the small numbers and then add it to the big number"
   ]
  },
  {
   "cell_type": "code",
   "execution_count": null,
   "metadata": {},
   "outputs": [],
   "source": [
    "1.e-16 + 1.e-16 + 1"
   ]
  },
  {
   "cell_type": "markdown",
   "metadata": {},
   "source": [
    "The order in which the operations are executed obviously matters.<b> This can lead to different numerical results especially when dealing with numbers on very different scales.</b> This one should keep in mind. \n",
    "\n",
    "### Complex numbers:"
   ]
  },
  {
   "cell_type": "code",
   "execution_count": null,
   "metadata": {},
   "outputs": [],
   "source": [
    "1.0j"
   ]
  },
  {
   "cell_type": "code",
   "execution_count": null,
   "metadata": {},
   "outputs": [],
   "source": [
    "1.0 + 1.0j"
   ]
  },
  {
   "cell_type": "markdown",
   "metadata": {},
   "source": [
    "### Strings\n",
    "\n",
    "Strings are sequences of characters. A string literal is represented as a quoted sequence of characters."
   ]
  },
  {
   "cell_type": "code",
   "execution_count": null,
   "metadata": {},
   "outputs": [],
   "source": [
    "\"Hello world\""
   ]
  },
  {
   "cell_type": "markdown",
   "metadata": {},
   "source": [
    "We can do operations on strings"
   ]
  },
  {
   "cell_type": "code",
   "execution_count": null,
   "metadata": {},
   "outputs": [],
   "source": [
    "\"Hello world \" * 3"
   ]
  },
  {
   "cell_type": "code",
   "execution_count": null,
   "metadata": {},
   "outputs": [],
   "source": [
    "\"I just wrote \" + \"'hello world'!\""
   ]
  },
  {
   "cell_type": "markdown",
   "metadata": {},
   "source": [
    "Note the nested quotes. "
   ]
  },
  {
   "cell_type": "code",
   "execution_count": null,
   "metadata": {},
   "outputs": [],
   "source": [
    "'I just wrote ' + '\"hello world\"!'"
   ]
  },
  {
   "cell_type": "markdown",
   "metadata": {},
   "source": [
    "Triple quotes can hold strings that extend over multiple lines"
   ]
  },
  {
   "cell_type": "code",
   "execution_count": null,
   "metadata": {},
   "outputs": [],
   "source": [
    "\"\"\"Hello\n",
    "world\"\"\""
   ]
  },
  {
   "cell_type": "markdown",
   "metadata": {},
   "source": [
    "the <code>\\n</code> encodes a newline character."
   ]
  },
  {
   "cell_type": "code",
   "execution_count": null,
   "metadata": {},
   "outputs": [],
   "source": [
    "print('Hello\\nworld')"
   ]
  },
  {
   "cell_type": "markdown",
   "metadata": {},
   "source": [
    "### Booleans \n",
    "\n",
    "Boolean data types can only be True or False"
   ]
  },
  {
   "cell_type": "code",
   "execution_count": null,
   "metadata": {},
   "outputs": [],
   "source": [
    "True"
   ]
  },
  {
   "cell_type": "code",
   "execution_count": null,
   "metadata": {},
   "outputs": [],
   "source": [
    "False"
   ]
  },
  {
   "cell_type": "markdown",
   "metadata": {},
   "source": [
    "The result of a comparison is Boolean\n",
    "\n",
    "Test if two objects have an equal value:"
   ]
  },
  {
   "cell_type": "code",
   "execution_count": null,
   "metadata": {},
   "outputs": [],
   "source": [
    "1 == 2"
   ]
  },
  {
   "cell_type": "code",
   "execution_count": null,
   "metadata": {},
   "outputs": [],
   "source": [
    "1 == 1"
   ]
  },
  {
   "cell_type": "markdown",
   "metadata": {},
   "source": [
    "### None\n",
    "\n",
    "A special literal is None. It can be used to \"nullify\" a variable such that it is defined but has only the value None. None is also often used as a default value of optional parameters of functions.   "
   ]
  },
  {
   "cell_type": "code",
   "execution_count": null,
   "metadata": {},
   "outputs": [],
   "source": [
    "None"
   ]
  },
  {
   "cell_type": "markdown",
   "metadata": {},
   "source": [
    "## Comments\n",
    "\n",
    "Comments are peaces of text inside the code section that are ignored during execution. They are very useful to add extra explanations to the code or to exclude certain sections of code from execution without deleting the source code so one can easily bring back the out-commented commands.\n",
    "\n",
    "It is good practice to use a lot of comments in the code especially when coding complicated operations. Comments are very helpful for instance if you need to change something in your project years after you first wrote it and do not know the details any more or if a colleague working on the same project wants to change something.\n",
    "\n",
    "In Python, everything that follows a <code>#</code> in a line is a comment"
   ]
  },
  {
   "cell_type": "code",
   "execution_count": null,
   "metadata": {},
   "outputs": [],
   "source": [
    "# this is a comment and will not be executed \n",
    "# use comments to explain what you are doing:\n",
    "\n",
    "3*7   # multiply 3 and 7"
   ]
  },
  {
   "cell_type": "markdown",
   "metadata": {},
   "source": [
    "## Variables\n",
    "\n",
    "Variables are symbolic names that point to a location in memory where the actual data is stored. Variable names can consist of any combinations of letters (A-Z, a-z), numbers (0-9) and underscores <code>_</code> but they must not start with a number. \n",
    "\n",
    "(Remark: Python 3 will also let you use a number of Unicode symbols like Greek letters for variable names. Personally I would recommend not to do that to facilitate readability.)\n",
    "\n",
    "In Python, variables pop into existence once they are assigned:"
   ]
  },
  {
   "cell_type": "code",
   "execution_count": null,
   "metadata": {},
   "outputs": [],
   "source": [
    "x = 5\n",
    "\n",
    "# from here on in the variable x exists and points to a memory location holding the intager value 5 "
   ]
  },
  {
   "cell_type": "markdown",
   "metadata": {},
   "source": [
    "We con now access the data using the name of the variable"
   ]
  },
  {
   "cell_type": "code",
   "execution_count": null,
   "metadata": {},
   "outputs": [],
   "source": [
    "x"
   ]
  },
  {
   "cell_type": "code",
   "execution_count": null,
   "metadata": {},
   "outputs": [],
   "source": [
    "# create another variable \n",
    "y = 3"
   ]
  },
  {
   "cell_type": "markdown",
   "metadata": {},
   "source": [
    "We can use variables instead of literals to perform operations, for instance comparisons and arithmetic expressions\n",
    "\n",
    "\n",
    "\n",
    "| Comparison operator | Meaning |\n",
    "| :-: | :-: |\n",
    "| == | equal to |\n",
    "| != | not equal to |\n",
    "| < | less than |\n",
    "| > | larger than |\n",
    "| <= | less than or equal to |\n",
    "| >= | larger than or equal to |\n",
    "| is | object identity |\n",
    "| is not | negated object identity |\n"
   ]
  },
  {
   "cell_type": "code",
   "execution_count": null,
   "metadata": {},
   "outputs": [],
   "source": [
    "x == y"
   ]
  },
  {
   "cell_type": "code",
   "execution_count": null,
   "metadata": {},
   "outputs": [],
   "source": [
    "x != y"
   ]
  },
  {
   "cell_type": "code",
   "execution_count": null,
   "metadata": {},
   "outputs": [],
   "source": [
    "x > y"
   ]
  },
  {
   "cell_type": "code",
   "execution_count": null,
   "metadata": {},
   "outputs": [],
   "source": [
    "x < y"
   ]
  },
  {
   "cell_type": "code",
   "execution_count": null,
   "metadata": {},
   "outputs": [],
   "source": [
    "x * y"
   ]
  },
  {
   "cell_type": "code",
   "execution_count": null,
   "metadata": {},
   "outputs": [],
   "source": [
    "x + y"
   ]
  },
  {
   "cell_type": "markdown",
   "metadata": {},
   "source": [
    "Of course, you can assign the result of any operation to a new variable"
   ]
  },
  {
   "cell_type": "code",
   "execution_count": null,
   "metadata": {},
   "outputs": [],
   "source": [
    "z = x + y"
   ]
  },
  {
   "cell_type": "code",
   "execution_count": null,
   "metadata": {
    "scrolled": true
   },
   "outputs": [],
   "source": [
    "z"
   ]
  },
  {
   "cell_type": "markdown",
   "metadata": {},
   "source": [
    "Note that variable names are case sensitive"
   ]
  },
  {
   "cell_type": "code",
   "execution_count": null,
   "metadata": {},
   "outputs": [],
   "source": [
    "# the varible capital Z does not exist\n",
    "\n",
    "Z"
   ]
  },
  {
   "cell_type": "markdown",
   "metadata": {},
   "source": [
    "### It is good practice to rarely use literals and use variables instead\n",
    "\n",
    "Suppose, for instance, you have to write a lab report and you use Python to make a number of plots and set the font size using a literal within the plot command. If you now want to change the font size to a different value you would have to go through all plot commands and change the font size. This can be a lot of work and is also very error prone. Better assign the font size to a variable and call the plot command with the variable. Then you only need to change the variable in one place and all font sizes are changed simultaneously. \n",
    "\n",
    "## Lists and tuples\n",
    "\n",
    "Lists and tuples are ordered collections of things. One can group very different data types together.\n",
    "\n",
    "### Lists\n",
    "\n",
    "A list is created using square brackets enclosing comma separated elements."
   ]
  },
  {
   "cell_type": "code",
   "execution_count": null,
   "metadata": {},
   "outputs": [],
   "source": [
    "# create a list of literals and assign in to the variable l\n",
    "\n",
    "l = [\"x\", 7, 1.2]"
   ]
  },
  {
   "cell_type": "code",
   "execution_count": null,
   "metadata": {},
   "outputs": [],
   "source": [
    "l"
   ]
  },
  {
   "cell_type": "code",
   "execution_count": null,
   "metadata": {},
   "outputs": [],
   "source": [
    "# create another list with exactly the same content\n",
    "\n",
    "k = [\"x\", 7, 1.2]"
   ]
  },
  {
   "cell_type": "markdown",
   "metadata": {},
   "source": [
    "We can now compare the lists. The comparison is made element wise and evaluates to <code>True</code> if all elements are equal. The result here is <code>True</code> because the <code>==</code> operation evaluated to <code>True</code> for all elements. "
   ]
  },
  {
   "cell_type": "code",
   "execution_count": null,
   "metadata": {
    "scrolled": true
   },
   "outputs": [],
   "source": [
    "l == k"
   ]
  },
  {
   "cell_type": "markdown",
   "metadata": {},
   "source": [
    "However, the two lists are not the same object. The two variables <code>l</code>  and <code>k</code>  point to different locations in memory that just happen to hold the same content. We can check if the two variables point to the same memory locations with the <code>is</code> operator: "
   ]
  },
  {
   "cell_type": "code",
   "execution_count": null,
   "metadata": {},
   "outputs": [],
   "source": [
    "l is k"
   ]
  },
  {
   "cell_type": "markdown",
   "metadata": {},
   "source": [
    "The result tells us they are not the same objects. If we do an assignment <code>k=l</code> now, the two variables <code>l</code>  and <code>k</code>  are actually pointing to the same memory location. They now represent the same object.\n",
    "\n",
    "<b>Python by default does not make a deep copy of the objects upon assignments.</b> It just assigns the memory location. "
   ]
  },
  {
   "cell_type": "code",
   "execution_count": null,
   "metadata": {},
   "outputs": [],
   "source": [
    "k = l"
   ]
  },
  {
   "cell_type": "code",
   "execution_count": null,
   "metadata": {},
   "outputs": [],
   "source": [
    "l is k"
   ]
  },
  {
   "cell_type": "markdown",
   "metadata": {},
   "source": [
    "We can access the elements of a list  with the index operator <code>[]</code> and an integer index, starting  from 0 for the first element, 1 for the second, ect.:"
   ]
  },
  {
   "cell_type": "code",
   "execution_count": null,
   "metadata": {},
   "outputs": [],
   "source": [
    "l[1] # second element"
   ]
  },
  {
   "cell_type": "markdown",
   "metadata": {},
   "source": [
    "Accessing a non-existent element results in an error"
   ]
  },
  {
   "cell_type": "code",
   "execution_count": null,
   "metadata": {},
   "outputs": [],
   "source": [
    "l[3] # does not exist"
   ]
  },
  {
   "cell_type": "markdown",
   "metadata": {},
   "source": [
    "A very nice feature is that we can access the list in reverse order with negative indices, for instance -1 for  the last element, -2 for the second last, etc. "
   ]
  },
  {
   "cell_type": "code",
   "execution_count": null,
   "metadata": {
    "scrolled": true
   },
   "outputs": [],
   "source": [
    "l[-1]"
   ]
  },
  {
   "cell_type": "markdown",
   "metadata": {},
   "source": [
    "Remember that we said that <code>l</code>  and <code>k</code> represent now the same object? Let's change an element of <code>l</code> using the index operator  <code>[]</code>  and see how this influences <code>k</code>"
   ]
  },
  {
   "cell_type": "code",
   "execution_count": null,
   "metadata": {},
   "outputs": [],
   "source": [
    "l[1] = \"Hello world\" # change an element of l "
   ]
  },
  {
   "cell_type": "code",
   "execution_count": null,
   "metadata": {},
   "outputs": [],
   "source": [
    "k"
   ]
  },
  {
   "cell_type": "markdown",
   "metadata": {},
   "source": [
    "<code>k</code> has also changed!\n",
    "\n",
    "\n",
    "One can also create lists of variables"
   ]
  },
  {
   "cell_type": "code",
   "execution_count": null,
   "metadata": {},
   "outputs": [],
   "source": [
    "a = 1\n",
    "b = \"2\"\n",
    "c = 3.0\n",
    "\n",
    "l2 = [a,b,c]\n",
    "\n",
    "print(l2)"
   ]
  },
  {
   "cell_type": "markdown",
   "metadata": {},
   "source": [
    "We can add lists and multiply with integers"
   ]
  },
  {
   "cell_type": "code",
   "execution_count": null,
   "metadata": {},
   "outputs": [],
   "source": [
    "l + l2"
   ]
  },
  {
   "cell_type": "code",
   "execution_count": null,
   "metadata": {},
   "outputs": [],
   "source": [
    "l*3"
   ]
  },
  {
   "cell_type": "markdown",
   "metadata": {},
   "source": [
    "We can even create lists containing lists"
   ]
  },
  {
   "cell_type": "code",
   "execution_count": null,
   "metadata": {},
   "outputs": [],
   "source": [
    "l3 = [1,l2, c]"
   ]
  },
  {
   "cell_type": "code",
   "execution_count": null,
   "metadata": {
    "scrolled": true
   },
   "outputs": [],
   "source": [
    "l3"
   ]
  },
  {
   "cell_type": "markdown",
   "metadata": {},
   "source": [
    "A list does not store the data of its elements but only a copy of the memory addresses of the data. l3 therefore stores the address of l2 and not a copy of l2 itself. l2 itself also only stores addresses of its elements. If we change an element of l2 we also change the contents of l3:"
   ]
  },
  {
   "cell_type": "code",
   "execution_count": null,
   "metadata": {},
   "outputs": [],
   "source": [
    "# change an element of l2\n",
    "\n",
    "l2[1]= \"Hello world\""
   ]
  },
  {
   "cell_type": "code",
   "execution_count": null,
   "metadata": {},
   "outputs": [],
   "source": [
    "l3"
   ]
  },
  {
   "cell_type": "markdown",
   "metadata": {},
   "source": [
    "Let's try this again, but now change a non-list element:"
   ]
  },
  {
   "cell_type": "code",
   "execution_count": null,
   "metadata": {},
   "outputs": [],
   "source": [
    "a = 1\n",
    "b = \"2\"\n",
    "c = 3.0\n",
    "\n",
    "l4 = [a,b,c]\n",
    "\n",
    "print(l4)"
   ]
  },
  {
   "cell_type": "code",
   "execution_count": null,
   "metadata": {},
   "outputs": [],
   "source": [
    "c = 10.0\n",
    "print(l4)"
   ]
  },
  {
   "cell_type": "markdown",
   "metadata": {},
   "source": [
    "The list contents did not change because the lists stores a copy of the address of <code>c</code> which points to the float  <code>3.0</code>. If we change <code>c</code> we change the address to which <code>c</code> points. It does not affect the copy of the address we have stored in the list. It still points to the original memory location holding <code>3.0</code>. \n",
    "\n",
    "### Tuples\n",
    "\n",
    "Tuples are created like lists but with round brackets. The difference to lists is that they are immutable and only allow read access. Tuples are very practical to pass collections of data around between different parts of code. "
   ]
  },
  {
   "cell_type": "code",
   "execution_count": null,
   "metadata": {},
   "outputs": [],
   "source": [
    "t = (\"y\", 10, 1+1j)"
   ]
  },
  {
   "cell_type": "code",
   "execution_count": null,
   "metadata": {},
   "outputs": [],
   "source": [
    "t"
   ]
  },
  {
   "cell_type": "markdown",
   "metadata": {},
   "source": [
    "We have read access with the index operator <code>[]</code> as for lists"
   ]
  },
  {
   "cell_type": "code",
   "execution_count": null,
   "metadata": {},
   "outputs": [],
   "source": [
    "t[2]"
   ]
  },
  {
   "cell_type": "markdown",
   "metadata": {},
   "source": [
    "But no write access: trying to change an element results in an error"
   ]
  },
  {
   "cell_type": "code",
   "execution_count": null,
   "metadata": {
    "scrolled": true
   },
   "outputs": [],
   "source": [
    "t[0] = \"Hello world\""
   ]
  },
  {
   "cell_type": "markdown",
   "metadata": {},
   "source": [
    "Note that also tuples only store addresses. So we observe the same behavior as for lists:"
   ]
  },
  {
   "cell_type": "code",
   "execution_count": null,
   "metadata": {},
   "outputs": [],
   "source": [
    "a = 1\n",
    "b = \"2\"\n",
    "c = 3.0\n",
    "\n",
    "l2 = [a,b,c]\n",
    "\n",
    "# put l2 into the tuple \n",
    "t2 = (1,l2,3)\n",
    "\n",
    "print(t2)\n",
    "\n",
    "# and now change an element in l2 \n",
    "l2[1] = \"Hello world\"\n",
    "\n",
    "print(t2)"
   ]
  },
  {
   "cell_type": "markdown",
   "metadata": {},
   "source": [
    "## Built-in functions\n",
    "\n",
    "Python provides a number of functions. Functions are called by the function name and a list of arguments in round brackets. If no arguments are given, one uses empty brackets. The arguments contain data that is passed to the function. This can be literals or variables. \n",
    "\n",
    "### <code>print()</code>\n",
    "\n",
    "The print command can be used to print something to the output. <code>print()</code> will try to convert any number of objects passed to it to a string representation and output it to the standard output channel."
   ]
  },
  {
   "cell_type": "code",
   "execution_count": null,
   "metadata": {},
   "outputs": [],
   "source": [
    "print(\"Hello world\")"
   ]
  },
  {
   "cell_type": "code",
   "execution_count": null,
   "metadata": {},
   "outputs": [],
   "source": [
    "print(3, True, 1.0)"
   ]
  },
  {
   "cell_type": "markdown",
   "metadata": {},
   "source": [
    "### <code>str()</code>\n",
    "\n",
    "What <code>print()</code> internally calls is the function <code>str()</code> that returns an objects string representation. We will see later in the course how this works in more detail. We can use the <code>str()</code> function to obtain a string representation of any object. "
   ]
  },
  {
   "cell_type": "code",
   "execution_count": null,
   "metadata": {
    "scrolled": true
   },
   "outputs": [],
   "source": [
    "str(1+3j)"
   ]
  },
  {
   "cell_type": "code",
   "execution_count": null,
   "metadata": {},
   "outputs": [],
   "source": [
    "str(l)"
   ]
  },
  {
   "cell_type": "markdown",
   "metadata": {},
   "source": [
    "### <code>help()</code>\n",
    "\n",
    "Python has a built-in interactive help. Just call <code>help()</code> with no arguments and type a command you need help on into the search field. To exit the help type \"quit\" in the search field"
   ]
  },
  {
   "cell_type": "code",
   "execution_count": null,
   "metadata": {},
   "outputs": [],
   "source": [
    "help()"
   ]
  },
  {
   "cell_type": "markdown",
   "metadata": {},
   "source": [
    "One can get help for a command directly by calling help with the command. "
   ]
  },
  {
   "cell_type": "code",
   "execution_count": null,
   "metadata": {
    "scrolled": true
   },
   "outputs": [],
   "source": [
    "help(print)"
   ]
  },
  {
   "cell_type": "markdown",
   "metadata": {},
   "source": [
    "### <code>type()</code>\n",
    "\n",
    "Python allows you to assign anything to a variable. Therefore the type of a variable can change depending of what has been assigned to it. One can check the type with the <code>type()</code> function."
   ]
  },
  {
   "cell_type": "code",
   "execution_count": null,
   "metadata": {},
   "outputs": [],
   "source": [
    "type(l)"
   ]
  },
  {
   "cell_type": "code",
   "execution_count": null,
   "metadata": {},
   "outputs": [],
   "source": [
    "type(3)"
   ]
  },
  {
   "cell_type": "code",
   "execution_count": null,
   "metadata": {},
   "outputs": [],
   "source": [
    "# type of x is tuple\n",
    "x = (1, 3, 5)\n",
    "print(type(x))\n",
    "\n",
    "# type of x is float\n",
    "x = 1.0\n",
    "print(type(x))\n",
    "\n",
    "# type of x is string\n",
    "x = \"Hello world\"\n",
    "print(type(x))"
   ]
  },
  {
   "cell_type": "markdown",
   "metadata": {},
   "source": [
    "### <code>id()</code>\n",
    "\n",
    "Every object in Python has a unique ID. You can access the ID with the function <code>id()</code>. "
   ]
  },
  {
   "cell_type": "code",
   "execution_count": null,
   "metadata": {},
   "outputs": [],
   "source": [
    "id(x)"
   ]
  },
  {
   "cell_type": "code",
   "execution_count": null,
   "metadata": {},
   "outputs": [],
   "source": [
    "# the two lists l and k which are the same object\n",
    "id(l)"
   ]
  },
  {
   "cell_type": "code",
   "execution_count": null,
   "metadata": {},
   "outputs": [],
   "source": [
    "id(k)"
   ]
  },
  {
   "cell_type": "markdown",
   "metadata": {},
   "source": [
    "## Self defined functions\n",
    "\n",
    "Besides the built-in functions one can define additional functions.\n",
    "\n",
    "Functions can be defined using the <code>def</code> keyword followed by he function name and a list of arguments in round brackets - for no arguments just empty round brackets.  Finally a <code>:</code> concludes the function declaration. \n",
    "\n",
    "The function body starts with an indented block of code after the declaration. This indentation is actually a syntax element. It means that all following lines with the same indentation are part of the function body. The function body ends where the indentation ends. The function is only executed when called and not when defined. \n",
    "\n",
    "The <code>return</code> statement specifies what the function passes back to the caller. A function without a return statement returns <code>None</code> on exit. \n",
    "\n",
    "For instance a function that calculates the power $x^n$ would be defined like this:"
   ]
  },
  {
   "cell_type": "code",
   "execution_count": null,
   "metadata": {},
   "outputs": [],
   "source": [
    "def power(x, n):\n",
    "    # function body\n",
    "\n",
    "    # nothing after 'return' is executed in the function body\n",
    "    return x**n\n",
    "\n",
    "print(\"Hello world\") \n",
    "# The line above is not indented and therefore not part of the function body. \n"
   ]
  },
  {
   "cell_type": "markdown",
   "metadata": {},
   "source": [
    "Try putting the line <code>print(\"Hello world\")</code> into the function body before and after the return statement and observe the differences when executing the cell above followed by the cell below.\n",
    "\n",
    "Once defined we can use the function:"
   ]
  },
  {
   "cell_type": "code",
   "execution_count": null,
   "metadata": {},
   "outputs": [],
   "source": [
    "power(2,10)"
   ]
  },
  {
   "cell_type": "markdown",
   "metadata": {},
   "source": [
    "However, there is no help for our function yet."
   ]
  },
  {
   "cell_type": "code",
   "execution_count": null,
   "metadata": {},
   "outputs": [],
   "source": [
    "help(power)"
   ]
  },
  {
   "cell_type": "markdown",
   "metadata": {},
   "source": [
    "A help text can be implemented by just adding a string right below the function definition line. If a longer text is required one can use triple quotes to use multiple lines.   "
   ]
  },
  {
   "cell_type": "code",
   "execution_count": null,
   "metadata": {},
   "outputs": [],
   "source": [
    "def power(x, n):\n",
    "    \"Calculates x^n\"\n",
    "    return x**n"
   ]
  },
  {
   "cell_type": "code",
   "execution_count": null,
   "metadata": {
    "scrolled": false
   },
   "outputs": [],
   "source": [
    "help(power)"
   ]
  },
  {
   "cell_type": "markdown",
   "metadata": {},
   "source": [
    "## Control structures\n",
    "\n",
    "### Case selection (branching)\n",
    "\n",
    "Often different operations need to performed depending in on the input data. This can be realized with an 'if' or 'if-elif-else' statement. \n",
    "\n",
    "The syntax is (note the <code>:</code> after the condition)\n",
    "\n",
    "<code>\n",
    " if condition1:\n",
    "    indented block\n",
    " elif condition2:\n",
    "    indented block\n",
    " else:\n",
    "    indented block \n",
    "    (if none of the above applies) \n",
    "</code>\n",
    "\n",
    "Play with the variables x and a. "
   ]
  },
  {
   "cell_type": "code",
   "execution_count": null,
   "metadata": {},
   "outputs": [],
   "source": [
    "x = 3\n",
    "a = 1\n",
    "\n",
    "# simple if\n",
    "\n",
    "if type(a) is int:\n",
    "    # if condition \"type(a) is int\" evaluates\n",
    "    # to True do this, otherwise ignore\n",
    "    print(\"a is int\")\n",
    "\n",
    "\n",
    "# if - else\n",
    "\n",
    "if a == 0:\n",
    "    # if condition \"a == 0\" evaluates to True do this\n",
    "    print(\"a is zero\")\n",
    "else:\n",
    "    # otherwise do this \n",
    "    print(\"a is not zero\")\n",
    "\n",
    "\n",
    "# if - elif - else\n",
    "# One can add as many elif as needed.\n",
    "# Only the block followerd by the first\n",
    "# condition to evaluate to True will be\n",
    "# executed\n",
    " \n",
    "if x < a:\n",
    "    # if condition \"x < a\" evaluates to True do this\n",
    "    print(\"x is smaller than\",a)\n",
    "elif x == a:\n",
    "    # Otherwise if the second condition (\"x == a\") \n",
    "    # evaluates to Frue do this\n",
    "    print(\"x is equal to\",a)   \n",
    "else:\n",
    "    # If all conditions above evaluate to False do this\n",
    "    print(\"x is greater than\",a)"
   ]
  },
  {
   "cell_type": "markdown",
   "metadata": {},
   "source": [
    "### Loops\n",
    "\n",
    "We can loop over so-called itarables. We have already seen two types of iterables: lists and tuples. We will see more later in the course. The keyword <code>for</code> initializes a loop. Note again the <code>:</code> and indentation:\n",
    "\n",
    "<code>for element in something:\n",
    "   do stuff with element in indented block\n",
    "</code>\n",
    "\n"
   ]
  },
  {
   "cell_type": "code",
   "execution_count": null,
   "metadata": {},
   "outputs": [],
   "source": [
    "# create a tuple\n",
    "t3 = (1,2,3,4,5)\n",
    "\n",
    "# loop over elements in tuple t3\n",
    "for elem in t3:\n",
    "    print(elem)"
   ]
  },
  {
   "cell_type": "markdown",
   "metadata": {},
   "source": [
    "## Import\n",
    "\n",
    "Often one needs additional modules and packages which contain specialized code and functionality that is not loaded by default. The Python base installation comes with a number of built-in modules which are just not loaded on startup, other modules or packages are provided by third parties and need to be installed before they can be used.  \n",
    "\n",
    "Those modules or packages can be graphics libraries, numerical routines, databases, etc. They can be loaded with the <code>import</code> statement. There are several ways to do this as we will see later, the most simple one is by using the <code>import</code> statement followed by the package or module name."
   ]
  },
  {
   "cell_type": "code",
   "execution_count": null,
   "metadata": {},
   "outputs": [],
   "source": [
    "# load the numpy package (numerical python) which should be installed by default if you installed Anaconda \n",
    "import numpy "
   ]
  },
  {
   "cell_type": "markdown",
   "metadata": {},
   "source": [
    "We can look at the contents of the package with the <code>dir()</code>function"
   ]
  },
  {
   "cell_type": "code",
   "execution_count": null,
   "metadata": {},
   "outputs": [],
   "source": [
    "dir(numpy)"
   ]
  },
  {
   "cell_type": "markdown",
   "metadata": {},
   "source": [
    "This also applies for all other objects like lists. Note that this does not print the contents of the list but functions and variables which are members of the list type. We will look into this later in the course. "
   ]
  },
  {
   "cell_type": "code",
   "execution_count": null,
   "metadata": {},
   "outputs": [],
   "source": [
    "dir(l)"
   ]
  },
  {
   "cell_type": "markdown",
   "metadata": {},
   "source": [
    "Any objects defined in the package are accessible by the package name followed by a dot and the object name. \n",
    "\n",
    "For instance the function <code>zeros(n)</code> provided by numpy returns an array object filled with zeros of length<code>n</code>."
   ]
  },
  {
   "cell_type": "code",
   "execution_count": null,
   "metadata": {},
   "outputs": [],
   "source": [
    "a = numpy.zeros(3)"
   ]
  },
  {
   "cell_type": "code",
   "execution_count": null,
   "metadata": {},
   "outputs": [],
   "source": [
    "a"
   ]
  },
  {
   "cell_type": "markdown",
   "metadata": {},
   "source": [
    "We will later see much more of Python. But this should be enough to get you started. "
   ]
  }
 ],
 "metadata": {
  "kernelspec": {
   "display_name": "Python 3 (ipykernel)",
   "language": "python",
   "name": "python3"
  },
  "language_info": {
   "codemirror_mode": {
    "name": "ipython",
    "version": 3
   },
   "file_extension": ".py",
   "mimetype": "text/x-python",
   "name": "python",
   "nbconvert_exporter": "python",
   "pygments_lexer": "ipython3",
   "version": "3.9.5"
  }
 },
 "nbformat": 4,
 "nbformat_minor": 4
}
