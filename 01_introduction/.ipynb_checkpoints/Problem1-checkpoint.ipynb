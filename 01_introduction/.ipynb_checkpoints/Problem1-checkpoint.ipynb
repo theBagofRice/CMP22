{
 "cells": [
  {
   "cell_type": "markdown",
   "metadata": {},
   "source": [
    "Markus Schröder, Computational modeling in Python, SoSe2022"
   ]
  },
  {
   "cell_type": "code",
   "execution_count": 4,
   "metadata": {},
   "outputs": [],
   "source": [
    "# import the libraries that are needed\n",
    "\n",
    "from numpy import *                # import everything from numpy\n",
    "import matplotlib.pyplot as plt    # import pyplot from matplotlib and name it plt"
   ]
  },
  {
   "cell_type": "code",
   "execution_count": 15,
   "metadata": {},
   "outputs": [],
   "source": [
    "# this is a function that, when called, will return the area and circumference of a circle\n",
    "# it requires a vector (1-D array) of radii as input variable and will return two 1-D arrays\n",
    "# \"zeros\" and \"pi\" are imported from numpy \n",
    "\n",
    "def area_circ(r):\n",
    "    # create two arrays filled with zeros\n",
    "    a = zeros(len(r)) #np array needs defined length\n",
    "    c = zeros(len(r))\n",
    "    \n",
    "    # loop over the input vector.\n",
    "    # enumerate returns an element-index and the element\n",
    "    # itself  \n",
    "    for i,myr in enumerate(r): # i is i-th element in array, myr gets the value\n",
    "        a[i] = pi * myr ** 2\n",
    "        c[i] = 2.0 * pi * myr\n",
    "\n",
    "    # return a and c to caller\n",
    "    return a, c "
   ]
  },
  {
   "cell_type": "code",
   "execution_count": 18,
   "metadata": {},
   "outputs": [
    {
     "name": "stdout",
     "output_type": "stream",
     "text": [
      "[ 0.   0.5  1.   1.5  2.   2.5  3.   3.5  4.   4.5  5.   5.5  6.   6.5\n",
      "  7.   7.5  8.   8.5  9.   9.5 10. ]\n"
     ]
    }
   ],
   "source": [
    "# this generates a set of values for the radius on a grid\n",
    "# linspace and double are imported from numpy\n",
    "\n",
    "radius = linspace(0,10,21, dtype=double)\n",
    "\n",
    "print(radius)\n",
    "\n",
    "# this computes the corresponding area and circumference for each radius\n",
    "area, circ = area_circ(radius)"
   ]
  },
  {
   "cell_type": "code",
   "execution_count": 19,
   "metadata": {},
   "outputs": [
    {
     "data": {
      "image/png": "[encoded data removed]",
      "text/plain": [
       "<Figure size 576x360 with 1 Axes>"
      ]
     },
     "metadata": {
      "needs_background": "light"
     },
     "output_type": "display_data"
    }
   ],
   "source": [
    "#this plots the result\n",
    "\n",
    "mf=18 # font size\n",
    "\n",
    "# create a figure and axis object\n",
    "fig, ax = plt.subplots(figsize=(8,5))\n",
    "\n",
    "# plot the data\n",
    "ax.plot(radius,area,marker='x',label='area')\n",
    "ax.plot(radius,circ,marker='o',label='circumference')\n",
    "\n",
    "# set some properties of the axis ticks\n",
    "ax.xaxis.set_tick_params(labelsize=mf)\n",
    "ax.yaxis.set_tick_params(labelsize=mf)\n",
    "ax.set_xlabel('radius',fontsize=mf)\n",
    "ax.set_ylabel('area/circumference',fontsize=mf)\n",
    "\n",
    "# add a legend\n",
    "legend = ax.legend(loc='best', shadow=False,fontsize=mf,borderpad = 0.1, labelspacing = 0, handlelength = 0.8)\n",
    "\n",
    "# display the plot\n",
    "# always use plt.show() to prompt output of the figure\n",
    "plt.show()"
   ]
  },
  {
   "cell_type": "markdown",
   "metadata": {},
   "source": [
    "# Problem 1: The square\n",
    "\n",
    "You have several square samples of different sizes and would like to know the area and the perimeter of the samples.\n",
    "\n",
    "Generate a python script (in particular, jupyter notebook) to solve your problem and visualize your result. Use the above example as a basis. Put in comments as appropriate.\n",
    "\n",
    "Please highlight which of your steps is connected to which phase in a computer solving workflow as there is:\n",
    "\n",
    "1. Problem definition\n",
    "2. Model specification (parameters, variables, constraints)\n",
    "3. Mathematical model\n",
    "4. Implementation\n",
    "5. Verification\n",
    "6. Validation\n",
    "\n",
    "Please upload your notebook to Moodle."
   ]
  },
  {
   "cell_type": "code",
   "execution_count": 5,
   "metadata": {},
   "outputs": [],
   "source": [
    "def square(a):\n",
    "    area = zeros(len(a))\n",
    "    circ = zeros(len(a))\n",
    "    #mathematical modell\n",
    "    for i,mya in enumerate(a):\n",
    "        area = mya**2\n",
    "        circ = 4*mya\n",
    "    return area, circ"
   ]
  },
  {
   "cell_type": "code",
   "execution_count": 6,
   "metadata": {},
   "outputs": [],
   "source": [
    "radius = linspace(0,10,21, dtype=double)"
   ]
  },
  {
   "cell_type": "code",
   "execution_count": 7,
   "metadata": {},
   "outputs": [],
   "source": [
    "area, circ = square(radius)"
   ]
  },
  {
   "cell_type": "code",
   "execution_count": null,
   "metadata": {},
   "outputs": [],
   "source": [
    "font=18\n",
    "\n",
    "\n",
    "fig, ax = plt.subplots(figsize=(8,5))\n",
    "\n",
    "ax.plot(radius,area,marker='x',label='area')\n",
    "ax.plot(radius,circ,marker='o',label='circufonterence')\n",
    "\n",
    "# set some properties of the axis ticks\n",
    "ax.xaxis.set_tick_params(labelsize=font)\n",
    "ax.yaxis.set_tick_params(labelsize=font)\n",
    "ax.set_xlabel('radius',fontsize=font)\n",
    "ax.set_ylabel('area/circufonterence',fontsize=font)\n",
    "\n",
    "# add a legend\n",
    "legend = ax.legend(loc='best', shadow=False,fontsize=font,borderpad = 0.1, labelspacing = 0, handlelength = 0.8)\n",
    "\n",
    "# display the plot\n",
    "# always use plt.show() to prompt output of the figure\n",
    "plt.show()"
   ]
  }
 ],
 "metadata": {
  "kernelspec": {
   "display_name": "Python 3 (ipykernel)",
   "language": "python",
   "name": "python3"
  },
  "language_info": {
   "codemirror_mode": {
    "name": "ipython",
    "version": 3
   },
   "file_extension": ".py",
   "mimetype": "text/x-python",
   "name": "python",
   "nbconvert_exporter": "python",
   "pygments_lexer": "ipython3",
   "version": "3.9.5"
  }
 },
 "nbformat": 4,
 "nbformat_minor": 2
}
