{
 "cells": [
  {
   "cell_type": "markdown",
   "metadata": {},
   "source": [
    "Markus Schröder, Computational modeling in python, SoSe2022"
   ]
  },
  {
   "cell_type": "markdown",
   "metadata": {},
   "source": [
    "# Basic input and output\n",
    "\n",
    "Variables can directly be printed out using the print() statement. Format() provides an easy way to format the output."
   ]
  },
  {
   "cell_type": "code",
   "execution_count": 1,
   "metadata": {},
   "outputs": [
    {
     "name": "stdout",
     "output_type": "stream",
     "text": [
      "Hello world\n"
     ]
    }
   ],
   "source": [
    "# a string variable\n",
    "myval = \"Hello world\"\n",
    "print(myval)"
   ]
  },
  {
   "cell_type": "code",
   "execution_count": 2,
   "metadata": {},
   "outputs": [
    {
     "name": "stdout",
     "output_type": "stream",
     "text": [
      "I just meant to say Hello world\n",
      "Hello world 2 13.9\n",
      "First variable: Hello world second variable: 2 and third variable: 13.9\n",
      "The value of myval3 is approximately (fixed No. digits) 13.900.\n",
      "The value of myval3 is approximately (fixed No. digits) 13.900.\n",
      "The value of myval3 is approximately (scientific notation) 1.390e+01.\n",
      "first variable 2, second variable (padded) 002, and third variable 13.90000000\n"
     ]
    }
   ],
   "source": [
    "# print two or more things\n",
    "print('I just meant to say',myval)\n",
    "\n",
    "# integer variable \n",
    "myval2 = 2\n",
    "\n",
    "# floating point variable\n",
    "myval3 = 13.9\n",
    "\n",
    "print(myval,myval2,myval3)\n",
    "\n",
    "print('First variable:',myval,'second variable:',myval2,'and third variable:',myval3)\n",
    "\n",
    "# using formatted output (note the f before the '')\n",
    "# these are called formatted string literals or “f-strings”. \n",
    "print(f'The value of myval3 is approximately (fixed No. digits) {myval3:.3f}.')\n",
    "\n",
    "# one can also call the format function of the string class:\n",
    "print('The value of myval3 is approximately (fixed No. digits) {:.3f}.'.format(myval3))\n",
    "print('The value of myval3 is approximately (scientific notation) {:.3e}.'.format(myval3))\n",
    "print('first variable {}, second variable (padded) {:03d}, and third variable {:3.8f}'.format(myval2,myval2,myval3))"
   ]
  },
  {
   "cell_type": "markdown",
   "metadata": {},
   "source": [
    "For more details on formatting see for instance https://docs.python.org/3/tutorial/inputoutput.html\n",
    "\n",
    "Strings can also be written out to a file that will be placed relative to the directory where jupyter is running. Please note the slightly different syntax, here the variables and strings are first concatenated into a new string that is then written to the file."
   ]
  },
  {
   "cell_type": "code",
   "execution_count": 3,
   "metadata": {},
   "outputs": [],
   "source": [
    "# open the file with name myout; it is referred to as \"f\" but you can choose any name you want.\n",
    "\n",
    "f = open('myout', 'w') \n",
    "\n",
    "# 'r' for read-only (default)\n",
    "# 'w' for write-only (an existing file with same name will be overwritten)\n",
    "# 'a' for appending any output to the end of an existing file\n",
    "# 'r+' for both reading and writing\n",
    "\n",
    "f.write(myval+'\\n')\n",
    "\n",
    "# the \\n signifies that a new line will be started. \n",
    "# Unlike print(), write() does not append a newline by default\n",
    "\n",
    "f.write('I just meant to say ' + myval + '\\n')\n",
    "\n",
    "# myval is already a string so it can be combined with other \n",
    "# strings without the need of additional formatting.\n",
    "# Please note the extra space in the first string and the +:\n",
    "# print() takes multiple arguments and does some additional formatting.\n",
    "# write() takes exactly one argument, a string, so we must take care of the formatting. \n",
    "\n",
    "# myval, myval2 and myval3 first need to be converted to strings. We can also do it like this:\n",
    "\n",
    "f.write(str(myval)+str(myval2)+str(myval3)+'\\n')\n",
    "\n",
    "# or:\n",
    "\n",
    "mystring = 'First variable '+str(myval)+' second variable '+str(myval2)+' and third variable '+str(myval3)+'\\n'\n",
    "\n",
    "f.write(mystring)\n",
    "\n",
    "\n",
    "# For formatted output, this is not a problem.\n",
    "\n",
    "f.write(f'The value of myval3 is approximately (fixed No. digits) {myval3:.3f}.\\n')\n",
    "f.write('The value of myval3 is approximately {:.3f}.\\n'.format(myval3))\n",
    "f.write('The value of myval3 is approximately {:.3e}.\\n'.format(myval3))\n",
    "f.write('First variable {}, second variable {:03d}, and third variable {:3.8f}\\n'.format(myval,myval2,myval3))\n",
    "\n",
    "# don't forget to close the file.\n",
    "f.close()\n",
    "\n"
   ]
  },
  {
   "cell_type": "markdown",
   "metadata": {},
   "source": [
    "Variables can also be read in from a file. For this, please place the file \"data.dat\" in your directory.\n",
    "\n",
    "The file contains the following lines\n",
    "\n",
    "|||\n",
    "| - | - |\n",
    "| 2.5     | 0.097  |\n",
    "| 5.0     | 0.195  |\n",
    "| 7.5     | 0.289  |\n",
    "| 10.0    | 0.387  |\n",
    "| 15.0    | 0.581  |\n",
    "| 20.0    | 0.775  |\n",
    "| 30.0    | 0.966  |\n",
    "\n",
    "Files can be read like this:"
   ]
  },
  {
   "cell_type": "code",
   "execution_count": 4,
   "metadata": {},
   "outputs": [
    {
     "name": "stdout",
     "output_type": "stream",
     "text": [
      "Read the complete file:\n",
      "2.5   0.097\n",
      "5.0   0.195\n",
      "7.5   0.289\n",
      "10.0  0.387\n",
      "15.0  0.581\n",
      "20.0  0.775\n",
      "30.0  0.966\n",
      "\n",
      "<class 'str'>\n"
     ]
    }
   ],
   "source": [
    "f = open('data.dat', 'r') \n",
    "complete = f.read()\n",
    "print('Read the complete file:')\n",
    "print(complete)\n",
    "print(type(complete)) # complete is a single string\n",
    "f.close()"
   ]
  },
  {
   "cell_type": "code",
   "execution_count": 5,
   "metadata": {},
   "outputs": [
    {
     "name": "stdout",
     "output_type": "stream",
     "text": [
      "Read only one line:\n",
      "2.5   0.097\n",
      "\n",
      "Accessing line by line:\n",
      "2.5   0.097\n",
      "Accessing line by line:\n",
      "5.0   0.195\n",
      "Accessing line by line:\n",
      "7.5   0.289\n",
      "Accessing line by line:\n",
      "10.0  0.387\n",
      "Accessing line by line:\n",
      "15.0  0.581\n",
      "Accessing line by line:\n",
      "20.0  0.775\n",
      "Accessing line by line:\n",
      "30.0  0.966\n"
     ]
    }
   ],
   "source": [
    "f = open('data.dat', 'r') \n",
    "lineonly = f.readline()\n",
    "print('Read only one line:')\n",
    "print(lineonly)\n",
    "\n",
    "\n",
    "# go back to the beginning of the file\n",
    "f.seek(0)\n",
    "\n",
    "# Files are iterable, so we can actually iterate through the lines in a file:\n",
    "for line in f:\n",
    "    print('Accessing line by line:')\n",
    "    print(line.strip())\n",
    "    # strip removes the trailing whitespace and newline; try\n",
    "    # print(line)\n",
    "    # to compare\n",
    "f.close()"
   ]
  },
  {
   "cell_type": "markdown",
   "metadata": {},
   "source": [
    "There is also a more pythonic way to read a file: This ensures that the file is properly closed in the end and no need for the close() statement."
   ]
  },
  {
   "cell_type": "code",
   "execution_count": 6,
   "metadata": {},
   "outputs": [
    {
     "name": "stdout",
     "output_type": "stream",
     "text": [
      "2.5   0.097\n",
      "5.0   0.195\n",
      "7.5   0.289\n",
      "10.0  0.387\n",
      "15.0  0.581\n",
      "20.0  0.775\n",
      "30.0  0.966\n",
      "\n"
     ]
    }
   ],
   "source": [
    "with open('data.dat') as f:\n",
    "    read_data = f.read()\n",
    "    \n",
    "print(read_data)"
   ]
  },
  {
   "cell_type": "markdown",
   "metadata": {},
   "source": [
    "This provides a very compact way of accessing a file."
   ]
  },
  {
   "cell_type": "markdown",
   "metadata": {},
   "source": [
    "# Linear regression\n",
    "\n",
    "Imagine you know only values of a function at specific points, and you would like to know to what extent these follow a linear behaviour, and what the linear coefficients are.\n",
    "\n",
    "## A simple example\n",
    "\n",
    "In linear regression, the functional form that describes the data is assumed to be linear of the type $y=ax+b$.\n",
    "\n",
    "We will use least-squares linear regression: The sum of the squares of the vertical deviations is given by $R^2$ (for a set of n data points):\n",
    "\\begin{align}\n",
    "R^2=\\sum_{i=1}^n [y_i-(ax_i+b)]^2 = R^2(a,b)\n",
    "\\label{eq:R2} \\tag{1}\n",
    "\\end{align}\n",
    "This value is minimized so that the condition reads\n",
    "\\begin{align}\n",
    "\\frac{\\partial R^2}{\\partial a}&=0\\\\ \n",
    "\\frac{\\partial R^2}{\\partial b}&=0\n",
    "\\end{align}\n",
    "resulting in \n",
    "\\begin{align}\n",
    "\\frac{\\partial R^2}{\\partial a}&=-2 \\sum_{i=1}^n [y_i-(ax_i+b)] x_i\\\\\n",
    "\\frac{\\partial R^2}{\\partial b}&=-2 \\sum_{i=1}^n [y_i-(ax_i+b)] \n",
    "\\end{align}\n",
    "or, reformulated\n",
    "\n",
    "\\begin{align}\n",
    "a \\sum_{i=1}^n x_i^2 + b \\sum_{i=1}^n x_i &= \\sum_{i=1}^n x_i y_i\\\\\n",
    "a \\sum_{i=1}^n x_i + nb\t&= \\sum_{i=1}^n y_i\t\n",
    "\\end{align}\n",
    "\n",
    "\n",
    "This can be expressed in matrix form\n",
    "\\begin{align}\n",
    "\\begin{pmatrix}\n",
    " \\sum_{i=1}^n x_i^2 &  \\sum_{i=1}^n x_i\\\\\n",
    "\\sum_{i=1}^n x_i & n \\\\\n",
    "\\end{pmatrix}\n",
    "\\begin{pmatrix}\n",
    "a \\\\\n",
    "b\n",
    "\\end{pmatrix} =\n",
    "\\begin{pmatrix}\n",
    "\\sum_{i=1}^n x_i y_i\t\\\\\n",
    "\\sum_{i=1}^n y_i\n",
    "\\end{pmatrix}\n",
    " \\end{align}\n",
    "and solved for $a$ and $b$.\n",
    "\n",
    "\n",
    "The data file \"data.out\" contains value pairs with the left column (x-values) corresponding to sample volume and the right column (y-values) detailing the measured extinction (light absorption) for each sample volume.\n"
   ]
  },
  {
   "cell_type": "code",
   "execution_count": 7,
   "metadata": {},
   "outputs": [
    {
     "name": "stdout",
     "output_type": "stream",
     "text": [
      "x-values: [2.5, 5.0, 7.5, 10.0, 15.0, 20.0, 30.0]\n",
      "y-values: [0.097, 0.195, 0.289, 0.387, 0.581, 0.775, 0.966] \n",
      "\n",
      "first list element has the index zero 2.5\n",
      "second list element has the index one 5.0 \n",
      "\n",
      "first to third element can be accesses as such [2.5, 5.0, 7.5] or as such [2.5, 5.0, 7.5] \n",
      "\n",
      "the last element is easiest like this 30.0 \n",
      "\n",
      "if I want to know how many elements I have in my list: 7 \n",
      "\n",
      "myx 0 : 2.5\n",
      "myx 1 : 5.0\n",
      "myx 2 : 7.5\n",
      "myx 3 : 10.0\n",
      "myx 4 : 15.0\n",
      "myx 5 : 20.0\n",
      "myx 6 : 30.0\n",
      "myx: 2.5\n",
      "myx: 5.0\n",
      "myx: 7.5\n",
      "myx: 10.0\n",
      "myx: 15.0\n",
      "myx: 20.0\n",
      "myx: 30.0\n"
     ]
    }
   ],
   "source": [
    "# initialize myx and myy as empty lists, can be added to!\n",
    "\n",
    "myx=[]\n",
    "myy=[]\n",
    "\n",
    "with open('data.dat') as f:\n",
    "    for line in f:\n",
    "\n",
    "        # every new item for x is converted to float and appended to the array myx\n",
    "        # the split() function retuns a list of words of the line.\n",
    "        # append() takes an item and appends it at the end of the list. \n",
    "        myx.append(float(line.split()[0])) #splitting line into separate words\n",
    "        # print(myx)\n",
    "        \n",
    "        # every new item for y is converted to float and appended to the array myy\n",
    "        myy.append(float(line.split()[1]))\n",
    "\n",
    "# in the end we obtain one list filled with the x values and one with the y values\n",
    "print('x-values:',myx)\n",
    "print('y-values:',myy,'\\n')\n",
    "\n",
    "# the values are now stored in two lists, myx and myy. \n",
    "# the elements in the list can be accessed as such:\n",
    "\n",
    "print('first list element has the index zero', myx[0])\n",
    "print('second list element has the index one', myx[1],'\\n')\n",
    "\n",
    "print('first to third element can be accesses as such', myx[0:3], 'or as such',myx[:3],'\\n')\n",
    "print('the last element is easiest like this', myx[-1],'\\n')\n",
    "print('if I want to know how many elements I have in my list:',len(myx),'\\n')\n",
    "\n",
    "# and we can also loop over them:\n",
    "# range() returns an iterable of integers (like a list: [0,1,2,...])\n",
    "for i in range(len(myx)):\n",
    "    something = myx[i]\n",
    "    print('myx',i,':',something)\n",
    "    \n",
    "# or like this:\n",
    "for i in myx:\n",
    "    something = i\n",
    "    print('myx:',something)\n",
    "\n",
    "# both loops achieve the same in this case"
   ]
  },
  {
   "cell_type": "code",
   "execution_count": 8,
   "metadata": {},
   "outputs": [
    {
     "data": {
      "image/png": "[encoded data removed]",
      "text/plain": [
       "<Figure size 576x360 with 1 Axes>"
      ]
     },
     "metadata": {
      "needs_background": "light"
     },
     "output_type": "display_data"
    }
   ],
   "source": [
    "# Now we can plot the values\n",
    "# using matplotlib\n",
    "\n",
    "# first import the library\n",
    "import matplotlib.pyplot as plt\n",
    "\n",
    "# font size\n",
    "mf = 18\n",
    "\n",
    "# create figures and axis\n",
    "fig, ax = plt.subplots(figsize=(8,5))\n",
    "\n",
    "# subplots returns a tuple that is unpacked into fig and ax here -\n",
    "# ax is the object controlling the axes formatting,\n",
    "# and fig is useful for global figure attributes, for example, \n",
    "# if you want to save the figure into a file\n",
    "# scatter(): plot (without a line)\n",
    "\n",
    "ax.scatter(myx,myy)\n",
    "ax.set_xlabel('x (Volume)', fontsize=mf)\n",
    "ax.set_ylabel('y (Extinktion)', fontsize=mf)\n",
    "plt.xticks(fontsize=18)\n",
    "plt.yticks(fontsize=18)\n",
    "\n",
    "# if you want, you can save the plot\n",
    "# plt.savefig('data.pdf', dpi=300, bbox_inches='tight')\n",
    "\n",
    "# display the plot - in jupyter not really required but it is cleaner\n",
    "plt.show()"
   ]
  },
  {
   "cell_type": "markdown",
   "metadata": {},
   "source": [
    "Now we can do the linear regression using the scipy library."
   ]
  },
  {
   "cell_type": "code",
   "execution_count": 9,
   "metadata": {},
   "outputs": [
    {
     "name": "stdout",
     "output_type": "stream",
     "text": [
      "Slope a 0.033, intercept b 0.049807, Pearsons correlation coefficient r 0.989551;\n",
      "standard error of slope 0.002130\n"
     ]
    }
   ],
   "source": [
    "# import some elements from the scipy and numpy packages\n",
    "\n",
    "from scipy import stats\n",
    "from numpy import array, sqrt\n",
    "\n",
    "\n",
    "# myx and myy are lists - and you cannot perform mathematical operations on lists\n",
    "# they have to be converted to arrays first, for that we need the numpy library\n",
    "# (stats.linregress(x,y) can also take lists)\n",
    "\n",
    "x = array(myx)\n",
    "y = array(myy)\n",
    "\n",
    "\n",
    "# call the linear regression function on the data we loaded before\n",
    "slope, intercept, r, p, std_err = stats.linregress(x,y)\n",
    "\n",
    "print('Slope a {:.3f}, intercept b {:3f}, Pearsons correlation coefficient r {:3f};'.format(slope,intercept,r))\n",
    "print('standard error of slope {:3f}'.format(std_err))\n"
   ]
  },
  {
   "cell_type": "markdown",
   "metadata": {},
   "source": [
    "What is  Pearsons correlation coefficient?\n",
    "\n",
    "\\begin{align}\n",
    "r = \\frac{\\frac1{n}\\sum_i x_i y_i - \\left(\\frac1{n}\\sum_i x_i\\right) \\left(\\frac1{n}\\sum_i x_y\\right)}{\\sqrt{\\frac1{n}\\sum_i x_i^2 - \\left(\\frac1{n}\\sum_i x_i\\right)^2} \\sqrt{\\frac1{n}\\sum_i y_i^2 - \\left(\\frac1{n}\\sum_i y_i\\right)^2} } = \\frac{{\\rm cov}(\\vec{x},\\vec{y})}{\\sqrt{{\\rm var}(\\vec{x}) \\cdot {\\rm var}(\\vec{y}) }  }\n",
    "\\end{align}"
   ]
  },
  {
   "cell_type": "code",
   "execution_count": 10,
   "metadata": {},
   "outputs": [
    {
     "name": "stdout",
     "output_type": "stream",
     "text": [
      "check r 0.989551\n",
      "check R^2 0.012594\n"
     ]
    }
   ],
   "source": [
    "r = ((x*y).mean() - x.mean()*y.mean())/sqrt((x**2).mean()- x.mean()**2)/sqrt((y**2).mean()- y.mean()**2)\n",
    "\n",
    "R2 = ((y-(slope*x + intercept))**2).sum()\n",
    "\n",
    "print('check r {:3f}'.format(r))\n",
    "print('check R^2 {:3f}'.format(R2))"
   ]
  },
  {
   "cell_type": "code",
   "execution_count": 11,
   "metadata": {},
   "outputs": [
    {
     "data": {
      "image/png": "[encoded data removed]",
      "text/plain": [
       "<Figure size 576x360 with 1 Axes>"
      ]
     },
     "metadata": {
      "needs_background": "light"
     },
     "output_type": "display_data"
    }
   ],
   "source": [
    "# Now we can plot the values together with the fit\n",
    "\n",
    "fig, ax = plt.subplots(figsize=(8,5))\n",
    "ax.scatter(x,y,label='values')\n",
    "ax.plot(x,slope*x+intercept,label='fit')\n",
    "\n",
    "ax.set_xlabel('x (Volume)',fontsize=18)\n",
    "ax.set_ylabel('y (Extinktion)',fontsize=18)\n",
    "plt.xticks(fontsize=18)\n",
    "plt.yticks(fontsize=18)\n",
    "\n",
    "plt.savefig('data_regression.pdf',dpi=300,bbox_inches='tight')\n",
    "plt.show()"
   ]
  },
  {
   "cell_type": "markdown",
   "metadata": {},
   "source": [
    "# Problem 2: Good fit\n",
    "\n",
    "A linear behaviour of extinction vs. concentration (volume) signifies validity of the Lambert-Beer law. The Lambert-Beer law is only valid for dilute solutions, which explains the deviation of the large-volume data points from linear behaviour. \n",
    "\n",
    "Please carry out the linear regression using fewer points to obtain a better fit. How many points should be used for a good fit? What is the error in comparison to a fit using all data points?"
   ]
  },
  {
   "cell_type": "code",
   "execution_count": null,
   "metadata": {},
   "outputs": [],
   "source": [
    "I = e * c * d"
   ]
  },
  {
   "cell_type": "code",
   "execution_count": null,
   "metadata": {},
   "outputs": [],
   "source": [
    "#definition of good fit: r^2 >0.999\n",
    "\n",
    "#for loop:\n",
    "    #remove max point, since higher vol means higher deviation\n",
    "    #check, if linear regression has r^2 > 0.999\n"
   ]
  },
  {
   "cell_type": "code",
   "execution_count": 29,
   "metadata": {},
   "outputs": [],
   "source": [
    "from scipy import stats\n",
    "from numpy import array, sqrt\n",
    "import matplotlib.pyplot as plt"
   ]
  },
  {
   "cell_type": "code",
   "execution_count": 26,
   "metadata": {},
   "outputs": [
    {
     "name": "stdout",
     "output_type": "stream",
     "text": [
      "vol 0 : 2.5\n",
      "vol 1 : 5.0\n",
      "vol 2 : 7.5\n",
      "vol 3 : 10.0\n",
      "vol 4 : 15.0\n",
      "vol 5 : 20.0\n",
      "vol 6 : 30.0\n",
      "vol: 2.5\n",
      "vol: 5.0\n",
      "vol: 7.5\n",
      "vol: 10.0\n",
      "vol: 15.0\n",
      "vol: 20.0\n",
      "vol: 30.0\n"
     ]
    }
   ],
   "source": [
    "vol=[]\n",
    "ext=[]\n",
    "\n",
    "with open('data.dat') as f:\n",
    "    for line in f:\n",
    "        vol.append(float(line.split()[0]))\n",
    "        ext.append(float(line.split()[1]))\n",
    "\n",
    "for i in range(len(vol)):\n",
    "    something = vol[i]\n",
    "    print('vol',i,':',something)\n",
    "    \n",
    "# or like this:\n",
    "for i in vol:\n",
    "    something = i\n",
    "    print('vol:',something)"
   ]
  },
  {
   "cell_type": "code",
   "execution_count": 37,
   "metadata": {},
   "outputs": [],
   "source": [
    "def get_r(vol, ext):\n",
    "    for i,el in enumerate(range(len(vol))):\n",
    "        if i=!0 && :\n",
    "            x = array(vol[:i])\n",
    "            y = array(ext[:i])\n",
    "            slope, intercept, r, p, std_err = stats.linregress(x,y)\n",
    "            print('Slope a {:.3f}, intercept b {:3f}, Pearsons correlation coefficient r {:3f};'.format(slope,intercept,r))\n",
    "            #print('standard error of slope {:3f}'.format(std_err))\n",
    "            graph(x, y)"
   ]
  },
  {
   "cell_type": "code",
   "execution_count": 38,
   "metadata": {},
   "outputs": [],
   "source": [
    "def graph(x, y):\n",
    "    fig, ax = plt.subplots(figsize=(8,5))\n",
    "    ax.scatter(x,y,label='values')\n",
    "    ax.plot(x,slope*x+intercept,label='fit')\n",
    "\n",
    "    ax.set_xlabel('x (Volume)',fontsize=18)\n",
    "    ax.set_ylabel('y (Extinktion)',fontsize=18)\n",
    "    plt.xticks(fontsize=18)\n",
    "    plt.yticks(fontsize=18)\n",
    "\n",
    "    #plt.savefig('data_regression.pdf',dpi=300,bbox_inches='tight')\n",
    "    plt.show()"
   ]
  },
  {
   "cell_type": "code",
   "execution_count": 39,
   "metadata": {},
   "outputs": [
    {
     "name": "stdout",
     "output_type": "stream",
     "text": [
      "Slope a 0.038, intercept b 0.001667, Pearsons correlation coefficient r 0.999928;\n"
     ]
    },
    {
     "data": {
      "image/png": "[encoded data removed]",
      "text/plain": [
       "<Figure size 576x360 with 1 Axes>"
      ]
     },
     "metadata": {
      "needs_background": "light"
     },
     "output_type": "display_data"
    },
    {
     "name": "stdout",
     "output_type": "stream",
     "text": [
      "Slope a 0.039, intercept b 0.001000, Pearsons correlation coefficient r 0.999966;\n"
     ]
    },
    {
     "data": {
      "image/png": "[encoded data removed]",
      "text/plain": [
       "<Figure size 576x360 with 1 Axes>"
      ]
     },
     "metadata": {
      "needs_background": "light"
     },
     "output_type": "display_data"
    },
    {
     "name": "stdout",
     "output_type": "stream",
     "text": [
      "Slope a 0.039, intercept b 0.000351, Pearsons correlation coefficient r 0.999986;\n"
     ]
    },
    {
     "data": {
      "image/png": "[encoded data removed]",
      "text/plain": [
       "<Figure size 576x360 with 1 Axes>"
      ]
     },
     "metadata": {
      "needs_background": "light"
     },
     "output_type": "display_data"
    },
    {
     "name": "stdout",
     "output_type": "stream",
     "text": [
      "Slope a 0.039, intercept b 0.000039, Pearsons correlation coefficient r 0.999993;\n"
     ]
    },
    {
     "data": {
      "image/png": "[encoded data removed]",
      "text/plain": [
       "<Figure size 576x360 with 1 Axes>"
      ]
     },
     "metadata": {
      "needs_background": "light"
     },
     "output_type": "display_data"
    }
   ],
   "source": [
    "get_r(vol, ext)"
   ]
  },
  {
   "cell_type": "code",
   "execution_count": null,
   "metadata": {},
   "outputs": [],
   "source": []
  }
 ],
 "metadata": {
  "kernelspec": {
   "display_name": "Python 3 (ipykernel)",
   "language": "python",
   "name": "python3"
  },
  "language_info": {
   "codemirror_mode": {
    "name": "ipython",
    "version": 3
   },
   "file_extension": ".py",
   "mimetype": "text/x-python",
   "name": "python",
   "nbconvert_exporter": "python",
   "pygments_lexer": "ipython3",
   "version": "3.9.5"
  }
 },
 "nbformat": 4,
 "nbformat_minor": 2
}
