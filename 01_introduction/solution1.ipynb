{
 "cells": [
  {
   "cell_type": "markdown",
   "id": "058dd7f5",
   "metadata": {},
   "source": [
    "Markus Schröder, Computational modeling in Python, SoSe2022\n",
    "\n",
    "# Problem 1: The square\n",
    "\n",
    "You have several square samples of different sizes and would like to know the area and the perimeter of the samples.\n",
    "\n",
    "Generate a python script (in particular, jupyter notebook) to solve your problem and visualize your result. Use the above example as a basis. Put in comments as appropriate.\n",
    "\n",
    "Please highlight which of your steps is connected to which phase in a computer solving workflow as there is:\n",
    "\n",
    "1. Problem definition\n",
    "2. Model specification (parameters, variables, constraints)\n",
    "3. Mathematical model\n",
    "4. Implementation\n",
    "5. Verification\n",
    "6. Validation\n",
    "\n",
    "Please upload your notebook to Moodle.\n",
    "\n",
    "\n",
    "# Solution 1: \n",
    "\n",
    "\n",
    "i) Problem definition: Given are several square samples of different sizes. We would like to know the area and the perimeter of the samples.\n",
    "\n",
    "ii) Model specification: The square sizes are given in terms of the edge lengths $l_i$ of the squares. Device a function that takes a vector $\\vec{l}$ of edge lengths of as input and returns respective vectors of areas, $\\vec{a}$, and perimeters $\\vec{p}$ as output. Constraints: $l_i \\ge 0$.' \n",
    "\n",
    "iii) Mathematical model:\n",
    "\\begin{align}\n",
    " a_i &= l_i^2 \\\\\n",
    " p_i &= 4l_i\n",
    "\\end{align}\n",
    "\n",
    "iv) Implementation:"
   ]
  },
  {
   "cell_type": "code",
   "execution_count": 1,
   "id": "f4475d78",
   "metadata": {},
   "outputs": [],
   "source": [
    "# import some packages\n",
    "import matplotlib.pyplot as plt \n",
    "from numpy import linspace, zeros\n",
    "\n",
    "\n",
    "def area_peri(l):\n",
    "    \n",
    "    a = zeros(len(l))\n",
    "    p = zeros(len(l))\n",
    "     \n",
    "    for i,myl in enumerate(l):\n",
    "        \n",
    "        # constraint checking \n",
    "        # (for such small problems not necessary,\n",
    "        # but should be done for more complex situations)\n",
    "        \n",
    "        if myl < 0.0:\n",
    "            # here a constraint violation is detected.\n",
    "            # we would have to stop here now and\n",
    "            # return an 'exception' to the caller.\n",
    "            # we will learn how to do this later. \n",
    "            # for now just inform the user and \n",
    "            # continue. \n",
    "            \n",
    "            print(\"Error: l must be >= 0! Got: \", myl)\n",
    "\n",
    "        a[i] = myl ** 2\n",
    "        p[i] = 4.0*myl\n",
    "\n",
    "    # return a and p to caller\n",
    "    return a, p\n",
    "\n"
   ]
  },
  {
   "cell_type": "markdown",
   "id": "37b52b25",
   "metadata": {},
   "source": [
    "v) Verification: test for a number of samples and plot the outcome. \n",
    "\n",
    "   Part 1: constraint checking"
   ]
  },
  {
   "cell_type": "code",
   "execution_count": 2,
   "id": "e6b38c0f",
   "metadata": {},
   "outputs": [
    {
     "name": "stdout",
     "output_type": "stream",
     "text": [
      "samples l_i:  [-1.  0.  1.  2.  3.  4.  5.  6.  7.  8.  9. 10.]\n",
      "Error: l must be >= 0! Got:  -1.0\n"
     ]
    }
   ],
   "source": [
    "# set up a number of samples, one violating the constraints\n",
    "l = linspace(-1,10, 12)\n",
    "\n",
    "print(\"samples l_i: \", l)\n",
    "\n",
    "# check constraints (should print an error):\n",
    "a,p = area_peri(l)\n"
   ]
  },
  {
   "cell_type": "markdown",
   "id": "e398987e",
   "metadata": {},
   "source": [
    "Error was printed!\n",
    "\n",
    "Part 2: check linear behavior of $p_i$ and quadratic behavior of $a_i$ as a function of $l_i$ by plotting. "
   ]
  },
  {
   "cell_type": "code",
   "execution_count": 3,
   "id": "cd671790",
   "metadata": {},
   "outputs": [
    {
     "name": "stdout",
     "output_type": "stream",
     "text": [
      "samples l_i:  [ 0.    0.25  0.5   0.75  1.    1.25  1.5   1.75  2.    2.25  2.5   2.75\n",
      "  3.    3.25  3.5   3.75  4.    4.25  4.5   4.75  5.    5.25  5.5   5.75\n",
      "  6.    6.25  6.5   6.75  7.    7.25  7.5   7.75  8.    8.25  8.5   8.75\n",
      "  9.    9.25  9.5   9.75 10.  ]\n"
     ]
    }
   ],
   "source": [
    "# set up a number of samples, not violating the constraints\n",
    "l = linspace(0,10, 41)\n",
    "\n",
    "print(\"samples l_i: \", l)\n"
   ]
  },
  {
   "cell_type": "code",
   "execution_count": 4,
   "id": "c2d6f905",
   "metadata": {},
   "outputs": [
    {
     "data": {
      "image/png": "[encoded data removed]",
      "text/plain": [
       "<Figure size 576x360 with 1 Axes>"
      ]
     },
     "metadata": {
      "needs_background": "light"
     },
     "output_type": "display_data"
    }
   ],
   "source": [
    "# Calculate areas and perimeters (should not print an error this time):\n",
    "a,p = area_peri(l)\n",
    "\n",
    "# and plot\n",
    "\n",
    "mf=18 # font size\n",
    "\n",
    "# create a figure and axis object\n",
    "fig, ax = plt.subplots(figsize=(8,5))\n",
    "\n",
    "# plot the data\n",
    "ax.plot(l,a,marker='x',label='area')\n",
    "ax.plot(l,p,marker='o',label='perimeter')\n",
    "\n",
    "# set some properties of the axis ticks\n",
    "ax.xaxis.set_tick_params(labelsize=mf)\n",
    "ax.yaxis.set_tick_params(labelsize=mf)\n",
    "ax.set_xlabel(r'side length $l$',fontsize=mf)\n",
    "ax.set_ylabel(r'area $a$ / perimeter $p$',fontsize=mf)\n",
    "\n",
    "# add a legend\n",
    "legend = ax.legend(loc='best', shadow=False,fontsize=mf,borderpad = 0.1, labelspacing = 0, handlelength = 0.8)\n",
    "\n",
    "plt.show()"
   ]
  },
  {
   "cell_type": "markdown",
   "id": "25d0a36c",
   "metadata": {},
   "source": [
    "We can observe quadratic and linear behavior. \n",
    "\n",
    "Part 3: Some additional checks are possible by looking at special cases, for instance:\n",
    "\n",
    "* For $l=0$ also $a$ and $p$ must be 0. This is the case. \n",
    "* The mathematical model predicts that for $l=4$ the two curves should cross with $a=p=16$. This is the case.\n",
    "* For $l=10$ the mathematical model predicts $a=100$ and $p=40$. This is the case. \n",
    "\n",
    "vi) Validation: not applicable here. We are not describing a system from the real world. "
   ]
  },
  {
   "cell_type": "code",
   "execution_count": null,
   "id": "984b30d9",
   "metadata": {},
   "outputs": [],
   "source": []
  }
 ],
 "metadata": {
  "kernelspec": {
   "display_name": "Python 3 (ipykernel)",
   "language": "python",
   "name": "python3"
  },
  "language_info": {
   "codemirror_mode": {
    "name": "ipython",
    "version": 3
   },
   "file_extension": ".py",
   "mimetype": "text/x-python",
   "name": "python",
   "nbconvert_exporter": "python",
   "pygments_lexer": "ipython3",
   "version": "3.8.10"
  }
 },
 "nbformat": 4,
 "nbformat_minor": 5
}
