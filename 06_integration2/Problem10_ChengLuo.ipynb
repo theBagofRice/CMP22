{
 "cells": [
  {
   "cell_type": "markdown",
   "id": "ab64823a",
   "metadata": {},
   "source": [
    "# Task:\n",
    "Create your own class `Rational` that implements a type for rational numbers of the form $\\frac{N}{M}$ where $N$ and $M$ are integers. Implement the `__mul__`, `__rmul__` operations for two objects of type `Rational` or `integer` and `Rational`. Do some research and and implement the devision operator `/` for two objects of type `Rational` or `integer` and `Rational`. Make sure that the integers $M$ and $N$ stay as small as possible.\n",
    "\n",
    "Optional: Implement other arythmetic operators (`+`, `-`, `+=`,...), comparisons (`==`, `!=`, `<`,...) etc. or extend the `Polynomial` class above. "
   ]
  },
  {
   "cell_type": "code",
   "execution_count": 20,
   "id": "f96cb411",
   "metadata": {},
   "outputs": [],
   "source": [
    "from numpy import *"
   ]
  },
  {
   "cell_type": "code",
   "execution_count": 22,
   "id": "0b57ea23",
   "metadata": {},
   "outputs": [],
   "source": [
    "class Rational:\n",
    "    def __init__(self, N, M):\n",
    "        self.N = N\n",
    "        self.M = M\n",
    "\n",
    "    def getRational(self):\n",
    "        return self.N/self.M\n",
    "\n",
    "    def __mul__(self, other):\n",
    "        \"Operator *\"\n",
    "        if type(other)==int:\n",
    "            newN = self.N * other\n",
    "            return newN/self.M\n",
    "        else:\n",
    "            if type(other)==Rational:\n",
    "                newN = self.N * other.N\n",
    "                newM = self.M * other.M\n",
    "                return newN/newM\n",
    "\n",
    "            else:\n",
    "                raise ValueError('other value is neither integer nor rational')\n",
    "\n",
    "    def __rmul__(self, other):\n",
    "        \"Reflective operator *\"\n",
    "        return self.__mul__(other)\n",
    "\n",
    "    def __truediv__(self, other):\n",
    "        \"Operator /\"\n",
    "        if type(other)==int:\n",
    "            newN = self.N/other\n",
    "            return newN/self.M\n",
    "        else:\n",
    "            if type(other)==Rational:\n",
    "                newN = self.N * other.M\n",
    "                newM = self.M * other.N\n",
    "                return newN/newM\n",
    "            else:\n",
    "                raise ValueError('other value is neither integer nor rational')\n",
    "            \n",
    "    def __rtruediv__(self, other):\n",
    "        \"Reflective operator /\"\n",
    "        if type(other)==int:\n",
    "            newN = other*self.M\n",
    "            return newN/self.N\n",
    "        else:\n",
    "            raise ValueError('other value is neither integer nor rational')\n",
    "        #else if type(other)==Rational:\n",
    "        #    newN = self.M * other.N\n",
    "        #    newM = self.N * other.M\n",
    "        #    return newN/newM\n",
    "\n",
    "#####################\n",
    "#   optional stuff  #\n",
    "#####################\n",
    "\n",
    "#doesn't work yet...\n",
    "\n",
    "    def __add__(self, other):\n",
    "        \"Operator +\"\n",
    "\n",
    "        if type(other)==int:\n",
    "            newN = self.N + other\n",
    "            return newN/self.M\n",
    "        else:\n",
    "            newN = self.N + other.N\n",
    "            newM = self.M + other.M\n",
    "            return newN/newM\n",
    "\n",
    "    def __radd__(self, other):\n",
    "        \"Reflective operator +\"\n",
    "        return self.__add__(other)"
   ]
  },
  {
   "cell_type": "code",
   "execution_count": 28,
   "id": "adbbc3de",
   "metadata": {},
   "outputs": [],
   "source": [
    "myin = 2\n",
    "\n",
    "rat1 = Rational(1,2)\n",
    "rat2 = Rational(1,4)\n",
    "\n",
    "test=[]\n",
    "\n",
    "test.append(rat1*rat2)\n",
    "test.append(rat2*rat1)\n",
    "test.append(rat1*myin)\n",
    "test.append(myin*rat1)\n",
    "\n",
    "test.append(rat1/rat2)\n",
    "test.append(rat2/rat1)\n",
    "test.append(rat1/myin)\n",
    "test.append(myin/rat1)\n",
    "\n",
    "#####################\n",
    "#   optional stuff  #\n",
    "#####################\n",
    "\n",
    "test.append(rat1+rat2)\n",
    "test.append(rat2+rat1)\n",
    "test.append(rat1+myin)\n",
    "test.append(myin+rat1)"
   ]
  },
  {
   "cell_type": "markdown",
   "id": "a1050f1d",
   "metadata": {},
   "source": [
    "I wasn't sure how to make sure that $N$ and $M$ stay as low as possible... I guess I could have taken a look whether or not $N$ and $M$ have common denominators or not, e.g. $N=2$ and $M=4$ to $N=1$ and $M=2$ before multiplying the rational numbers. Didn't implement it.. sorry :D maybe my Kepler problem can get some points to merit this"
   ]
  },
  {
   "cell_type": "code",
   "execution_count": 24,
   "id": "e0bb386f",
   "metadata": {},
   "outputs": [
    {
     "name": "stdout",
     "output_type": "stream",
     "text": [
      "test1:  0.125\n",
      "test2:  0.125\n",
      "test3:  1.0\n",
      "test4:  1.0\n",
      "test5:  2.0\n",
      "test6:  0.5\n",
      "test7:  0.25\n",
      "test8:  4.0\n",
      "test9:  0.3333333333333333\n",
      "test10:  0.3333333333333333\n",
      "test11:  1.5\n",
      "test12:  1.5\n"
     ]
    }
   ],
   "source": [
    "for enum, i in enumerate(test):\n",
    "    print(\"test{}: \".format(enum+1), i)"
   ]
  },
  {
   "cell_type": "code",
   "execution_count": null,
   "id": "1dfce440",
   "metadata": {},
   "outputs": [],
   "source": []
  }
 ],
 "metadata": {
  "kernelspec": {
   "display_name": "Python 3 (ipykernel)",
   "language": "python",
   "name": "python3"
  },
  "language_info": {
   "codemirror_mode": {
    "name": "ipython",
    "version": 3
   },
   "file_extension": ".py",
   "mimetype": "text/x-python",
   "name": "python",
   "nbconvert_exporter": "python",
   "pygments_lexer": "ipython3",
   "version": "3.9.5"
  }
 },
 "nbformat": 4,
 "nbformat_minor": 5
}
