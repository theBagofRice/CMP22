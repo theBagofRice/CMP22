{
 "cells": [
  {
   "cell_type": "markdown",
   "id": "ab64823a",
   "metadata": {},
   "source": [
    "# Task:\n",
    "Create your own class `Rational` that implements a type for rational numbers of the form $\\frac{N}{M}$ where $N$ and $M$ are integers. Implement the `__mul__`, `__rmul__` operations for two objects of type `Rational` or `integer` and `Rational`. Do some research and and implement the devision operator `/` for two objects of type `Rational` or `integer` and `Rational`. Make sure that the integers $M$ and $N$ stay as small as possible.\n",
    "\n",
    "Optional: Implement other arythmetic operators (`+`, `-`, `+=`,...), comparisons (`==`, `!=`, `<`,...) etc. or extend the `Polynomial` class above. "
   ]
  },
  {
   "cell_type": "code",
   "execution_count": 20,
   "id": "f96cb411",
   "metadata": {},
   "outputs": [],
   "source": [
    "from numpy import *"
   ]
  },
  {
   "cell_type": "code",
   "execution_count": 63,
   "id": "0b57ea23",
   "metadata": {},
   "outputs": [],
   "source": [
    "class Rational:\n",
    "    def __init__(self, N, M):\n",
    "        #https://orationescatonis.wordpress.com/2018/07/02/reducing-fractions-in-python/\n",
    "        #@author: Chris Mitchell\n",
    "        \n",
    "        if N == M:\n",
    "            self.N = 1\n",
    "            self.M = 1\n",
    " \n",
    "        #Set x to be the greater of p and q and y to be the lesser.\n",
    "        x = max(N, M); y = min(N, M);\n",
    "\n",
    "        #Gabriel Lamé's version of Euclid's Algorithm\n",
    "        while True:# loop runs forever...\n",
    "            x %= y\n",
    "            if x == 0: break #... until the greatest common denominator is found\n",
    "            if x < y: #x should still be larger than y, switching x and y\n",
    "                temp = x\n",
    "                x = y\n",
    "                y = temp;\n",
    "\n",
    "        #Return as integers the reduced fraction which is now\n",
    "        #p/y and q/y.\n",
    "        self.N=int(N/y)\n",
    "        self.M=int(M/y)\n",
    "\n",
    "    def getRational(self):\n",
    "        return print(self.N,'/',self.M)\n",
    "\n",
    "    def __mul__(self, other):\n",
    "        \"Operator *\"\n",
    "        if type(other)==int:\n",
    "            newN = self.N * other\n",
    "            return newN/self.M\n",
    "        else:\n",
    "            if type(other)==Rational:\n",
    "                newN = self.N * other.N\n",
    "                newM = self.M * other.M\n",
    "                return newN/newM\n",
    "\n",
    "            else:\n",
    "                raise ValueError('other value is neither integer nor rational')\n",
    "\n",
    "    def __rmul__(self, other):\n",
    "        \"Reflective operator *\"\n",
    "        return self.__mul__(other)\n",
    "\n",
    "    def __truediv__(self, other):\n",
    "        \"Operator /\"\n",
    "        if type(other)==int:\n",
    "            newN = self.N/other\n",
    "            return newN/self.M\n",
    "        else:\n",
    "            if type(other)==Rational:\n",
    "                newN = self.N * other.M\n",
    "                newM = self.M * other.N\n",
    "                return newN/newM\n",
    "            else:\n",
    "                raise ValueError('other value is neither integer nor rational')\n",
    "            \n",
    "    def __rtruediv__(self, other):\n",
    "        \"Reflective operator /\"\n",
    "        if type(other)==int:\n",
    "            newN = other*self.M\n",
    "            return newN/self.N\n",
    "        else:\n",
    "            raise ValueError('other value is neither integer nor rational')\n",
    "        #else if type(other)==Rational:\n",
    "        #    newN = self.M * other.N\n",
    "        #    newM = self.N * other.M\n",
    "        #    return newN/newM\n",
    "\n",
    "#####################\n",
    "#   optional stuff  #\n",
    "#####################\n",
    "\n",
    "    def __add__(self, other):\n",
    "        \"Operator +\"\n",
    "\n",
    "        if type(other)==Rational:\n",
    "            newN = self.N * other.M + self.M * other.N\n",
    "            newM = self.M * other.M\n",
    "            return newN/newM\n",
    "        else:\n",
    "            if type(other)==int:\n",
    "                newN = self.N + other * self.M\n",
    "                return newN/self.M\n",
    "            else:\n",
    "                raise ValueError('other value is neither integer nor rational')\n",
    "\n",
    "    def __radd__(self, other):\n",
    "        \"Reflective operator +\"\n",
    "        return self.__add__(other)"
   ]
  },
  {
   "cell_type": "code",
   "execution_count": 56,
   "id": "adbbc3de",
   "metadata": {},
   "outputs": [],
   "source": [
    "myin = 2\n",
    "\n",
    "rat1 = Rational(1,2)\n",
    "rat2 = Rational(1,4)\n",
    "\n",
    "test=[]\n",
    "\n",
    "test.append(rat1*rat2)\n",
    "test.append(rat2*rat1)\n",
    "test.append(rat1*myin)\n",
    "test.append(myin*rat1)\n",
    "\n",
    "test.append(rat1/rat2)\n",
    "test.append(rat2/rat1)\n",
    "test.append(rat1/myin)\n",
    "test.append(myin/rat1)\n",
    "\n",
    "#####################\n",
    "#   optional stuff  #\n",
    "#####################\n",
    "\n",
    "test.append(rat1+rat2)\n",
    "test.append(rat2+rat1)\n",
    "test.append(rat1+myin)\n",
    "test.append(myin+rat1)"
   ]
  },
  {
   "cell_type": "code",
   "execution_count": 57,
   "id": "e0bb386f",
   "metadata": {},
   "outputs": [
    {
     "name": "stdout",
     "output_type": "stream",
     "text": [
      "test1:  0.125\n",
      "test2:  0.125\n",
      "test3:  1.0\n",
      "test4:  1.0\n",
      "test5:  2.0\n",
      "test6:  0.5\n",
      "test7:  0.25\n",
      "test8:  4.0\n",
      "test9:  0.75\n",
      "test10:  0.75\n",
      "test11:  2.5\n",
      "test12:  2.5\n"
     ]
    }
   ],
   "source": [
    "for enum, i in enumerate(test):\n",
    "    print(\"test{}: \".format(enum+1), i)"
   ]
  },
  {
   "cell_type": "code",
   "execution_count": 62,
   "id": "cd04cccb",
   "metadata": {},
   "outputs": [
    {
     "name": "stdout",
     "output_type": "stream",
     "text": [
      "3 / 1\n"
     ]
    }
   ],
   "source": [
    "val=Rational(6, 2)\n",
    "val.getRational()"
   ]
  },
  {
   "cell_type": "code",
   "execution_count": null,
   "id": "ce9f518a",
   "metadata": {},
   "outputs": [],
   "source": []
  }
 ],
 "metadata": {
  "kernelspec": {
   "display_name": "Python 3 (ipykernel)",
   "language": "python",
   "name": "python3"
  },
  "language_info": {
   "codemirror_mode": {
    "name": "ipython",
    "version": 3
   },
   "file_extension": ".py",
   "mimetype": "text/x-python",
   "name": "python",
   "nbconvert_exporter": "python",
   "pygments_lexer": "ipython3",
   "version": "3.9.5"
  }
 },
 "nbformat": 4,
 "nbformat_minor": 5
}
