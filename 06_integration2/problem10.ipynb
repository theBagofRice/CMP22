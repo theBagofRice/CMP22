{
 "cells": [
  {
   "cell_type": "markdown",
   "metadata": {},
   "source": [
    "Computational modeling in python, SoSe2022\n",
    "\n",
    "# Special functions in classes\n",
    "\n",
    "Below is an example of a simple demo class implementing polynomials to illustrate the use of special functions. Special functions start and end with double underscore (sometimes they are called \"dunder\" functions) and are used to implement special functionality like overloading operators, deleting elements, initializations etc. Some of them, like `__init__` and `__str__`, we have already seen. \n",
    "\n",
    "The Polynomial class below supports a number of arythmetic operations:\n"
   ]
  },
  {
   "cell_type": "code",
   "execution_count": 1,
   "metadata": {},
   "outputs": [],
   "source": [
    "import numpy\n",
    "\n",
    "class Polynomial:\n",
    "    \"\"\"\n",
    "    Class Polynomial\n",
    "\n",
    "    init with Polynomial(n), with n integer >= 0\n",
    "    \n",
    "    \n",
    "    P = a_0 + a_1*x + a_2*x**2 .... +a_n*x**n\n",
    "    \n",
    "    Only coefficients are stored, the power of x is determined \n",
    "    according to the position of the coefficient at runtime.  \n",
    "    \n",
    "    NOT STABLE FOR LARGE ORDERS\n",
    "    \"\"\"\n",
    "\n",
    "\n",
    "    def __init__(self, order=0):\n",
    "        \"Initialize the polynomial with an order. Reserve space for coefficients\"\n",
    "        \n",
    "        if order < 0:\n",
    "            raise ValueError(\"Polynomial order must be greater or equal 0.\")\n",
    "        else:\n",
    "            # variables or functions beginning with double underscore are \n",
    "            # private and cannot be accessed from outside the class\n",
    "            \n",
    "            self.__order = order\n",
    "            self.coefficients = numpy.zeros([order+1], dtype=numpy.float64)\n",
    "    \n",
    "    \n",
    "    def __str__(self):\n",
    "        \"String representation\"\n",
    "        string =  \"Polynomial, order: \" + str(self.__order)\n",
    "        string += \"\\n             poly: \" + ' + '.join([str(c)+\" x^\"+str(self.getorder()-n) \\\n",
    "                                                        for n,c in enumerate(self.coefficients[::-1])])\n",
    "        return string\n",
    "    \n",
    "    def __eq__(self,other):\n",
    "        \"operator ==\"\n",
    "        if self.getorder() != other.getorder():\n",
    "            return False\n",
    "        \n",
    "        return numpy.array_equal(self.coefficients, other.coefficients)\n",
    "    \n",
    "    \n",
    "    def __add__(self, other):\n",
    "        \"Operator +: Add two polynomials\"\n",
    "\n",
    "        if type(other) != type(self):\n",
    "            return NotImplemented\n",
    "        \n",
    "            \n",
    "        maxorder = max(self.getorder(), other.getorder())\n",
    "        minorder = min(self.getorder(), other.getorder())\n",
    "        \n",
    "        newpoly = Polynomial(maxorder)\n",
    "\n",
    "        for n in range(0,minorder+1):\n",
    "            newpoly.coefficients[n] = self.coefficients[n] + other.coefficients[n]\n",
    "            \n",
    "        if self.getorder() > other.getorder():\n",
    "            for n in range(minorder+1,maxorder+1):\n",
    "                newpoly.coefficients[n] = self.coefficients[n]\n",
    "                            \n",
    "        elif other.getorder() > self.getorder():\n",
    "            for n in range(minorder+1,maxorder+1):\n",
    "                newpoly.coefficients[n] = other.coefficients[n]\n",
    "\n",
    "        return newpoly\n",
    "\n",
    "\n",
    "    def __sub__(self, other):\n",
    "        \"Operator -\" \n",
    "        # first calls __mul__ for other and then __add__ \n",
    "        return self + other*(-1)\n",
    "\n",
    "\n",
    "    def __mul__(self, other):\n",
    "        \"Operator *\"\n",
    "        if type(other) == type(self):\n",
    "                \n",
    "            neworder = self.getorder() + other.getorder()\n",
    "            \n",
    "            newpoly = Polynomial(neworder)\n",
    "            \n",
    "            for n in range(0,self.getorder()+1):\n",
    "                for m in range(0,other.getorder()+1):\n",
    "                    k = m+n\n",
    "                    newpoly.coefficients[k] += self.coefficients[n] * other.coefficients[m]\n",
    "                    \n",
    "        else:\n",
    "            try:\n",
    "                fac = numpy.float64(other)\n",
    "            except:\n",
    "                return NotImplemented\n",
    "\n",
    "            neworder = self.getorder() \n",
    "            newpoly = Polynomial(neworder)\n",
    "            \n",
    "            for n in range(0,self.getorder()+1):\n",
    "                newpoly.coefficients[n] = self.coefficients[n] *  fac\n",
    "\n",
    "                    \n",
    "        return newpoly\n",
    "\n",
    "\n",
    "    def __rmul__(self, other):\n",
    "        \"Reflective operator *\"\n",
    "        return self.__mul__(other)\n",
    "\n",
    "\n",
    "    def __getitem__(self,n):\n",
    "        \"Operator [] (read)\"\n",
    "        return self.coefficients[n]\n",
    "\n",
    "\n",
    "    def __setitem__(self,n, val):  \n",
    "        \"Operator [] (write)\"\n",
    "        self.coefficients[n] = val\n",
    "        \n",
    "\n",
    "    def __call__(self,x):\n",
    "        \"Behave like a function: evaluate the polynominal at position x\"\n",
    "        val = numpy.double(0.0)\n",
    "        for n in range(0,self.getorder()+1):\n",
    "            val = val + self.coefficients[n]*x**n\n",
    "            \n",
    "        return val\n",
    "    \n",
    "    \n",
    "    def getorder(self):\n",
    "        return self.__order\n",
    "        \n",
    "        \n",
    "\n",
    "        "
   ]
  },
  {
   "cell_type": "code",
   "execution_count": 2,
   "metadata": {},
   "outputs": [
    {
     "name": "stdout",
     "output_type": "stream",
     "text": [
      "Polynomial, order: 2\n",
      "             poly: 0.0 x^2 + 0.0 x^1 + 0.0 x^0\n",
      "Polynomial, order: 3\n",
      "             poly: 0.0 x^3 + 0.0 x^2 + 0.0 x^1 + 0.0 x^0\n"
     ]
    }
   ],
   "source": [
    "# Create two polynomials of order 2 and 3:\n",
    "\n",
    "P2 = Polynomial(2)\n",
    "P3 = Polynomial(3)\n",
    "\n",
    "print(P2)\n",
    "print(P3)"
   ]
  },
  {
   "cell_type": "code",
   "execution_count": 3,
   "metadata": {},
   "outputs": [
    {
     "ename": "AttributeError",
     "evalue": "'Polynomial' object has no attribute '__order'",
     "output_type": "error",
     "traceback": [
      "\u001b[0;31m---------------------------------------------------------------------------\u001b[0m",
      "\u001b[0;31mAttributeError\u001b[0m                            Traceback (most recent call last)",
      "\u001b[0;32m/tmp/ipykernel_5000/441025118.py\u001b[0m in \u001b[0;36m<module>\u001b[0;34m\u001b[0m\n\u001b[1;32m      1\u001b[0m \u001b[0;31m# the __order member is private:\u001b[0m\u001b[0;34m\u001b[0m\u001b[0;34m\u001b[0m\u001b[0;34m\u001b[0m\u001b[0m\n\u001b[1;32m      2\u001b[0m \u001b[0;34m\u001b[0m\u001b[0m\n\u001b[0;32m----> 3\u001b[0;31m \u001b[0mprint\u001b[0m\u001b[0;34m(\u001b[0m\u001b[0mP2\u001b[0m\u001b[0;34m.\u001b[0m\u001b[0m__order\u001b[0m\u001b[0;34m)\u001b[0m\u001b[0;34m\u001b[0m\u001b[0;34m\u001b[0m\u001b[0m\n\u001b[0m",
      "\u001b[0;31mAttributeError\u001b[0m: 'Polynomial' object has no attribute '__order'"
     ]
    }
   ],
   "source": [
    "# the __order member is private:\n",
    "\n",
    "print(P2.__order)"
   ]
  },
  {
   "cell_type": "code",
   "execution_count": 4,
   "metadata": {},
   "outputs": [
    {
     "name": "stdout",
     "output_type": "stream",
     "text": [
      "2\n"
     ]
    }
   ],
   "source": [
    "# the __order member is private:\n",
    "# order must be accessed with a member function\n",
    "\n",
    "print(P2.getorder())"
   ]
  },
  {
   "cell_type": "code",
   "execution_count": 5,
   "metadata": {},
   "outputs": [
    {
     "name": "stdout",
     "output_type": "stream",
     "text": [
      "Polynomial, order: 2\n",
      "             poly: 1.0 x^2 + 0.0 x^1 + 0.0 x^0\n"
     ]
    }
   ],
   "source": [
    "# set some coefficoients:\n",
    "# uses __setitem__()\n",
    "\n",
    "P2[2] = 1\n",
    "print(P2)"
   ]
  },
  {
   "cell_type": "code",
   "execution_count": 6,
   "metadata": {},
   "outputs": [
    {
     "name": "stdout",
     "output_type": "stream",
     "text": [
      "Polynomial, order: 3\n",
      "             poly: 4.0 x^3 + 2.0 x^2 + 1.0 x^1 + 0.0 x^0\n"
     ]
    }
   ],
   "source": [
    "# we can use slices\n",
    "# uses __setitem__()\n",
    "\n",
    "P3[1:4] = [1,2,4]\n",
    "print(P3)"
   ]
  },
  {
   "cell_type": "code",
   "execution_count": 7,
   "metadata": {},
   "outputs": [
    {
     "name": "stdout",
     "output_type": "stream",
     "text": [
      "[1. 2. 4.]\n"
     ]
    }
   ],
   "source": [
    "# Reating with []\n",
    "# uses __getitem__()\n",
    "\n",
    "print(P3[1:4])\n"
   ]
  },
  {
   "cell_type": "code",
   "execution_count": 8,
   "metadata": {},
   "outputs": [
    {
     "name": "stdout",
     "output_type": "stream",
     "text": [
      "Polynomial, order: 3\n",
      "             poly: 4.0 x^3 + 3.0 x^2 + 1.0 x^1 + 0.0 x^0\n"
     ]
    }
   ],
   "source": [
    "# using __add__()\n",
    "# this calls P2.__add__(P3)\n",
    "\n",
    "P4 = P2 + P3\n",
    "print(P4)"
   ]
  },
  {
   "cell_type": "code",
   "execution_count": 9,
   "metadata": {},
   "outputs": [
    {
     "name": "stdout",
     "output_type": "stream",
     "text": [
      "Polynomial, order: 3\n",
      "             poly: -4.0 x^3 + -1.0 x^2 + -1.0 x^1 + 0.0 x^0\n"
     ]
    }
   ],
   "source": [
    "# using __sub__()\n",
    "# this calls P2.__sub__(P3)\n",
    "\n",
    "P4 = P2 - P3\n",
    "print(P4)"
   ]
  },
  {
   "cell_type": "code",
   "execution_count": 10,
   "metadata": {},
   "outputs": [
    {
     "name": "stdout",
     "output_type": "stream",
     "text": [
      "Polynomial, order: 2\n",
      "             poly: 3.0 x^2 + 0.0 x^1 + 0.0 x^0\n"
     ]
    }
   ],
   "source": [
    "# using __mul__()\n",
    "# this calls P2.__mul__(3)\n",
    "\n",
    "P4 = P2 * 3\n",
    "print(P4)"
   ]
  },
  {
   "cell_type": "code",
   "execution_count": 11,
   "metadata": {},
   "outputs": [
    {
     "name": "stdout",
     "output_type": "stream",
     "text": [
      "Polynomial, order: 5\n",
      "             poly: 4.0 x^5 + 2.0 x^4 + 1.0 x^3 + 0.0 x^2 + 0.0 x^1 + 0.0 x^0\n"
     ]
    }
   ],
   "source": [
    "# using __mul__()\n",
    "# this calls P2.__mul__(P3)\n",
    "\n",
    "P4 = P2 * P3\n",
    "print(P4)"
   ]
  },
  {
   "cell_type": "code",
   "execution_count": 12,
   "metadata": {},
   "outputs": [
    {
     "name": "stdout",
     "output_type": "stream",
     "text": [
      "Polynomial, order: 3\n",
      "             poly: 12.0 x^3 + 6.0 x^2 + 3.0 x^1 + 0.0 x^0\n"
     ]
    }
   ],
   "source": [
    "# using __rmul__()\n",
    "\n",
    "# this really calls 3.__mul__(P3) first\n",
    "# what returns a NotImplemented error as type <int> does \n",
    "# not know how to multipy itself with type Polynomial\n",
    "# Python then tries to call P3.__rmul__(3)\n",
    "\n",
    "P4 = 3*P3\n",
    "print(P4)"
   ]
  },
  {
   "cell_type": "code",
   "execution_count": 13,
   "metadata": {},
   "outputs": [
    {
     "data": {
      "text/plain": [
       "False"
      ]
     },
     "execution_count": 13,
     "metadata": {},
     "output_type": "execute_result"
    }
   ],
   "source": [
    "# using __eq__()\n",
    "\n",
    "P4 == P3"
   ]
  },
  {
   "cell_type": "code",
   "execution_count": 14,
   "metadata": {},
   "outputs": [
    {
     "data": {
      "text/plain": [
       "True"
      ]
     },
     "execution_count": 14,
     "metadata": {},
     "output_type": "execute_result"
    }
   ],
   "source": [
    "P4 == 3*P3"
   ]
  },
  {
   "cell_type": "code",
   "execution_count": 15,
   "metadata": {},
   "outputs": [
    {
     "ename": "TypeError",
     "evalue": "can't multiply sequence by non-int of type 'Polynomial'",
     "output_type": "error",
     "traceback": [
      "\u001b[0;31m---------------------------------------------------------------------------\u001b[0m",
      "\u001b[0;31mTypeError\u001b[0m                                 Traceback (most recent call last)",
      "\u001b[0;32m/tmp/ipykernel_5000/3856026027.py\u001b[0m in \u001b[0;36m<module>\u001b[0;34m\u001b[0m\n\u001b[1;32m      5\u001b[0m \u001b[0;31m# know how to multipy with class Polynomial\u001b[0m\u001b[0;34m\u001b[0m\u001b[0;34m\u001b[0m\u001b[0;34m\u001b[0m\u001b[0m\n\u001b[1;32m      6\u001b[0m \u001b[0;34m\u001b[0m\u001b[0m\n\u001b[0;32m----> 7\u001b[0;31m \u001b[0mP2\u001b[0m\u001b[0;34m*\u001b[0m\u001b[0;34m\"hello world\"\u001b[0m\u001b[0;34m\u001b[0m\u001b[0;34m\u001b[0m\u001b[0m\n\u001b[0m",
      "\u001b[0;31mTypeError\u001b[0m: can't multiply sequence by non-int of type 'Polynomial'"
     ]
    }
   ],
   "source": [
    "# this calles P2.__mul__() which \n",
    "# returns NotImplemented so python tries\n",
    "# \"hello world\"*P2 which also fails\n",
    "# because class string does not \n",
    "# know how to multipy with class Polynomial \n",
    "\n",
    "P2*\"hello world\""
   ]
  },
  {
   "cell_type": "code",
   "execution_count": null,
   "metadata": {},
   "outputs": [],
   "source": [
    "# behave like a function\n",
    "# uses P3.__call__() to return value of P3 at x\n",
    "\n",
    "x = 1.0\n",
    "y = P3(x)\n",
    "print(y)"
   ]
  },
  {
   "cell_type": "markdown",
   "metadata": {},
   "source": [
    "## Example: create the first N Legendre polynomials with recursion \n",
    "    \n",
    "Legendre polynomials can be created with a simple recursion rule:\n",
    "\n",
    "\\begin{align}\n",
    "L_0(x) &= 1 \\\\\n",
    "L_1(x) &= x \\\\\n",
    "\\ldots&\\\\\n",
    "nL_{n}(x) &= (2n-1)xL_{n-1}(x)-(n-1)L_{n-2}(x)\n",
    "\\end{align}"
   ]
  },
  {
   "cell_type": "code",
   "execution_count": 16,
   "metadata": {},
   "outputs": [],
   "source": [
    "# constant. polynomial 1\n",
    "L0 = Polynomial(0)\n",
    "L0[0] = 1 # calls __setitem__()\n",
    "\n",
    "# linear polynomial x\n",
    "L1 = Polynomial(1)\n",
    "L1[1] = 1\n",
    "    \n",
    "# list of legendre polynomials  \n",
    "leg = [L0, L1]\n",
    "\n",
    "# \n",
    "x=Polynomial(1)\n",
    "x[1] = 1\n",
    "\n",
    "N = 12\n",
    "# use recursion to create the first N Legendre polynomials\n",
    "for n in range(2,N):\n",
    "    # uses __rmul__(), __mul__() and __sub__()\n",
    "    \n",
    "    L = leg[n-1] * x * ((2*n - 1)/n) - ((n - 1)/n) * leg[n-2]\n",
    "    leg.append(L)"
   ]
  },
  {
   "cell_type": "code",
   "execution_count": 17,
   "metadata": {},
   "outputs": [],
   "source": [
    "# plot the N-1th Legendre polynomial\n",
    "\n",
    "npoints = 150\n",
    "x = numpy.linspace(-.99,.99,npoints)\n",
    "\n",
    "# uses __call__()\n",
    "Leg11 = leg[N-1](x)"
   ]
  },
  {
   "cell_type": "code",
   "execution_count": 18,
   "metadata": {},
   "outputs": [
    {
     "data": {
      "image/png": "[encoded data removed]",
      "text/plain": [
       "<Figure size 1152x648 with 1 Axes>"
      ]
     },
     "metadata": {
      "needs_background": "light"
     },
     "output_type": "display_data"
    }
   ],
   "source": [
    "#let's plot the results and compare to scipy Legendre\n",
    "import matplotlib.pyplot as plt\n",
    "from scipy.special import legendre\n",
    "\n",
    "Leg11scipy = legendre(N-1)(x)\n",
    "\n",
    "\n",
    "mf=16\n",
    "fig, ax = plt.subplots(figsize=(16,9))\n",
    "ax.plot(x,Leg11,marker='*',label=r'$L_{11}$')\n",
    "ax.plot(x,Leg11scipy,marker='',label=r'$L_{11} (scipy)$')\n",
    "\n",
    "ax.legend(handlelength=1, handletextpad=0.4,frameon=False,\n",
    "              loc=\"best\", prop={'size': 15})\n",
    "\n",
    "ax.yaxis.set_tick_params(labelsize=mf)\n",
    "ax.set_ylabel('$L_{11}(x)$',fontsize=mf)\n",
    "ax.xaxis.set_tick_params(labelsize=mf)\n",
    "ax.set_xlabel('$x$',fontsize=mf)\n",
    "plt.show()"
   ]
  },
  {
   "cell_type": "markdown",
   "metadata": {},
   "source": [
    "# Task:\n",
    "Create your own class `Rational` that implements a type for rational numbers of the form $\\frac{N}{M}$ where $N$ and $M$ are integers. Implement the `__mul__`, `__rmul__` operations for two objects of type `Rational` or `integer` and `Rational`. Do some research and and implement the devision operator `/` for two objects of type `Rational` or `integer` and `Rational`. Make sure that the integers $M$ and $N$ stay as small as possible.\n",
    "\n",
    "Optional: Implement other arythmetic operators (`+`, `-`, `+=`,...), comparisons (`==`, `!=`, `<`,...) etc. or extend the `Polynomial` class above. "
   ]
  }
 ],
 "metadata": {
  "kernelspec": {
   "display_name": "Python 3 (ipykernel)",
   "language": "python",
   "name": "python3"
  },
  "language_info": {
   "codemirror_mode": {
    "name": "ipython",
    "version": 3
   },
   "file_extension": ".py",
   "mimetype": "text/x-python",
   "name": "python",
   "nbconvert_exporter": "python",
   "pygments_lexer": "ipython3",
   "version": "3.9.5"
  }
 },
 "nbformat": 4,
 "nbformat_minor": 4
}
